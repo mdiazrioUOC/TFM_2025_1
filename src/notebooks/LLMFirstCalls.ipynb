{
 "cells": [
  {
   "cell_type": "markdown",
   "metadata": {},
   "source": [
    "# Conexión con LLM"
   ]
  },
  {
   "cell_type": "code",
   "execution_count": 1,
   "metadata": {},
   "outputs": [
    {
     "name": "stderr",
     "output_type": "stream",
     "text": [
      "/Users/malenadiazrio/Documents/UOC/TFM/TFM_2025_1/.venv/lib/python3.11/site-packages/tqdm/auto.py:21: TqdmWarning: IProgress not found. Please update jupyter and ipywidgets. See https://ipywidgets.readthedocs.io/en/stable/user_install.html\n",
      "  from .autonotebook import tqdm as notebook_tqdm\n"
     ]
    }
   ],
   "source": [
    "import os\n",
    "import re\n",
    "import json\n",
    "import pandas as pd\n",
    "from dotenv import load_dotenv\n",
    "from langchain_chroma import Chroma\n",
    "from langchain.chat_models import ChatOpenAI\n",
    "from langchain_voyageai import VoyageAIEmbeddings\n",
    "from langchain_core.prompts import PromptTemplate"
   ]
  },
  {
   "cell_type": "code",
   "execution_count": 4,
   "metadata": {},
   "outputs": [
    {
     "data": {
      "text/plain": [
       "True"
      ]
     },
     "execution_count": 4,
     "metadata": {},
     "output_type": "execute_result"
    }
   ],
   "source": [
    "load_dotenv(override=True)"
   ]
  },
  {
   "cell_type": "code",
   "execution_count": 8,
   "metadata": {},
   "outputs": [],
   "source": [
    "RESOURCES_DIR=\"../../resources\"\n",
    "llm = ChatOpenAI(model=\"o4-mini\")\n",
    "embeddings_model = VoyageAIEmbeddings(model=\"voyage-3\")"
   ]
  },
  {
   "cell_type": "markdown",
   "metadata": {},
   "source": [
    "Definir la prompt"
   ]
  },
  {
   "cell_type": "code",
   "execution_count": 6,
   "metadata": {},
   "outputs": [],
   "source": [
    "prompt = \"\"\"Revisa cuidadosamente cada frase de la nota clínica para identificar términos relacionados con patrones de herencia genética, anomalías anatómicas, síntomas clínicos, hallazgos diagnósticos, resultados de pruebas y afecciones o síndromes específicos.\n",
    "Ignora por completo los hallazgos negativos, los hallazgos normales (es decir, «normal» o «no»), los procedimientos y los antecedentes familiares. Incluye el contexto apropiado basándote únicamente en el pasaje.\n",
    "Devuelve los términos extraídos en un objeto JSON con una única clave 'fenotipos', que contiene la lista de términos extraídos escritos correctamente. Asegúrate de que el resultado sea conciso, sin notas, comentarios ni metaexplicaciones adicionales. No dejes fuera adjetivos críticos para ese fenotipo.\n",
    "Nota clínica: {clinical_note}\"\"\""
   ]
  },
  {
   "cell_type": "code",
   "execution_count": 162,
   "metadata": {},
   "outputs": [],
   "source": [
    "prompt = PromptTemplate.from_template(prompt)"
   ]
  },
  {
   "cell_type": "markdown",
   "metadata": {},
   "source": [
    "Definir la entrada"
   ]
  },
  {
   "cell_type": "code",
   "execution_count": 7,
   "metadata": {},
   "outputs": [
    {
     "data": {
      "text/html": [
       "<div>\n",
       "<style scoped>\n",
       "    .dataframe tbody tr th:only-of-type {\n",
       "        vertical-align: middle;\n",
       "    }\n",
       "\n",
       "    .dataframe tbody tr th {\n",
       "        vertical-align: top;\n",
       "    }\n",
       "\n",
       "    .dataframe thead th {\n",
       "        text-align: right;\n",
       "    }\n",
       "</style>\n",
       "<table border=\"1\" class=\"dataframe\">\n",
       "  <thead>\n",
       "    <tr style=\"text-align: right;\">\n",
       "      <th></th>\n",
       "      <th>texts</th>\n",
       "      <th>annotations</th>\n",
       "    </tr>\n",
       "  </thead>\n",
       "  <tbody>\n",
       "    <tr>\n",
       "      <th>0</th>\n",
       "      <td>Un hombre de 44 años con obesidad mórbida e ín...</td>\n",
       "      <td>[HP:0001513, HP:0004394, HP:0005227, HP:001218...</td>\n",
       "    </tr>\n",
       "    <tr>\n",
       "      <th>1</th>\n",
       "      <td>Un hombre de 32 años acudió a una unidad regio...</td>\n",
       "      <td>[HP:0001903, HP:0003406, HP:0012185, HP:000439...</td>\n",
       "    </tr>\n",
       "  </tbody>\n",
       "</table>\n",
       "</div>"
      ],
      "text/plain": [
       "                                               texts  \\\n",
       "0  Un hombre de 44 años con obesidad mórbida e ín...   \n",
       "1  Un hombre de 32 años acudió a una unidad regio...   \n",
       "\n",
       "                                         annotations  \n",
       "0  [HP:0001513, HP:0004394, HP:0005227, HP:001218...  \n",
       "1  [HP:0001903, HP:0003406, HP:0012185, HP:000439...  "
      ]
     },
     "execution_count": 7,
     "metadata": {},
     "output_type": "execute_result"
    }
   ],
   "source": [
    "test_df = pd.read_csv(\"../../datasets/TFM_test.csv\")\n",
    "test_df.annotations = test_df.annotations.apply(eval)\n",
    "test_df.head(2)"
   ]
  },
  {
   "cell_type": "code",
   "execution_count": null,
   "metadata": {},
   "outputs": [],
   "source": [
    "clinical_note = test_df.texts.iloc[0]\n",
    "hpo_codes = test_df.annotations.iloc[0]\n",
    "clinical_note"
   ]
  },
  {
   "cell_type": "markdown",
   "metadata": {},
   "source": [
    "Primera llamada al LLM"
   ]
  },
  {
   "cell_type": "code",
   "execution_count": 163,
   "metadata": {},
   "outputs": [],
   "source": [
    "chain = prompt | llm\n",
    "answer = chain.invoke(\n",
    "    {\n",
    "        \"clinical_note\": clinical_note,\n",
    "    }\n",
    ")"
   ]
  },
  {
   "cell_type": "code",
   "execution_count": 164,
   "metadata": {},
   "outputs": [],
   "source": [
    "def load_content(answer):\n",
    "    clean_str = \"\".join(answer.content.split(\"{\")[1:])\n",
    "    clean_str = \"\".join(clean_str.split(\"}\")[:-1])\n",
    "    clean_str = '{' + clean_str + '}'\n",
    "    return json.loads(clean_str)"
   ]
  },
  {
   "cell_type": "code",
   "execution_count": 165,
   "metadata": {},
   "outputs": [],
   "source": [
    "fenotipos = load_content(answer)['fenotipos']"
   ]
  },
  {
   "cell_type": "markdown",
   "metadata": {},
   "source": [
    "RAG"
   ]
  },
  {
   "cell_type": "code",
   "execution_count": 2,
   "metadata": {},
   "outputs": [
    {
     "ename": "NameError",
     "evalue": "name 'Chroma' is not defined",
     "output_type": "error",
     "traceback": [
      "\u001b[31m---------------------------------------------------------------------------\u001b[39m",
      "\u001b[31mNameError\u001b[39m                                 Traceback (most recent call last)",
      "\u001b[36mCell\u001b[39m\u001b[36m \u001b[39m\u001b[32mIn[2]\u001b[39m\u001b[32m, line 1\u001b[39m\n\u001b[32m----> \u001b[39m\u001b[32m1\u001b[39m vectordb = \u001b[43mChroma\u001b[49m(persist_directory=\u001b[33m\"\u001b[39m\u001b[33m../../chroma_db/Voyage3\u001b[39m\u001b[33m\"\u001b[39m, embedding_function=embeddings_model, \n\u001b[32m      2\u001b[39m                   collection_name=\u001b[33m\"\u001b[39m\u001b[33mhpo_ontology_esp\u001b[39m\u001b[33m\"\u001b[39m)\n",
      "\u001b[31mNameError\u001b[39m: name 'Chroma' is not defined"
     ]
    }
   ],
   "source": [
    "vectordb = Chroma(persist_directory=\"../../chroma_db/Voyage3\", embedding_function=embeddings_model, \n",
    "                  collection_name=\"hpo_ontology_esp\")"
   ]
  },
  {
   "cell_type": "code",
   "execution_count": 168,
   "metadata": {},
   "outputs": [],
   "source": [
    "candidatos = []\n",
    "for fenotipo in fenotipos:\n",
    "    candidatos.append(vectordb.similarity_search_with_score(fenotipo, k=10))"
   ]
  },
  {
   "cell_type": "code",
   "execution_count": 64,
   "metadata": {},
   "outputs": [
    {
     "data": {
      "text/plain": [
       "['HP:0045083', 'HP:0001513', 'HP:0031418', 'HP:0025502']"
      ]
     },
     "execution_count": 64,
     "metadata": {},
     "output_type": "execute_result"
    }
   ],
   "source": [
    "[document[0].id for document in candidatos[0]]"
   ]
  },
  {
   "cell_type": "markdown",
   "metadata": {},
   "source": [
    "Segunda llamada al LLM"
   ]
  },
  {
   "cell_type": "code",
   "execution_count": null,
   "metadata": {},
   "outputs": [],
   "source": [
    "prompt = \"\"\"Identifica el término de la Ontología de Fenotipos Humanos (HPO) más apropiado para cada extracto de las notas clínicas del paciente a partir de una lista de candidatos (Código HPO - Descripción).\n",
    "Da prioridad a los términos que sean concisos y directamente pertinentes para el síntoma o afección principal descritos. \n",
    "Céntrate en el tema central de cada frase y evita seleccionar opciones con detalles descriptivos o situacionales adicionales a menos que sean esenciales para captar con precisión el fenotipo. \n",
    "Asegúrate de que el término HPO elegido coincide estrechamente con la afección del paciente tal como se describe, sin añadir términos nuevos o extraños. \n",
    "Si hay varios candidatos, selecciona y devuelve el término HPO más pertinente que mejor represente la afección o síntoma primario. Proporciona sólo los códigos HPO elegidos en un json en formato lista con la clave \"hpo_code\", sin contexto ni comentarios adicionales.\"\"\""
   ]
  },
  {
   "cell_type": "code",
   "execution_count": 96,
   "metadata": {},
   "outputs": [],
   "source": [
    "context = \"\"\n",
    "for fenotipo, candidato in zip(fenotipos, candidatos):\n",
    "    lista_candidatos = [f\"{doc[0].id} - {doc[0].page_content}\\n\" for doc in candidato]\n",
    "    context += f\"\"\"{fenotipo} \n",
    "Candidatos: {lista_candidatos}\n",
    "\n",
    "\"\"\""
   ]
  },
  {
   "cell_type": "code",
   "execution_count": 153,
   "metadata": {},
   "outputs": [
    {
     "name": "stdout",
     "output_type": "stream",
     "text": [
      "obesidad mórbida \n",
      "Candidatos: ['HP:0045083 - obsoleto Aumento del índice de masa corporal.\\n', 'HP:0001513 - Obesidad. Acumulación de un exceso considerable de grasa corporal.\\n', 'HP:0031418 - Aumento del índice de masa corporal. Relación peso/altura al cuadrado anormalmente elevada, calculada dividiendo el peso del individuo en kilogramos por el cuadrado de la altura del individuo en metros y utilizada como indicador de sobrepeso en comparación con las medias.\\n', 'HP:0025502 - Exceso de peso. Aumento del peso corporal con un índice de masa corporal de 25-29,9 kg por metro cuadrado.\\n']\n",
      "\n",
      "pólipos adenomatosos de la glándula fúndica \n",
      "Candidatos: ['HP:0033769 - Poliposis de las glándulas fúndicas. Múltiples pólipos en la mucosa secretora de ácido del cuerpo gástrico y el fundus. Los pólipos de la glándula fúndica (PGF) suelen tener un tamaño de 1 a 5 mm, aunque se han encontrado pólipos de mayor tamaño. Suelen ser sésiles, brillantes, translúcidos, de color pálido a rosado (parecido al de la mucosa circundante) y a menudo presentan pequeños vasos sanguíneos superficiales. Se ha observado que, a diferencia de otros tipos de pólipos gástricos, estos pólipos se astillan o se desprenden por completo de la base cuando se extraen con pinzas frías.\\n', 'HP:0004795 - Pólipos estomacales hamartomatosos. Protuberancias similares a pólipos que histológicamente son hamartomas localizados en el estómago.\\n', 'HP:0034704 - Adenocarcinoma de glándula parótida. Un adenocarcinoma que surge de la glándula parótida.\\n', 'HP:0025198 - Pólipo inflamatorio con \"capuchón\". Pólipo sésil o pediculado no maligno en el colon y el recto que presenta una cubierta de tejido de granulación inflamatorio con exudado fibrinopurulento que recubre el pólipo.\\n']\n",
      "\n",
      "innumerables pólipos en el fondo y cuerpo gástricos \n",
      "Candidatos: ['HP:0033769 - Poliposis de las glándulas fúndicas. Múltiples pólipos en la mucosa secretora de ácido del cuerpo gástrico y el fundus. Los pólipos de la glándula fúndica (PGF) suelen tener un tamaño de 1 a 5 mm, aunque se han encontrado pólipos de mayor tamaño. Suelen ser sésiles, brillantes, translúcidos, de color pálido a rosado (parecido al de la mucosa circundante) y a menudo presentan pequeños vasos sanguíneos superficiales. Se ha observado que, a diferencia de otros tipos de pólipos gástricos, estos pólipos se astillan o se desprenden por completo de la base cuando se extraen con pinzas frías.\\n', 'HP:0004795 - Pólipos estomacales hamartomatosos. Protuberancias similares a pólipos que histológicamente son hamartomas localizados en el estómago.\\n', 'HP:6000249 - Pliegues gástricos agrandados. Los pliegues gástricos gigantes se reconocen en la endoscopia como un aumento del tamaño de las rugas gástricas y una falta de aplanamiento.\\n', 'HP:0004394 - Pólipos gástricos múltiples.\\n']\n",
      "\n",
      "pólipos de glándula fúndica \n",
      "Candidatos: ['HP:0033769 - Poliposis de las glándulas fúndicas. Múltiples pólipos en la mucosa secretora de ácido del cuerpo gástrico y el fundus. Los pólipos de la glándula fúndica (PGF) suelen tener un tamaño de 1 a 5 mm, aunque se han encontrado pólipos de mayor tamaño. Suelen ser sésiles, brillantes, translúcidos, de color pálido a rosado (parecido al de la mucosa circundante) y a menudo presentan pequeños vasos sanguíneos superficiales. Se ha observado que, a diferencia de otros tipos de pólipos gástricos, estos pólipos se astillan o se desprenden por completo de la base cuando se extraen con pinzas frías.\\n', 'HP:0004795 - Pólipos estomacales hamartomatosos. Protuberancias similares a pólipos que histológicamente son hamartomas localizados en el estómago.\\n', 'HP:0025198 - Pólipo inflamatorio con \"capuchón\". Pólipo sésil o pediculado no maligno en el colon y el recto que presenta una cubierta de tejido de granulación inflamatorio con exudado fibrinopurulento que recubre el pólipo.\\n', 'HP:0200063 - Pólipos colorrectales. Múltiples crecimientos anormales que surgen del revestimiento del intestino grueso (colon o recto) y sobresalen en la luz intestinal.\\n']\n",
      "\n",
      "esófago de Barrett \n",
      "Candidatos: ['HP:0100580 - Esófago de Barrett. Cambio anormal (metaplasia) en las células de la porción inferior del esófago. El epitelio escamoso normal que recubre el esófago es sustituido por epitelio columnar metaplásico. El epitelio columnar es un tipo de célula que suele encontrarse en las partes más distales del sistema gastrointestinal.\\n', 'HP:6000382 - Esófago corto. Reducción anormal de la longitud del esófago.\\n', 'HP:0002031 - Anomalía del esófago. Anomalía estructural del esófago.\\n', 'HP:0100594 - Membranas esofágicas. Finas membranas (2-3 mm) de tejido esofágico normal formadas por mucosa y submucosa que pueden ser congénitas o adquiridas. Las membranas congénitas suelen aparecer en el tercio medio e inferior del esófago y es más probable que sean circunferenciales con un orificio central o excéntrico. Las telarañas adquiridas son mucho más frecuentes que las congénitas y suelen aparecer en la zona cervical (postcricoides). Los síntomas clínicos de esta afección son disfagia selectiva (sólidos más que líquidos), dolor torácico, reflujo nasofaríngeo, aspiración, perforación e impactación alimentaria (los dos últimos son muy raros).\\n']\n",
      "\n",
      "innumerables pólipos de diversos tamaños en el colon \n",
      "Candidatos: ['HP:0012183 - Poliposis colónica hiperplásica. Presencia de múltiples pólipos hiperplásicos en el colon. Los pólipos hiperplásicos suelen tener un tamaño de unos 5 mm y muestran una proliferación hiperplásica de la mucosa.\\n', 'HP:0200063 - Pólipos colorrectales. Múltiples crecimientos anormales que surgen del revestimiento del intestino grueso (colon o recto) y sobresalen en la luz intestinal.\\n', 'HP:0005227 - Poliposis colónica adenomatosa. Presencia de múltiples pólipos adenomatosos en el colon.\\n', 'HP:0200008 - Poliposis intestinal. La presencia de múltiples pólipos en el intestino.\\n']\n",
      "\n",
      "adenoma tubular \n",
      "Candidatos: ['HP:0041050 - Quiste tubular renal. Dilatación tubular lumnal/prominencia revestida por una capa simple de células epiheliales tublares cuboidales a planas.\\n', 'HP:0032608 - Atrofia tubular de tipo tiroidización. Tipo de atrofia tubular renal caracterizada por un aspecto tiroideo, con pequeños túbulos redondos con epitelio marcadamente aplanado y simplificado y cilindros intratubulares uniformes.\\n', 'HP:0032609 - Atrofia tubular de tipo endocrino. Tipo de atrofia tubular renal caracterizada por el aspecto endocrino de los túbulos, que son pequeños y tienen luces estrechas, células claras y membranas basales relativamente finas.\\n', 'HP:6001040 - Adenoma del intestino delgado. Un tumor del intestino delgado con epitelio adenomatoso.\\n']\n",
      "\n",
      "pólipos hiperplásicos \n",
      "Candidatos: ['HP:0012183 - Poliposis colónica hiperplásica. Presencia de múltiples pólipos hiperplásicos en el colon. Los pólipos hiperplásicos suelen tener un tamaño de unos 5 mm y muestran una proliferación hiperplásica de la mucosa.\\n', 'HP:0004795 - Pólipos estomacales hamartomatosos. Protuberancias similares a pólipos que histológicamente son hamartomas localizados en el estómago.\\n', 'HP:0004390 - Pólipos hamartomatosos. Protuberancias similares a pólipos que histológicamente son hamartomas. Pueden aparecer en todo el tracto gastrointestinal. Los pólipos hamartomatosos están compuestos por los elementos celulares normales del tracto gastrointestinal, pero tienen una arquitectura marcadamente distorsionada.\\n', 'HP:0200063 - Pólipos colorrectales. Múltiples crecimientos anormales que surgen del revestimiento del intestino grueso (colon o recto) y sobresalen en la luz intestinal.\\n']\n",
      "\n",
      "masa mesentérica de 3,4 cm \n",
      "Candidatos: ['HP:0031500 - Masa abdominal. Agrandamiento o hinchazón anormal del abdomen.\\n', 'HP:6000171 - Masa en la pared abdominal. Aumento anormal de tamaño o hinchazón localizado en la pared abdominal (la piel, la fascia y el músculo que recubren la cavidad abdominal y las vísceras). La palabra masa suele utilizarse en una fase temprana del diagnóstico, antes de que se haya determinado la naturaleza exacta de la inflamación.\\n', 'HP:6001083 - Lesión masiva del hemisferio cerebral. Crecimiento anormal o acumulación de tejido en un hemisferio del cerebro. Por lo general, una masa es un hallazgo inicial que dará lugar a estudios adicionales.\\n', 'HP:6001085 - Lesión masiva de la fosa posterior. Crecimiento anormal o acumulación de tejido en la fosa posterior que afecta al cerebelo o al cuarto ventrículo. Por lo general, una masa es un hallazgo inicial que dará lugar a estudios adicionales.\\n']\n",
      "\n",
      "\n"
     ]
    }
   ],
   "source": [
    "print(context)"
   ]
  },
  {
   "cell_type": "code",
   "execution_count": 99,
   "metadata": {},
   "outputs": [],
   "source": [
    "prompt = f\"\"\"{prompt}\n",
    "Fenotipos: \n",
    "{context}\"\"\""
   ]
  },
  {
   "cell_type": "code",
   "execution_count": 102,
   "metadata": {},
   "outputs": [],
   "source": [
    "response = llm.invoke(prompt)"
   ]
  },
  {
   "cell_type": "code",
   "execution_count": 110,
   "metadata": {},
   "outputs": [
    {
     "data": {
      "text/plain": [
       "['HP:0001513',\n",
       " 'HP:0033769',\n",
       " 'HP:0004394',\n",
       " 'HP:0033769',\n",
       " 'HP:0100580',\n",
       " 'HP:0200063',\n",
       " 'HP:0005227',\n",
       " 'HP:6001040',\n",
       " 'HP:0012183',\n",
       " 'HP:0031500']"
      ]
     },
     "execution_count": 110,
     "metadata": {},
     "output_type": "execute_result"
    }
   ],
   "source": [
    "codigos_hpo = load_content(response)[\"hpo_code\"]\n",
    "codigos_hpo"
   ]
  },
  {
   "cell_type": "code",
   "execution_count": 126,
   "metadata": {},
   "outputs": [
    {
     "name": "stdout",
     "output_type": "stream",
     "text": [
      "\n",
      "Sobran: {'HP:6001040', 'HP:0200063'}\n",
      "Faltan: {'HP:0025501'}\n",
      "\n"
     ]
    }
   ],
   "source": [
    "print(f\"\"\"\n",
    "Sobran: {set(codigos_hpo) - set(hpo_codes)}\n",
    "Faltan: {set(hpo_codes) - set(codigos_hpo)}\n",
    "\"\"\")"
   ]
  },
  {
   "cell_type": "code",
   "execution_count": 136,
   "metadata": {},
   "outputs": [],
   "source": [
    "with open(os.path.join(RESOURCES_DIR, \"hpo_es.json\"), \"r\") as fp:\n",
    "    hpo = json.load(fp)"
   ]
  },
  {
   "cell_type": "code",
   "execution_count": 151,
   "metadata": {},
   "outputs": [],
   "source": [
    "codigos_predichos = {doc.id:doc.page_content for doc in  vectordb.get_by_ids(set(codigos_hpo))}\n",
    "codigos_reales = {doc.id:doc.page_content for doc in  vectordb.get_by_ids(set(hpo_codes))}"
   ]
  },
  {
   "cell_type": "code",
   "execution_count": 156,
   "metadata": {},
   "outputs": [
    {
     "data": {
      "text/plain": [
       "'Pólipos colorrectales. Múltiples crecimientos anormales que surgen del revestimiento del intestino grueso (colon o recto) y sobresalen en la luz intestinal.'"
      ]
     },
     "execution_count": 156,
     "metadata": {},
     "output_type": "execute_result"
    }
   ],
   "source": [
    "codigos_predichos['HP:0200063']"
   ]
  },
  {
   "cell_type": "code",
   "execution_count": 172,
   "metadata": {},
   "outputs": [],
   "source": [
    "hpo_codigos_candidatos = []\n",
    "for candidato in candidatos[0]:\n",
    "    hpo_codigos_candidatos.append( candidato[0].id )"
   ]
  },
  {
   "cell_type": "code",
   "execution_count": 175,
   "metadata": {},
   "outputs": [
    {
     "data": {
      "text/plain": [
       "{'HP:0001513': 'Obesidad. Acumulación de un exceso considerable de grasa corporal.',\n",
       " 'HP:0001956': 'Obesidad troncal. Obesidad localizada preferentemente en el tronco del cuerpo frente a las extremidades.',\n",
       " 'HP:0004323': 'Anomalía del peso corporal. Aumento o disminución anormal del peso o distribución anormal de la masa corporal.',\n",
       " 'HP:0004324': 'Aumento de peso corporal. Aumento anormal del peso corporal.',\n",
       " 'HP:0012743': 'Obesidad abdominal. Exceso de grasa alrededor del estómago y el abdomen.',\n",
       " 'HP:0025499': 'Obesidad clase I. Obesidad con un índice de masa corporal de 30 a 34,9 kg por metro cuadrado.',\n",
       " 'HP:0025502': 'Exceso de peso. Aumento del peso corporal con un índice de masa corporal de 25-29,9 kg por metro cuadrado.',\n",
       " 'HP:0025521': 'Aumento del porcentaje de grasa corporal. Porcentaje de grasa en relación con el peso corporal total superior a la norma, que suele definirse como el 32% para las mujeres y el 25% para los hombres.',\n",
       " 'HP:0031418': 'Aumento del índice de masa corporal. Relación peso/altura al cuadrado anormalmente elevada, calculada dividiendo el peso del individuo en kilogramos por el cuadrado de la altura del individuo en metros y utilizada como indicador de sobrepeso en comparación con las medias.',\n",
       " 'HP:0045083': 'obsoleto Aumento del índice de masa corporal.'}"
      ]
     },
     "execution_count": 175,
     "metadata": {},
     "output_type": "execute_result"
    }
   ],
   "source": [
    "codigos_reales = {doc.id:doc.page_content for doc in  vectordb.get_by_ids(set(hpo_codigos_candidatos))}\n",
    "codigos_reales"
   ]
  },
  {
   "cell_type": "code",
   "execution_count": 169,
   "metadata": {},
   "outputs": [
    {
     "name": "stdout",
     "output_type": "stream",
     "text": [
      "\n",
      "Sobran: {'HP:0045083', 'HP:0010294', 'HP:0031493', 'HP:6001040', 'HP:0011459', 'HP:0020127', 'HP:0032609', 'HP:0004323', 'HP:0006753', 'HP:0011762', 'HP:0012743', 'HP:0004390', 'HP:0031857', 'HP:0004783', 'HP:0012028', 'HP:0034704', 'HP:0030255', 'HP:0008682', 'HP:0025521', 'HP:0002031', 'HP:0004324', 'HP:6000249', 'HP:0012737', 'HP:6000307', 'HP:0032952', 'HP:0002729', 'HP:0033140', 'HP:6000171', 'HP:0025502', 'HP:0100594', 'HP:0012718', 'HP:6001085', 'HP:0025270', 'HP:0034246', 'HP:0033314', 'HP:0005238', 'HP:0025499', 'HP:0004795', 'HP:0001956', 'HP:0004295', 'HP:0030393', 'HP:0032608', 'HP:0200008', 'HP:0012198', 'HP:0041050', 'HP:0031548', 'HP:0034945', 'HP:6000382', 'HP:0200063', 'HP:6001083', 'HP:0025758', 'HP:0030256', 'HP:0025761', 'HP:0032222', 'HP:0031418', 'HP:0034479', 'HP:0025198', 'HP:0100896'}\n",
      "Faltan: {'HP:0025501'}\n",
      "\n"
     ]
    }
   ],
   "source": [
    "print(f\"\"\"\n",
    "Sobran: {set(hpo_codigos_candidatos) - set(hpo_codes)}\n",
    "Faltan: {set(hpo_codes) - set(hpo_codigos_candidatos)}\n",
    "\"\"\")"
   ]
  },
  {
   "cell_type": "markdown",
   "metadata": {},
   "source": [
    "Raw OpenAI"
   ]
  },
  {
   "cell_type": "code",
   "execution_count": 9,
   "metadata": {},
   "outputs": [],
   "source": [
    "prompt = \"\"\"Eres una herramienta que sirve para extraer fenotipos de la ontología Human Phenotype Ontolgy a partir de notas clínicas para ello: \n",
    "1. Revisa cuidadosamente cada frase de la nota clínica para identificar términos relacionados con patrones de herencia genética, anomalías anatómicas, síntomas clínicos, hallazgos diagnósticos, resultados de pruebas y afecciones o síndromes específicos.\n",
    "2. Ignora por completo los hallazgos negativos, los hallazgos normales (es decir, «normal» o «no»), los procedimientos y los antecedentes familiares. \n",
    "3. Para cada uno de los términos, piensa si tienen un fenotipo de la ontología HPO asociado. \n",
    "4. Para cada término, asigna el código HPO apropiado. \n",
    "Nota clínica: {clinical_note}\"\"\"\n",
    "prompt = PromptTemplate.from_template(prompt)"
   ]
  },
  {
   "cell_type": "code",
   "execution_count": null,
   "metadata": {},
   "outputs": [],
   "source": []
  }
 ],
 "metadata": {
  "kernelspec": {
   "display_name": ".venv",
   "language": "python",
   "name": "python3"
  },
  "language_info": {
   "codemirror_mode": {
    "name": "ipython",
    "version": 3
   },
   "file_extension": ".py",
   "mimetype": "text/x-python",
   "name": "python",
   "nbconvert_exporter": "python",
   "pygments_lexer": "ipython3",
   "version": "3.11.6"
  }
 },
 "nbformat": 4,
 "nbformat_minor": 2
}
