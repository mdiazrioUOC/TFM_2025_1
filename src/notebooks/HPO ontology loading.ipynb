{
 "cells": [
  {
   "cell_type": "markdown",
   "metadata": {},
   "source": [
    "# HPO ontology loading"
   ]
  },
  {
   "cell_type": "code",
   "execution_count": 44,
   "metadata": {},
   "outputs": [],
   "source": [
    "import requests\n",
    "import os\n",
    "from dotenv import load_dotenv\n",
    "import deepl"
   ]
  },
  {
   "cell_type": "code",
   "execution_count": 45,
   "metadata": {},
   "outputs": [],
   "source": [
    "load_dotenv()\n",
    "DEEPL_API_KEY = os.getenv(\"DEEPL_API_KEY\")"
   ]
  },
  {
   "cell_type": "markdown",
   "metadata": {},
   "source": [
    "## Retrieving ontology by API"
   ]
  },
  {
   "cell_type": "code",
   "execution_count": 41,
   "metadata": {},
   "outputs": [],
   "source": [
    "def download_request(url, file_name):\n",
    "    response = requests.get(url)\n",
    "\n",
    "    if response.status_code == 200:\n",
    "        with open(file_name, \"wb\") as f:\n",
    "            f.write(response.content)\n",
    "        print(f\"Archivo '{file_name}' descargado con éxito.\")\n",
    "    else:\n",
    "        print(f\"Error: {response.status_code} - {response.json().get('message', 'Error desconocido')}\")"
   ]
  },
  {
   "cell_type": "code",
   "execution_count": 33,
   "metadata": {},
   "outputs": [],
   "source": [
    "def github_download_request(url, file_name):\n",
    "    # Hacer la solicitud GET\n",
    "    response = requests.get(url)\n",
    "\n",
    "    if response.status_code == 200:\n",
    "        file_data = response.json()\n",
    "        download_url = file_data[\"download_url\"]  # URL de descarga del archivo\n",
    "        # Descargar el archivo\n",
    "        file_response = requests.get(download_url)\n",
    "\n",
    "        if file_response.status_code == 200:\n",
    "            with open(file_name, \"wb\") as file:\n",
    "                file.write(file_response.content)\n",
    "            print(f\"Archivo '{file_name}' descargado con éxito.\")\n",
    "        else:\n",
    "            print(\"Error al descargar el archivo.\")\n",
    "    else:\n",
    "        print(f\"Error: {response.status_code} - {response.json().get('message', 'Error desconocido')}\")"
   ]
  },
  {
   "cell_type": "markdown",
   "metadata": {},
   "source": [
    "Archivo de traducción oficial"
   ]
  },
  {
   "cell_type": "code",
   "execution_count": 35,
   "metadata": {},
   "outputs": [
    {
     "name": "stdout",
     "output_type": "stream",
     "text": [
      "Archivo '../../resources/hp-es-preprocessed.babelon.tsv' descargado con éxito.\n"
     ]
    }
   ],
   "source": [
    "# Repository configuration\n",
    "esp_file_path = \"src/translations/hp-es-preprocessed.babelon.tsv\"  \n",
    "RESOURCE_FOLDER = \"../../resources\"\n",
    "\n",
    "url = f\"https://api.github.com/repos/obophenotype/human-phenotype-ontology/contents/{esp_file_path}\"\n",
    "file_name = os.path.join(RESOURCE_FOLDER, esp_file_path.split(\"/\")[-1])\n",
    "\n",
    "github_download_request(url, file_name)"
   ]
  },
  {
   "cell_type": "markdown",
   "metadata": {},
   "source": [
    "Archivo en inglés con descripciones"
   ]
  },
  {
   "cell_type": "code",
   "execution_count": 42,
   "metadata": {},
   "outputs": [
    {
     "name": "stdout",
     "output_type": "stream",
     "text": [
      "Archivo '../../resources/hp.obo' descargado con éxito.\n"
     ]
    }
   ],
   "source": [
    "RESOURCE_FOLDER = \"../../resources\"\n",
    "obo_file_path = \"hp.obo\"\n",
    "\n",
    "url = f\"http://purl.obolibrary.org/obo/{obo_file_path}\"\n",
    "file_name = os.path.join(RESOURCE_FOLDER, obo_file_path)\n",
    "\n",
    "download_request(url, file_name)"
   ]
  },
  {
   "cell_type": "markdown",
   "metadata": {},
   "source": [
    "Traducción con DeepL"
   ]
  },
  {
   "cell_type": "code",
   "execution_count": null,
   "metadata": {},
   "outputs": [],
   "source": [
    "# translator = deepl.Translator(DEEPL_API_KEY)\n",
    "\n",
    "# texto_original = \"\"\n",
    "# idioma_destino = \"ES\"  # Código de idioma (ES = español, EN = inglés, etc.)\n",
    "\n",
    "# traduccion = translator.translate_text(texto_original, target_lang=idioma_destino)\n",
    "# traduccion.text"
   ]
  }
 ],
 "metadata": {
  "kernelspec": {
   "display_name": ".venv",
   "language": "python",
   "name": "python3"
  },
  "language_info": {
   "codemirror_mode": {
    "name": "ipython",
    "version": 3
   },
   "file_extension": ".py",
   "mimetype": "text/x-python",
   "name": "python",
   "nbconvert_exporter": "python",
   "pygments_lexer": "ipython3",
   "version": "3.11.6"
  }
 },
 "nbformat": 4,
 "nbformat_minor": 2
}
