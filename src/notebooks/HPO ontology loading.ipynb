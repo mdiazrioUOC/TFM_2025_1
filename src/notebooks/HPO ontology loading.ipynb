{
 "cells": [
  {
   "cell_type": "markdown",
   "metadata": {},
   "source": [
    "# HPO ontology loading"
   ]
  },
  {
   "cell_type": "code",
   "execution_count": 1,
   "metadata": {},
   "outputs": [],
   "source": [
    "import json\n",
    "import os"
   ]
  },
  {
   "cell_type": "code",
   "execution_count": 2,
   "metadata": {},
   "outputs": [],
   "source": [
    "RESOURCES_DIR=\"../../resources\""
   ]
  },
  {
   "cell_type": "code",
   "execution_count": 3,
   "metadata": {},
   "outputs": [],
   "source": [
    "with open(os.path.join(RESOURCES_DIR, \"hpo_es.json\"), \"r\") as fp:\n",
    "    hpo = json.load(fp)"
   ]
  },
  {
   "cell_type": "code",
   "execution_count": 4,
   "metadata": {},
   "outputs": [],
   "source": [
    "#Read the desired fields of the ontology\n",
    "fields = [\"esp_name\", \"esp_def\", \"is_a\"]\n",
    "hpo_dict = {}\n",
    "\n",
    "for element in hpo:\n",
    "    hpo_dict[element[\"id\"]] = {field:element[field] for field in fields if field in element}"
   ]
  },
  {
   "cell_type": "markdown",
   "metadata": {},
   "source": [
    "Procesar linaje"
   ]
  },
  {
   "cell_type": "code",
   "execution_count": 5,
   "metadata": {},
   "outputs": [],
   "source": [
    "def clean_lineage(s):\n",
    "    return s.split('!')[0].strip()"
   ]
  },
  {
   "cell_type": "code",
   "execution_count": 6,
   "metadata": {},
   "outputs": [],
   "source": [
    "#clean lineage\n",
    "for k,v in hpo_dict.items():\n",
    "    if \"is_a\" in v:\n",
    "        if isinstance(v[\"is_a\"], list):\n",
    "            for i, parent in enumerate(v[\"is_a\"]):\n",
    "                v[\"is_a\"][i] = clean_lineage(parent)\n",
    "        else:\n",
    "            v[\"is_a\"] = clean_lineage(v[\"is_a\"] )"
   ]
  },
  {
   "cell_type": "code",
   "execution_count": 8,
   "metadata": {},
   "outputs": [],
   "source": [
    "#clean lineage\n",
    "def find_parent(hpo_code, hpo_dict=hpo_dict):\n",
    "    lineage = hpo_dict[hpo_code][\"is_a\"]\n",
    "    if isinstance(lineage, list):\n",
    "        parents = set(lineage)\n",
    "        for parent in lineage:\n",
    "            parents.update(find_parent(parent))\n",
    "        return parents\n",
    "    \n",
    "    if \"is_a\" not in hpo_dict[lineage]:\n",
    "        return []\n",
    "    \n",
    "    return [lineage] + list(find_parent(lineage))\n",
    "    \n",
    "\n",
    "_ = {v.update({\"lineage\": find_parent(k)}) for k,v in hpo_dict.items() if \"is_a\" in v}"
   ]
  },
  {
   "cell_type": "markdown",
   "metadata": {},
   "source": [
    "Creating info for chroma db"
   ]
  },
  {
   "cell_type": "code",
   "execution_count": 39,
   "metadata": {},
   "outputs": [],
   "source": [
    "documents_text = []\n",
    "metadata_list = []\n",
    "for hpo_code, hpo_values in hpo_dict.items():\n",
    "    metadata = {\"hpo_id\":hpo_code}\n",
    "    cleaned_info = []\n",
    "    if \"esp_name\" in hpo_values:\n",
    "        cleaned_info.append(hpo_values[\"esp_name\"])\n",
    "    if \"esp_def\" in hpo_values:\n",
    "        cleaned_info.append(hpo_values[\"esp_def\"])\n",
    "    # if \"esp_synonyms\" in hpo_values:\n",
    "    #     cleaned_info + hpo_values[\"synonyms\"]\n",
    "    cleaned_info = [s.strip() + \".\" if not s.strip().endswith(\".\") else s.strip() for s in cleaned_info]\n",
    "    cleaned_info = \" \".join(cleaned_info)\n",
    "    documents_text.append(cleaned_info)\n",
    "    if \"lineage\" in hpo_values:\n",
    "        metadata[\"lineage\"] = \"->\".join(hpo_values[\"lineage\"])\n",
    "    metadata_list.append(metadata)"
   ]
  },
  {
   "cell_type": "code",
   "execution_count": 36,
   "metadata": {},
   "outputs": [
    {
     "name": "stderr",
     "output_type": "stream",
     "text": [
      "/Users/malenadiazrio/Documents/UOC/TFM/TFM_2025_1/.venv/lib/python3.11/site-packages/tqdm/auto.py:21: TqdmWarning: IProgress not found. Please update jupyter and ipywidgets. See https://ipywidgets.readthedocs.io/en/stable/user_install.html\n",
      "  from .autonotebook import tqdm as notebook_tqdm\n",
      "Fetching 5 files: 100%|██████████| 5/5 [00:11<00:00,  2.22s/it]\n"
     ]
    }
   ],
   "source": [
    "from langchain_community.embeddings.fastembed import FastEmbedEmbeddings\n",
    "MODEL_NAME = \"BAAI/bge-small-en-v1.5\"\n",
    "\n",
    "embeddings = FastEmbedEmbeddings(model_name=MODEL_NAME)"
   ]
  },
  {
   "cell_type": "code",
   "execution_count": 40,
   "metadata": {},
   "outputs": [],
   "source": [
    "from langchain_chroma import Chroma\n",
    "chroma_db = Chroma.from_texts(documents_text, embeddings, metadata_list\n",
    "                              , collection_name = 'hpo_ontology', persist_directory= \"../../chroma_db\")"
   ]
  },
  {
   "cell_type": "code",
   "execution_count": 47,
   "metadata": {},
   "outputs": [
    {
     "data": {
      "text/plain": [
       "[Document(id='3eac21dd-316f-4c65-bb92-bd75111f1d23', metadata={'hpo_id': 'HP:0005562', 'lineage': 'HP:0000107->HP:0012210->HP:0000077->HP:0010935->HP:0000079->HP:0000119->HP:0000118'}, page_content='Quistes renales múltiples. Presencia de numerosos quistes en el riñón.'),\n",
       " Document(id='64109213-992c-45f6-a92e-7aa50b3cf401', metadata={'hpo_id': 'HP:0034946', 'lineage': 'HP:0000492->HP:0030669->HP:0032039->HP:0000315->HP:0000271->HP:0000234->HP:0000152->HP:0000118'}, page_content='Quistes múltiples en el borde del párpado.'),\n",
       " Document(id='894c7af0-1b8b-46b8-8ad8-c3ec213bc513', metadata={'hpo_id': 'HP:0001571', 'lineage': 'HP:0011079->HP:0000706->HP:0006292->HP:0000164->HP:0000163->HP:0031816->HP:0000153->HP:0000271->HP:0000234->HP:0000152->HP:0000118'}, page_content='Múltiples dientes impactados. La presencia de múltiples dientes impactados.'),\n",
       " Document(id='d03a976d-9480-4891-bcc1-4bd1ec6e90a1', metadata={'hpo_id': 'HP:0000105', 'lineage': 'HP:0012210->HP:0000077->HP:0010935->HP:0000079->HP:0000119->HP:0000118'}, page_content='Agrandamiento de los riñones. Aumento anormal del tamaño del riñón.')]"
      ]
     },
     "execution_count": 47,
     "metadata": {},
     "output_type": "execute_result"
    }
   ],
   "source": [
    "chroma_db.max_marginal_relevance_search(\"Presencia de múltiples quistes en el riñón izquierdo\")"
   ]
  },
  {
   "cell_type": "code",
   "execution_count": null,
   "metadata": {},
   "outputs": [],
   "source": []
  }
 ],
 "metadata": {
  "kernelspec": {
   "display_name": ".venv",
   "language": "python",
   "name": "python3"
  },
  "language_info": {
   "codemirror_mode": {
    "name": "ipython",
    "version": 3
   },
   "file_extension": ".py",
   "mimetype": "text/x-python",
   "name": "python",
   "nbconvert_exporter": "python",
   "pygments_lexer": "ipython3",
   "version": "3.11.6"
  }
 },
 "nbformat": 4,
 "nbformat_minor": 2
}
