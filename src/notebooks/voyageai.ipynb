{
  "cells": [
    {
      "cell_type": "markdown",
      "id": "278b6c63",
      "metadata": {
        "id": "278b6c63"
      },
      "source": [
        "# Voyage AI\n",
        "\n",
        ">[Voyage AI](https://www.voyageai.com/) provides cutting-edge embedding/vectorizations models.\n",
        "\n",
        "Let's load the Voyage AI Embedding class. (Install the LangChain partner package with `pip install langchain-voyageai`)"
      ]
    },
    {
      "cell_type": "code",
      "execution_count": 3,
      "id": "0be1af71",
      "metadata": {
        "id": "0be1af71"
      },
      "outputs": [
        {
          "name": "stderr",
          "output_type": "stream",
          "text": [
            "/Users/malenadiazrio/Documents/UOC/TFM/TFM_2025_1/.venv/lib/python3.11/site-packages/tqdm/auto.py:21: TqdmWarning: IProgress not found. Please update jupyter and ipywidgets. See https://ipywidgets.readthedocs.io/en/stable/user_install.html\n",
            "  from .autonotebook import tqdm as notebook_tqdm\n"
          ]
        }
      ],
      "source": [
        "from langchain_voyageai import VoyageAIEmbeddings"
      ]
    },
    {
      "cell_type": "markdown",
      "id": "137cfde9-b88c-409a-9394-a9e31a6bf30d",
      "metadata": {
        "id": "137cfde9-b88c-409a-9394-a9e31a6bf30d"
      },
      "source": [
        "Voyage AI utilizes API keys to monitor usage and manage permissions. To obtain your key, create an account on our [homepage](https://www.voyageai.com). Then, create a VoyageEmbeddings model with your API key. You can use any of the following models: ([source](https://docs.voyageai.com/docs/embeddings)):\n",
        "\n",
        "- `voyage-3-large`\n",
        "- `voyage-3`\n",
        "- `voyage-3-lite`\n",
        "- `voyage-large-2`\n",
        "- `voyage-code-2`\n",
        "- `voyage-2`\n",
        "- `voyage-law-2`\n",
        "- `voyage-large-2-instruct`\n",
        "- `voyage-finance-2`\n",
        "- `voyage-multilingual-2`"
      ]
    },
    {
      "cell_type": "code",
      "execution_count": null,
      "id": "2c66e5da",
      "metadata": {
        "id": "2c66e5da"
      },
      "outputs": [],
      "source": [
        "embeddings = VoyageAIEmbeddings(\n",
        "    voyage_api_key=\"[ Your Voyage API key ]\", model=\"voyage-law-2\"\n",
        ")"
      ]
    },
    {
      "cell_type": "markdown",
      "id": "459dffb3-9bff-41f2-8507-642de7431b2d",
      "metadata": {
        "id": "459dffb3-9bff-41f2-8507-642de7431b2d"
      },
      "source": [
        "Prepare the documents and use `embed_documents` to get their embeddings."
      ]
    },
    {
      "cell_type": "code",
      "execution_count": null,
      "id": "c85e948f-85fd-4d56-8d21-6e2f7e65cab8",
      "metadata": {
        "id": "c85e948f-85fd-4d56-8d21-6e2f7e65cab8"
      },
      "outputs": [],
      "source": [
        "documents = [\n",
        "    \"Caching embeddings enables the storage or temporary caching of embeddings, eliminating the necessity to recompute them each time.\",\n",
        "    \"An LLMChain is a chain that composes basic LLM functionality. It consists of a PromptTemplate and a language model (either an LLM or chat model). It formats the prompt template using the input key values provided (and also memory key values, if available), passes the formatted string to LLM and returns the LLM output.\",\n",
        "    \"A Runnable represents a generic unit of work that can be invoked, batched, streamed, and/or transformed.\",\n",
        "]"
      ]
    },
    {
      "cell_type": "code",
      "execution_count": null,
      "id": "5a77a12d-6ac6-4ab8-b103-80ff24487019",
      "metadata": {
        "id": "5a77a12d-6ac6-4ab8-b103-80ff24487019"
      },
      "outputs": [],
      "source": [
        "documents_embds = embeddings.embed_documents(documents)"
      ]
    },
    {
      "cell_type": "code",
      "execution_count": null,
      "id": "2c89167c-816c-487e-8704-90908a4190bb",
      "metadata": {
        "id": "2c89167c-816c-487e-8704-90908a4190bb",
        "outputId": "aaa67c17-24ab-4192-c60a-e4be43bad75b"
      },
      "outputs": [
        {
          "data": {
            "text/plain": [
              "[0.0562174916267395,\n",
              " 0.018221192061901093,\n",
              " 0.0025736060924828053,\n",
              " -0.009720131754875183,\n",
              " 0.04108370840549469]"
            ]
          },
          "execution_count": 5,
          "metadata": {},
          "output_type": "execute_result"
        }
      ],
      "source": [
        "documents_embds[0][:5]"
      ]
    },
    {
      "cell_type": "markdown",
      "id": "f8d796d1-4ced-44d3-81bf-282721edb6bb",
      "metadata": {
        "id": "f8d796d1-4ced-44d3-81bf-282721edb6bb"
      },
      "source": [
        "Similarly, use `embed_query` to embed the query."
      ]
    },
    {
      "cell_type": "code",
      "execution_count": null,
      "id": "bfb6142c",
      "metadata": {
        "id": "bfb6142c"
      },
      "outputs": [],
      "source": [
        "query = \"What's an LLMChain?\""
      ]
    },
    {
      "cell_type": "code",
      "execution_count": null,
      "id": "91bc875d-829b-4c3d-8e6f-fc2dda30a3bd",
      "metadata": {
        "id": "91bc875d-829b-4c3d-8e6f-fc2dda30a3bd"
      },
      "outputs": [],
      "source": [
        "query_embd = embeddings.embed_query(query)"
      ]
    },
    {
      "cell_type": "code",
      "execution_count": null,
      "id": "a4b0d49e-0c73-44b6-aed5-5b426564e085",
      "metadata": {
        "id": "a4b0d49e-0c73-44b6-aed5-5b426564e085",
        "outputId": "111e36ef-430d-4d37-cf12-1063e1bae592"
      },
      "outputs": [
        {
          "data": {
            "text/plain": [
              "[-0.0052348352037370205,\n",
              " -0.040072452276945114,\n",
              " 0.0033957737032324076,\n",
              " 0.01763271726667881,\n",
              " -0.019235141575336456]"
            ]
          },
          "execution_count": 8,
          "metadata": {},
          "output_type": "execute_result"
        }
      ],
      "source": [
        "query_embd[:5]"
      ]
    },
    {
      "cell_type": "markdown",
      "id": "b16ddbb2-61f0-49ec-92c3-a6f236d9517f",
      "metadata": {
        "id": "b16ddbb2-61f0-49ec-92c3-a6f236d9517f"
      },
      "source": [
        "## A minimalist retrieval system"
      ]
    },
    {
      "cell_type": "markdown",
      "id": "5464cb0a-6967-4f1e-ac7c-0aab80b2795a",
      "metadata": {
        "id": "5464cb0a-6967-4f1e-ac7c-0aab80b2795a"
      },
      "source": [
        "The main feature of the embeddings is that the cosine similarity between two embeddings captures the semantic relatedness of the corresponding original passages. This allows us to use the embeddings to do semantic retrieval / search."
      ]
    },
    {
      "cell_type": "markdown",
      "id": "a0bd3ad2-ca68-4e75-9172-76aea28ba46e",
      "metadata": {
        "id": "a0bd3ad2-ca68-4e75-9172-76aea28ba46e"
      },
      "source": [
        " We can find a few closest embeddings in the documents embeddings based on the cosine similarity, and retrieve the corresponding document using the `KNNRetriever` class from LangChain."
      ]
    },
    {
      "cell_type": "code",
      "execution_count": null,
      "id": "0a3fc579-85a9-4bd0-a944-4e32ac62e2d4",
      "metadata": {
        "id": "0a3fc579-85a9-4bd0-a944-4e32ac62e2d4",
        "outputId": "b4738d1d-93f9-4c25-be87-1016ddce80e3"
      },
      "outputs": [
        {
          "name": "stdout",
          "output_type": "stream",
          "text": [
            "An LLMChain is a chain that composes basic LLM functionality. It consists of a PromptTemplate and a language model (either an LLM or chat model). It formats the prompt template using the input key values provided (and also memory key values, if available), passes the formatted string to LLM and returns the LLM output.\n"
          ]
        }
      ],
      "source": [
        "from langchain_community.retrievers import KNNRetriever\n",
        "\n",
        "retriever = KNNRetriever.from_texts(documents, embeddings)\n",
        "\n",
        "# retrieve the most relevant documents\n",
        "result = retriever.invoke(query)\n",
        "top1_retrieved_doc = result[0].page_content  # return the top1 retrieved result\n",
        "\n",
        "print(top1_retrieved_doc)"
      ]
    }
  ],
  "metadata": {
    "colab": {
      "provenance": []
    },
    "kernelspec": {
      "display_name": ".venv",
      "language": "python",
      "name": "python3"
    },
    "language_info": {
      "codemirror_mode": {
        "name": "ipython",
        "version": 3
      },
      "file_extension": ".py",
      "mimetype": "text/x-python",
      "name": "python",
      "nbconvert_exporter": "python",
      "pygments_lexer": "ipython3",
      "version": "3.11.6"
    }
  },
  "nbformat": 4,
  "nbformat_minor": 5
}
