{
 "cells": [
  {
   "cell_type": "markdown",
   "metadata": {},
   "source": [
    "# Evaluation dataset"
   ]
  },
  {
   "cell_type": "code",
   "execution_count": 3,
   "metadata": {},
   "outputs": [],
   "source": [
    "import pandas as pd\n",
    "import os"
   ]
  },
  {
   "cell_type": "code",
   "execution_count": 6,
   "metadata": {},
   "outputs": [],
   "source": [
    "annotations_folder = \"../../datasets/GSC+/Annotations\""
   ]
  },
  {
   "cell_type": "code",
   "execution_count": 22,
   "metadata": {},
   "outputs": [],
   "source": [
    "evaluation_hpo_codes = set()\n",
    "for file in os.listdir(annotations_folder)[1:]:\n",
    "    df = pd.read_csv(os.path.join(annotations_folder, file), sep=r\"[\\t|]\", header=None, names=[\"positions\", \"hpo_code\", \"hpo_name\"], engine='python')\n",
    "    evaluation_hpo_codes.update(df.hpo_code.unique())"
   ]
  },
  {
   "cell_type": "code",
   "execution_count": 25,
   "metadata": {},
   "outputs": [
    {
     "name": "stdout",
     "output_type": "stream",
     "text": [
      "There are 497 unique HPO codes in the eval dataset\n"
     ]
    }
   ],
   "source": [
    "print(f\"There are {len(evaluation_hpo_codes)} unique HPO codes in the eval dataset\")"
   ]
  },
  {
   "cell_type": "code",
   "execution_count": 27,
   "metadata": {},
   "outputs": [],
   "source": [
    "text_folder = \"../../datasets/GSC+/Text\"\n",
    "total_chars = 0\n",
    "for file in os.listdir(text_folder)[1:]:\n",
    "     with open(os.path.join(text_folder, file), \"r\", encoding=\"utf-8\", errors=\"ignore\") as file:\n",
    "            content = file.read()\n",
    "            total_chars += len(content)"
   ]
  },
  {
   "cell_type": "code",
   "execution_count": 28,
   "metadata": {},
   "outputs": [
    {
     "name": "stdout",
     "output_type": "stream",
     "text": [
      "There eval dataset has 226191 characters in total\n"
     ]
    }
   ],
   "source": [
    "print(f\"There eval dataset has {total_chars} characters in total\")"
   ]
  }
 ],
 "metadata": {
  "kernelspec": {
   "display_name": ".venv",
   "language": "python",
   "name": "python3"
  },
  "language_info": {
   "codemirror_mode": {
    "name": "ipython",
    "version": 3
   },
   "file_extension": ".py",
   "mimetype": "text/x-python",
   "name": "python",
   "nbconvert_exporter": "python",
   "pygments_lexer": "ipython3",
   "version": "3.11.6"
  }
 },
 "nbformat": 4,
 "nbformat_minor": 2
}
