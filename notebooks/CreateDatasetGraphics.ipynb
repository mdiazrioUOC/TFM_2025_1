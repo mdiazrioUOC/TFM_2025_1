{
 "cells": [
  {
   "cell_type": "markdown",
   "id": "5699b1d5",
   "metadata": {},
   "source": [
    "Create statistics of the graphis"
   ]
  },
  {
   "cell_type": "code",
   "execution_count": 1,
   "id": "ac8f5069",
   "metadata": {},
   "outputs": [],
   "source": [
    "import pandas as pd\n",
    "import os\n",
    "import numpy as np"
   ]
  },
  {
   "cell_type": "code",
   "execution_count": 2,
   "id": "24cfb5fa",
   "metadata": {},
   "outputs": [],
   "source": [
    "import obonet\n",
    "import networkx as nx\n",
    "\n",
    "# Load HPO .obo file\n",
    "url = 'http://purl.obolibrary.org/obo/hp.obo'\n",
    "graph = obonet.read_obo(url)\n",
    "\n",
    "# Get root node (Phenotypic abnormality)\n",
    "root = 'HP:0000118'\n",
    "\n",
    "# Compute all shortest paths from root to other nodes\n",
    "depths = {}\n",
    "\n",
    "for node in graph.nodes:\n",
    "    try:\n",
    "        # Longest shortest path from root to node\n",
    "        all_paths = list(nx.all_simple_paths(graph, source=node, target=root))\n",
    "        max_depth = max(len(p) - 1 for p in all_paths)\n",
    "        depths[node] = max_depth\n",
    "    except:\n",
    "        # No path from root (e.g., obsolete or orphaned terms)\n",
    "        depths[node] = None\n"
   ]
  },
  {
   "cell_type": "code",
   "execution_count": 3,
   "id": "2b9bc7ed",
   "metadata": {},
   "outputs": [],
   "source": [
    "def get_clinical_note_lengths(df):\n",
    "    print(f\"Mean number of words: {np.mean(df.clinical_note.apply(len))}\")\n",
    "    print(f\"\"\"Mean number of characters: {np.mean(df.clinical_note.apply(lambda x: len(x.split(\" \"))))}\"\"\")"
   ]
  },
  {
   "cell_type": "markdown",
   "id": "eed78105",
   "metadata": {},
   "source": [
    "- Número de códigos HPO por nota clínica\n",
    "- Número de códigos HPO únicos\n",
    "- Depth de códigos HPO\n",
    "- Distribución por categoría de códigos HPO"
   ]
  },
  {
   "cell_type": "code",
   "execution_count": 4,
   "id": "d17f852e",
   "metadata": {},
   "outputs": [],
   "source": [
    "def get_code_data(df, class_map):\n",
    "    print(f\"Avg HPO codes per text: {np.mean([len(code_list) for code_list in df.annotations])}\")\n",
    "    unique_codes = [code.replace('_', ':') for code_list in df.annotations for code in code_list]\n",
    "    unique_codes = set([code for code in unique_codes if code in depths])\n",
    "    print(f\"Unique valid HPO codes in dataset: {len(unique_codes)}, coverage: {len(unique_codes)/19077}\")\n",
    "    code_depths = [depths[code] for code in unique_codes]\n",
    "    class_counts = [class_map[code] for code in unique_codes]\n",
    "    return code_depths,  class_counts"
   ]
  },
  {
   "cell_type": "code",
   "execution_count": 5,
   "id": "ec10c4bf",
   "metadata": {},
   "outputs": [],
   "source": [
    "df = pd.read_csv('../../datasets/RAG-HPO/Test_Cases.csv')\n",
    "df[\"annotations\"] = df.annotations.apply(eval)\n",
    "df = df.rename(columns={'esp':'clinical_note'})\n",
    "input_keys = ['clinical_note']\n",
    "output_keys = ['annotations'] "
   ]
  },
  {
   "cell_type": "code",
   "execution_count": 3,
   "id": "d779f87d",
   "metadata": {},
   "outputs": [],
   "source": [
    "DATASET_DIR=os.path.join(os.environ['PROJECT_DIR'],\"datasets/GSC+\")\n",
    "texts = []\n",
    "annotations = []\n",
    "for file in os.listdir(DATASET_DIR + \"_ESP/Text\"):\n",
    "    with open(os.path.join(DATASET_DIR + \"_ESP/Text\", file), \"r\") as fp:\n",
    "        texts.append(fp.read())\n",
    "    annots = pd.read_csv(os.path.join(DATASET_DIR + \"/Annotations\", file), header=None, sep=\"\\t\")\n",
    "    annots[1] = annots[1].apply(lambda x: x.split(\"|\")[0].strip())\n",
    "    annotations.append(annots[1].to_list())\n",
    "gcs_esp = pd.DataFrame({\"esp\":texts, \"annotations\":annotations})\n",
    "gcs_esp.rename(columns={\"esp\":\"clinical_note\"}, inplace=True)"
   ]
  },
  {
   "cell_type": "code",
   "execution_count": 7,
   "id": "4b1b530b",
   "metadata": {},
   "outputs": [
    {
     "name": "stdout",
     "output_type": "stream",
     "text": [
      "Mean number of words: 2037.3478260869565\n",
      "Mean number of characters: 310.5304347826087\n",
      "Mean number of words: 1106.890350877193\n",
      "Mean number of characters: 168.10526315789474\n"
     ]
    }
   ],
   "source": [
    "get_clinical_note_lengths(df)\n",
    "get_clinical_note_lengths(gcs_esp)"
   ]
  },
  {
   "cell_type": "code",
   "execution_count": 16,
   "id": "2610466e",
   "metadata": {},
   "outputs": [
    {
     "name": "stdout",
     "output_type": "stream",
     "text": [
      "Avg HPO codes per text: 15.68695652173913\n",
      "Unique valid HPO codes in dataset: 1219, coverage: 0.06389893589138754\n",
      "Avg HPO codes per text: 12.162280701754385\n",
      "Unique valid HPO codes in dataset: 436, coverage: 0.022854746553441316\n"
     ]
    }
   ],
   "source": [
    "df_depths, class_counts_df = get_code_data(df, hpo_to_system)\n",
    "gsc_depths, class_counts_gsc = get_code_data(gcs_esp, hpo_to_system)"
   ]
  },
  {
   "cell_type": "code",
   "execution_count": 17,
   "id": "0be27fb9",
   "metadata": {},
   "outputs": [],
   "source": [
    "pd.DataFrame(gsc_depths).to_excel(\"GSC_DEPTHS.xlsx\")"
   ]
  },
  {
   "cell_type": "code",
   "execution_count": 18,
   "id": "dd072efb",
   "metadata": {},
   "outputs": [],
   "source": [
    "import seaborn as sns\n",
    "import matplotlib.pyplot as plt"
   ]
  },
  {
   "cell_type": "code",
   "execution_count": 33,
   "id": "3bf0620f",
   "metadata": {},
   "outputs": [],
   "source": [
    "depths = pd.concat([pd.DataFrame(df_depths), pd.DataFrame(gsc_depths)])\n",
    "depths[\"dataset\"] = len(df_depths) * [\"RAG-HPO\"] + len(gsc_depths) * [\"GSC\"]\n",
    "depths.rename(columns={0:\"depth\"}, inplace=True)\n",
    "depths.reset_index(inplace=True)\n",
    "# depths = depths.groupby(\"dataset\")[\"depth\"].value_counts().to_frame(name=\"depth_count\").reset_index()"
   ]
  },
  {
   "cell_type": "code",
   "execution_count": 49,
   "id": "f5d43c08",
   "metadata": {},
   "outputs": [
    {
     "data": {
      "image/png": "[encoded data removed]",
      "text/plain": [
       "<Figure size 400x600 with 1 Axes>"
      ]
     },
     "metadata": {},
     "output_type": "display_data"
    }
   ],
   "source": [
    "# Create a violin plot\n",
    "plt.figure(figsize=(4, 6))\n",
    "sns.violinplot(y=\"depth\", data=depths, hue=\"dataset\", split=True, gap=.1,\n",
    "                inner=\"quart\", palette=[\"#8599AA\", \"#115472\"])\n",
    "# Remove spines and grid\n",
    "sns.despine(left=True, bottom=True)\n",
    "plt.tick_params(colors=\"#595959\")\n",
    "plt.ylabel('')\n",
    "plt.savefig(\"violinplot.png\")"
   ]
  },
  {
   "cell_type": "code",
   "execution_count": 15,
   "id": "628fc62a",
   "metadata": {},
   "outputs": [
    {
     "ename": "NameError",
     "evalue": "name 'class_counts_df' is not defined",
     "output_type": "error",
     "traceback": [
      "\u001b[31m---------------------------------------------------------------------------\u001b[39m",
      "\u001b[31mNameError\u001b[39m                                 Traceback (most recent call last)",
      "\u001b[36mCell\u001b[39m\u001b[36m \u001b[39m\u001b[32mIn[15]\u001b[39m\u001b[32m, line 1\u001b[39m\n\u001b[32m----> \u001b[39m\u001b[32m1\u001b[39m pd.concat([pd.DataFrame(\u001b[43mclass_counts_df\u001b[49m).value_counts(), pd.DataFrame(class_counts_gsc).value_counts()], axis=\u001b[32m1\u001b[39m).fillna(\u001b[32m0\u001b[39m).to_excel(\u001b[33m\"\u001b[39m\u001b[33mclasses_count.xlsx\u001b[39m\u001b[33m\"\u001b[39m)\n",
      "\u001b[31mNameError\u001b[39m: name 'class_counts_df' is not defined"
     ]
    }
   ],
   "source": [
    "pd.concat([pd.DataFrame(class_counts_df).value_counts(), pd.DataFrame(class_counts_gsc).value_counts()], axis=1).fillna(0).to_excel(\"classes_count.xlsx\")"
   ]
  },
  {
   "cell_type": "code",
   "execution_count": 14,
   "id": "e83dc684",
   "metadata": {},
   "outputs": [
    {
     "ename": "NameError",
     "evalue": "name 'class_counts_df' is not defined",
     "output_type": "error",
     "traceback": [
      "\u001b[31m---------------------------------------------------------------------------\u001b[39m",
      "\u001b[31mNameError\u001b[39m                                 Traceback (most recent call last)",
      "\u001b[36mCell\u001b[39m\u001b[36m \u001b[39m\u001b[32mIn[14]\u001b[39m\u001b[32m, line 1\u001b[39m\n\u001b[32m----> \u001b[39m\u001b[32m1\u001b[39m class_df = pd.DataFrame({\u001b[33m\"\u001b[39m\u001b[33mhpo_class\u001b[39m\u001b[33m\"\u001b[39m:\u001b[43mclass_counts_df\u001b[49m + class_counts_gsc,\n\u001b[32m      2\u001b[39m                         \u001b[33m\"\u001b[39m\u001b[33mdataset\u001b[39m\u001b[33m\"\u001b[39m:\u001b[38;5;28mlen\u001b[39m(class_counts_df) * [\u001b[33m\"\u001b[39m\u001b[33mRAG-HPO\u001b[39m\u001b[33m\"\u001b[39m] + \u001b[38;5;28mlen\u001b[39m(class_counts_gsc) * [\u001b[33m\"\u001b[39m\u001b[33mGSC+\u001b[39m\u001b[33m\"\u001b[39m]})\n\u001b[32m      3\u001b[39m class_df = class_df.groupby(\u001b[33m\"\u001b[39m\u001b[33mdataset\u001b[39m\u001b[33m\"\u001b[39m).hpo_class.value_counts().to_frame()\n\u001b[32m      4\u001b[39m class_df.to_excel(\u001b[33m\"\u001b[39m\u001b[33mclasses_count.xlsx\u001b[39m\u001b[33m\"\u001b[39m)\n",
      "\u001b[31mNameError\u001b[39m: name 'class_counts_df' is not defined"
     ]
    }
   ],
   "source": [
    "class_df = pd.DataFrame({\"hpo_class\":class_counts_df + class_counts_gsc,\n",
    "                        \"dataset\":len(class_counts_df) * [\"RAG-HPO\"] + len(class_counts_gsc) * [\"GSC+\"]})\n",
    "class_df = class_df.groupby(\"dataset\").hpo_class.value_counts().to_frame()\n",
    "class_df.to_excel(\"classes_count.xlsx\")"
   ]
  },
  {
   "cell_type": "code",
   "execution_count": 10,
   "id": "f86089cd",
   "metadata": {},
   "outputs": [],
   "source": [
    "import json\n",
    "RESOURCES_DIR= os.path.join(os.environ[\"PROJECT_DIR\"], \"./resources\")\n",
    "with open(os.path.join(RESOURCES_DIR, \"hpo_es.json\"), \"r\") as fp:\n",
    "    hpo = json.load(fp)"
   ]
  },
  {
   "cell_type": "code",
   "execution_count": 11,
   "id": "e13567d5",
   "metadata": {},
   "outputs": [],
   "source": [
    "#Read the desired fields of the ontology\n",
    "fields = [\"esp_name\", \"esp_def\", 'esp_synonyms', \"is_a\", \"name\"]\n",
    "hpo_dict = {}\n",
    "\n",
    "for element in hpo:\n",
    "    hpo_dict[element[\"id\"]] = {field:element[field] for field in fields if field in element}"
   ]
  },
  {
   "cell_type": "code",
   "execution_count": 15,
   "id": "ac51f857",
   "metadata": {},
   "outputs": [],
   "source": [
    "major_systems = {code:hpo_dict[code][\"name\"] for code in list(graph.predecessors(\"HP:0000001\"))}"
   ]
  },
  {
   "cell_type": "code",
   "execution_count": 17,
   "id": "7ab15b72",
   "metadata": {},
   "outputs": [],
   "source": [
    "# Función para encontrar el primer sistema ancestro\n",
    "def get_clinical_system(hpo_code):\n",
    "    # try:\n",
    "    # Caminos hacia la raíz\n",
    "    ancestors = list(nx.predecessor(graph, hpo_code).keys())\n",
    "    for code in major_systems:\n",
    "        if code in ancestors:\n",
    "            return major_systems[code]\n",
    "    return 'Otro'\n",
    "    # except Exception:\n",
    "    #     return 'Desconocido'\n",
    "\n",
    "# Mapeo de cada término HPO a su sistema\n",
    "hpo_to_system = {}\n",
    "for node in graph.nodes:\n",
    "    if node.startswith(\"HP:\"):\n",
    "        system = get_clinical_system(node)\n",
    "        hpo_to_system[node] = system"
   ]
  },
  {
   "cell_type": "code",
   "execution_count": 26,
   "id": "a1220fd6",
   "metadata": {},
   "outputs": [],
   "source": [
    "system_count = {}\n",
    "unique_hpo_codes = set(gcs_esp.annotations.explode())\n",
    "for code in unique_hpo_codes:\n",
    "    try:\n",
    "        system = hpo_to_system[code.replace(\"_\", \":\")]\n",
    "        system_count[system] = system_count.get(system, 0) + 1\n",
    "    except KeyError:\n",
    "        continue"
   ]
  },
  {
   "cell_type": "code",
   "execution_count": 47,
   "id": "c157d067",
   "metadata": {},
   "outputs": [
    {
     "name": "stdout",
     "output_type": "stream",
     "text": [
      "HP:0000708 Alteración comportamental\n",
      "HP:0000713 Agitación\n",
      "HP:0000733 Comportamiento estereottipado\n",
      "HP:0000739 Ansiedad\n",
      "HP:0001249 Discapacidad intelectual\n",
      "HP:0034004 Parosmia\n",
      "HP:5200320 Disminución de la búsqueda de relaciones\n",
      "HP:5200402 Ideas sobrevaloradas\n"
     ]
    }
   ],
   "source": [
    "hpo_codes = [\n",
    "    \"HP:0000708\",\n",
    "    \"HP:0000713\",\n",
    "    \"HP:0000733\",\n",
    "    \"HP:0000739\",\n",
    "    \"HP:0001249\",\n",
    "    \"HP:0034004\",\n",
    "    \"HP:5200320\",\n",
    "    \"HP:5200402\"\n",
    "    ]\n",
    "\n",
    "for code in hpo_codes:\n",
    "    print( code, hpo_dict[code][\"esp_name\"])"
   ]
  },
  {
   "cell_type": "code",
   "execution_count": null,
   "id": "de423dce",
   "metadata": {},
   "outputs": [],
   "source": []
  },
  {
   "cell_type": "code",
   "execution_count": 35,
   "id": "a89bd9b2",
   "metadata": {},
   "outputs": [
    {
     "data": {
      "text/plain": [
       "{'esp_name': 'Discapacidad de aprendizaje específica',\n",
       " 'esp_def': 'Deterioro de ciertas habilidades, como la lectura o la escritura, la coordinación, el autocontrol o la atención, que interfiere en la capacidad de aprendizaje. La deficiencia no está relacionada con un déficit global de inteligencia.',\n",
       " 'is_a': 'HP:0012759 ! Neurodevelopmental abnormality',\n",
       " 'name': 'Specific learning disability'}"
      ]
     },
     "execution_count": 35,
     "metadata": {},
     "output_type": "execute_result"
    }
   ],
   "source": [
    "hpo_dict[\"HP:0001328\"]"
   ]
  },
  {
   "cell_type": "code",
   "execution_count": 27,
   "id": "a82a61ec",
   "metadata": {},
   "outputs": [
    {
     "data": {
      "text/plain": [
       "{'Phenotypic abnormality': 419,\n",
       " 'Mode of inheritance': 8,\n",
       " 'Clinical modifier': 9}"
      ]
     },
     "execution_count": 27,
     "metadata": {},
     "output_type": "execute_result"
    }
   ],
   "source": [
    "system_count"
   ]
  }
 ],
 "metadata": {
  "kernelspec": {
   "display_name": ".venv",
   "language": "python",
   "name": "python3"
  },
  "language_info": {
   "codemirror_mode": {
    "name": "ipython",
    "version": 3
   },
   "file_extension": ".py",
   "mimetype": "text/x-python",
   "name": "python",
   "nbconvert_exporter": "python",
   "pygments_lexer": "ipython3",
   "version": "3.11.6"
  }
 },
 "nbformat": 4,
 "nbformat_minor": 5
}
