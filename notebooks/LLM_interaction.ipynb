{
 "cells": [
  {
   "cell_type": "markdown",
   "metadata": {},
   "source": [
    "# LLM interaction with langchain"
   ]
  },
  {
   "cell_type": "code",
   "execution_count": 4,
   "metadata": {},
   "outputs": [],
   "source": [
    "import os\n",
    "import re\n",
    "import sys\n",
    "sys.path.append('../src/')\n",
    "\n",
    "import json\n",
    "import importlib\n",
    "import chromadb\n",
    "import pickle as pkl\n",
    "import pandas as pd\n",
    "from dotenv import dotenv_values\n",
    "from langchain_chroma import Chroma\n",
    "from typing import List, Optional\n",
    "from pydantic import BaseModel, Field\n",
    "from langchain_core.runnables import chain\n",
    "from langchain.chat_models import ChatOpenAI\n",
    "from langchain_voyageai import VoyageAIEmbeddings\n",
    "from langchain_core.prompts import PromptTemplate\n",
    "from langchain.chat_models import init_chat_model\n",
    "from langchain.retrievers import BM25Retriever, EnsembleRetriever\n",
    "from langchain_core.prompts import ChatPromptTemplate\n",
    "from langchain_ollama import ChatOllama\n",
    "from utils.fuzzyretriever import FuzzyRetriever"
   ]
  },
  {
   "cell_type": "code",
   "execution_count": 5,
   "metadata": {},
   "outputs": [],
   "source": [
    "for i,v in dotenv_values().items():\n",
    "    globals()[i]=v "
   ]
  },
  {
   "cell_type": "code",
   "execution_count": 3,
   "metadata": {},
   "outputs": [],
   "source": [
    "RESOURCES_DIR=\"../../resources\"\n",
    "llm = init_chat_model(\"o4-mini\", model_provider=\"openai\")\n",
    "# llm = ChatOllama(model=\"qwen3:8b\")\n",
    "embeddings_model = VoyageAIEmbeddings(model=\"voyage-3\")"
   ]
  },
  {
   "cell_type": "markdown",
   "metadata": {},
   "source": [
    "Texto a probar"
   ]
  },
  {
   "cell_type": "code",
   "execution_count": null,
   "metadata": {},
   "outputs": [
    {
     "data": {
      "text/plain": [
       "\"Un hombre de 32 años acudió a una unidad regional de cirugía general por anemia sintomática grave. En un lapso de 4 meses, su hemoglobina descendió 62 puntos desde 137 gL (N: 135-180 gL). Su historial médico incluía epilepsia con valproato, arritmia cardiaca con flecainida, síndrome del túnel carpiano y compresión de la raíz nerviosa C5. No fuma, consume poco alcohol, tiene dos perros en casa y dos hijos. Sus antecedentes familiares incluían a su abuelo, que tuvo cáncer de intestino diagnosticado a los 78 años, y una abuela con cáncer de mama. La primera modalidad de diagnóstico por imagen fue un TAC que mostraba una gran masa fungiforme en el cuerpo del estómago que se extendía hasta el píloro y la primera parte del duodeno. Se sometió a una endoscopia digestiva alta (EDA) para investigar la patología. La histopatología arrojó con frecuencia un resultado de tejido hiperplásico benigno. Los primeros resultados histopatológicos informaron de mucosa gástrica con hiperplasia foveolar menor, edema estromal con aumento menor de células inflamatorias crónicas. No había evidencia de organismos helicobacter, gastritis activa o atipia. Los hallazgos iniciales del endoscopio mostraron pólipos en forma de alfombra que recubrían el antro y el cuerpo gástrico. En una segunda UGE, se realizaron biopsias de túnel, que mostraron que los pólipos en forma de alfombra habían progresado hacia la primera parte del duodeno, en comparación con la UGE anterior. La biopsia resultó ser gastritis crónica asociada a Helicobacter heilmannii con cambios hiperplásicos del pólipo de la glándula fúndica. Se solicitaron ANA séricos, ANCA, anticuerpos anticélulas parietales, serología de infección por citomegalovirus, panel de hepatitis, electroforesis de proteínas séricas, serología de Helicobacter y marcador tumoral CA 72-4. Los resultados fueron negativos, excepto por un resultado positivo en la prueba de detección de Helicobacter heilmannii. Los resultados fueron negativos, salvo una serología positiva para Helicobacter IgG. Se trató el H. heilmannii con dos ciclos del régimen de erradicación de Helicobacter. La repetición de la UGE, 2 meses después, no mostró evidencia del organismo Helicobacter. Los resultados histopatológicos mostraron un pólipo gástrico hiperplásico con un fondo de inflamación crónica leve. La repetición de la UGE 3 meses después de la UGE inicial mostró una clasificación 0-Isp de Paris en el duodeno y los pólipos se habían extendido más hacia el esófago. Se realizó una resección endoscópica de la mucosa del pólipo esofágico y la histopatología reveló que se trataba de un pólipo juvenil. Las imágenes de banda estrecha de un pólipo en el cuerpo gástrico mostraron un patrón microvascular irregular y una microsuperficie irregular. Una colonoscopia reveló dos pólipos de 2-3 mm en el colon ascendente y el ciego, y un pólipo semipedunculado de 5 mm en el colon sigmoide. Las lesiones colónicas se asemejaban al patrón de Kudo's Pit. La histopatología de los pólipos del ciego y del colon descendente mostró pólipos inflamatorios juveniles. La cápsula endoscópica reveló pólipos dispersos de 0-1 p en el intestino delgado y áreas de telangiectasia.\""
      ]
     },
     "execution_count": 5,
     "metadata": {},
     "output_type": "execute_result"
    }
   ],
   "source": [
    "test_df = pd.read_csv(os.path.join(PROJECT_DIR, \"./datasets/TFM_test.csv\"))\n",
    "test_df.annotations = test_df.annotations.apply(eval)\n",
    "clinical_note = test_df.texts.loc[1]\n",
    "hpo_codes = test_df.annotations.iloc[1]\n",
    "clinical_note"
   ]
  },
  {
   "cell_type": "markdown",
   "metadata": {},
   "source": [
    "## Load retrievers"
   ]
  },
  {
   "cell_type": "code",
   "execution_count": 4,
   "metadata": {},
   "outputs": [],
   "source": [
    "chroma_client = chromadb.HttpClient(host='localhost', port=8001)"
   ]
  },
  {
   "cell_type": "code",
   "execution_count": 5,
   "metadata": {},
   "outputs": [],
   "source": [
    "vectordb = Chroma(client=chroma_client, embedding_function=embeddings_model, \n",
    "                  collection_name=\"hpo_ontology_esp_FULL\")\n",
    "retriever = vectordb.as_retriever(search_kwargs={\"k\": 20})"
   ]
  },
  {
   "cell_type": "code",
   "execution_count": null,
   "metadata": {},
   "outputs": [],
   "source": [
    "with open(os.path.join(PROJECT_DIR, \"resources\", \"keyword_retriever.pkl\"), \"rb\") as fp:\n",
    "    keyword_retriever = pkl.load(fp)"
   ]
  },
  {
   "cell_type": "code",
   "execution_count": null,
   "metadata": {},
   "outputs": [],
   "source": [
    "ensemble_retriever = EnsembleRetriever(retrievers=[vectordb.as_retriever(),\n",
    "                                                   keyword_retriever],\n",
    "                                       weights=[0.6, 0.4], id_key=\"hpo_id\", k=4)"
   ]
  },
  {
   "cell_type": "code",
   "execution_count": null,
   "metadata": {},
   "outputs": [],
   "source": [
    "fuzzyretriever = FuzzyRetriever()"
   ]
  },
  {
   "cell_type": "markdown",
   "metadata": {},
   "source": [
    "## First LLM call"
   ]
  },
  {
   "cell_type": "code",
   "execution_count": 15,
   "metadata": {},
   "outputs": [],
   "source": [
    "system =  \"\"\"Eres un experto de codificación de fenotipos de la ontología Human Phenotype Ontology. Para ello primero debes determinar qué fenotipos están presentes en la nota clínica. Sigue los siguientes pasos: \n",
    "1. A partir del siguiente texto clínico, identifica términos del texto que sugieran fenotipos clínicos relevantes, incluyendo diagnósticos, síntomas, signos físicos, hallazgos de laboratorio y modos de herencia.  \n",
    "2. Si algún valor incluye de forma implícita un fenotipo, infiérelo y menciónalo como tal en el campo \"phenotype\".\n",
    "3. Si el valor no permite inferir con seguridad un fenotipo, simplemente describe el resultado de la analítica en lenguaje natural.\n",
    "4. Para cada término (extract), a parte del fenotipo, incluye la frase a la que pertenezca en la nota clínica original (context).\n",
    "5. Sé específico, cada término debe contener un solo fenotipo asociado. Si tiene dos fenotipos, duplícalo y menciona ambos fenotipos. \n",
    "\"\"\"\n",
    "prompt = ChatPromptTemplate.from_messages(\n",
    "    [\n",
    "        (\"system\", system),\n",
    "        (\"human\", \"{clinical_note}\"),\n",
    "    ]\n",
    ")"
   ]
  },
  {
   "cell_type": "code",
   "execution_count": 7,
   "metadata": {},
   "outputs": [],
   "source": [
    "class PhenotypeCandidate(BaseModel):\n",
    "    \"\"\"Fenotipos, patrones de herencia genética, anomalías anatómicas, síntomas clínicos, hallazgos diagnósticos, resultados de pruebas y afecciones o síndromes específicos en la nota clínica\"\"\"\n",
    "    extract: str = Field(description=\"Un único fenotipo, diagnóstico, sintoma clínico, anomalia anatómica o prueba de laboratorio\")\n",
    "    phenotype: str = Field(description=\"Nombre del posible fenotipo asociado en español\")\n",
    "    context: str = Field( description=\"Deja esto vacío\")\n",
    "\n",
    "\n",
    "class Data(BaseModel):\n",
    "    \"\"\"Información extraída sobre los fenotipos encontrados y los términos y contexto en el que se encuentran\"\"\"\n",
    "    candidates: List[PhenotypeCandidate]"
   ]
  },
  {
   "cell_type": "code",
   "execution_count": 16,
   "metadata": {},
   "outputs": [],
   "source": [
    "structured_llm = llm.with_structured_output(Data)"
   ]
  },
  {
   "cell_type": "code",
   "execution_count": null,
   "metadata": {},
   "outputs": [],
   "source": [
    "extractphenotypes = prompt | structured_llm\n",
    "answer = extractphenotypes.invoke(\n",
    "    {\n",
    "        \"clinical_note\": clinical_note\n",
    "    }\n",
    ")"
   ]
  },
  {
   "cell_type": "markdown",
   "metadata": {},
   "source": [
    "## Second LLM Call"
   ]
  },
  {
   "cell_type": "code",
   "execution_count": null,
   "metadata": {},
   "outputs": [],
   "source": [
    "sys_template = \"\"\"Identifica el término de la Ontología de Fenotipos Humanos (HPO) más apropiado para cada extracto de las notas clínicas del paciente a partir de una lista de candidatos (Código HPO - Descripción).\n",
    "Da prioridad a los términos que sean concisos y directamente pertinentes para el síntoma o afección principal descritos. \n",
    "Céntrate en el tema central de cada frase y evita seleccionar opciones con detalles descriptivos o situacionales adicionales a menos que sean esenciales para captar con precisión el fenotipo. \n",
    "Asegúrate de que el término HPO elegido coincide estrechamente con la afección del paciente tal como se describe, sin añadir términos nuevos o extraños. \n",
    "Si hay varios candidatos, selecciona y devuelve el término HPO más pertinente que mejor represente la afección o síntoma primario. Proporciona sólo los códigos HPO elegidos bajo la llave 'hpo_code' y con el formato 'HPXXXXXXX' donde la X es un número. La nota clínica original es la siguiente:\n",
    "{clinical_note}\n",
    "\"\"\"\n",
    "\n",
    "human_template =  \"\"\"Término: {term} ({phenotype})\n",
    "Contexto: {context}\n",
    "Candidatos: {candidates}\"\"\"\n",
    "\n",
    "chat_template = ChatPromptTemplate.from_messages([\n",
    "    ('system', sys_template),\n",
    "    ('human', human_template)\n",
    "])\n",
    "\n",
    "# mesages = chat_template.format_messages(term=\"Bob\", context=\"What is your name?\", candidates=\"hey\")"
   ]
  },
  {
   "cell_type": "code",
   "execution_count": null,
   "metadata": {},
   "outputs": [],
   "source": [
    "class HpoCode(BaseModel):\n",
    "    \"\"\"Código HPO asignado con el formato HP:#######\"\"\"\n",
    "    hpo_code: str"
   ]
  },
  {
   "cell_type": "code",
   "execution_count": null,
   "metadata": {},
   "outputs": [],
   "source": [
    "llm_output = llm.with_structured_output(HpoCode)\n",
    "hpo_assignment = chat_template | llm_output"
   ]
  },
  {
   "cell_type": "markdown",
   "metadata": {},
   "source": [
    "## Full chain"
   ]
  },
  {
   "cell_type": "code",
   "execution_count": null,
   "metadata": {},
   "outputs": [],
   "source": [
    "def pretty_print_candidates(docs):\n",
    "    final_str = \"\"\n",
    "    for doc in docs: \n",
    "        final_str += f\"{doc.id} - {doc.page_content}\\n\"\n",
    "    return final_str"
   ]
  },
  {
   "cell_type": "code",
   "execution_count": null,
   "metadata": {},
   "outputs": [],
   "source": [
    "@chain\n",
    "def custom_chain(question):\n",
    "    response = extractphenotypes.invoke(question)\n",
    "    docs = []\n",
    "    intermediate_results = []\n",
    "    for query in response.candidates:\n",
    "        new_docs = retriever.invoke(query.extract)\n",
    "        fuzzy_docs = [x[0] for x in fuzzyretriever.invoke(query.phenotype)]\n",
    "        new_docs =  vectordb.get_by_ids(set(fuzzy_docs)) + new_docs if len(set(fuzzy_docs)) > 0 else new_docs\n",
    "        docs.append({\"clinical_note\":question,\n",
    "                     \"term\":query.extract,\n",
    "                     \"phenotype\":query.phenotype,\n",
    "                     \"context\":query.context,\n",
    "                     \"candidates\":pretty_print_candidates(new_docs)})\n",
    "        intermediate_results.append([doc.id for doc in new_docs])    \n",
    "    answer = hpo_assignment.batch(docs)\n",
    "    return {\"final answer\": answer, \"docs\": intermediate_results}"
   ]
  },
  {
   "cell_type": "code",
   "execution_count": null,
   "metadata": {},
   "outputs": [],
   "source": [
    "from langfuse.callback import CallbackHandler\n",
    "langfuse_handler = CallbackHandler(\n",
    "    public_key=\"pk-lf-4c4b9492-d7ca-4f6d-b7af-325ea09726c0\",\n",
    "    secret_key=\"sk-lf-1b2e42c8-bf1e-4150-bf36-fce439ad2270\",\n",
    "    host=\"http://localhost:3000\"\n",
    ")"
   ]
  },
  {
   "cell_type": "code",
   "execution_count": null,
   "metadata": {},
   "outputs": [],
   "source": [
    "answer = custom_chain.with_config(\n",
    "    {\n",
    "        \"run_name\": \"qwen\",\n",
    "        \"metadata\": {\"version\": \"v1\", \"owner\": \"mdiazrio\"},\n",
    "        \"callbacks\": [langfuse_handler]\n",
    "    }\n",
    ").invoke({\"clinical_note\":clinical_note})"
   ]
  },
  {
   "cell_type": "markdown",
   "metadata": {},
   "source": [
    "## Extra"
   ]
  },
  {
   "cell_type": "markdown",
   "metadata": {},
   "source": [
    "### Raw GPT"
   ]
  },
  {
   "cell_type": "code",
   "execution_count": null,
   "metadata": {},
   "outputs": [],
   "source": [
    "system = \"\"\"Eres una herramienta que sirve para extraer fenotipos de la ontología Human Phenotype Ontolgy a partir de notas clínicas para ello: \n",
    "1. A partir del siguiente texto clínico, identifica todos los fenotipos clínicos relevantes, incluyendo diagnósticos, síntomas, signos físicos y hallazgos de laboratorio. \n",
    "2. Ignora por completo los hallazgos negativos, los hallazgos normales (es decir, «normal» o «no»), los procedimientos y los antecedentes familiares. \n",
    "3. Si algún valor incluye de forma implícita un fenotipo, infiérelo y menciónalo como tal.\n",
    "4. Para cada término, asigna el código HPO apropiado. \n",
    "Devuelve un JSON con la llave \"final_answer\" y el listado de códigos HPO detectados.\n",
    "\"\"\"\n",
    "prompt = ChatPromptTemplate.from_messages(\n",
    "    [\n",
    "        (\"system\", system),\n",
    "        (\"human\", \"{clinical_note}\"),\n",
    "    ]\n",
    ")"
   ]
  },
  {
   "cell_type": "code",
   "execution_count": null,
   "metadata": {},
   "outputs": [],
   "source": [
    "init_chain = prompt | llm\n",
    "\n",
    "@chain\n",
    "def rawgptchain(question):\n",
    "    response = init_chain.invoke(question)\n",
    "    return json.loads(response.content)"
   ]
  },
  {
   "cell_type": "code",
   "execution_count": null,
   "metadata": {},
   "outputs": [],
   "source": [
    "response = rawgptchain.with_config({\"callbacks\": [langfuse_handler]}).invoke({\"clinical_note\":clinical_note})"
   ]
  },
  {
   "cell_type": "markdown",
   "metadata": {},
   "source": [
    "### FlashRank"
   ]
  },
  {
   "cell_type": "code",
   "execution_count": null,
   "metadata": {},
   "outputs": [],
   "source": [
    "from langchain.retrievers import ContextualCompressionRetriever\n",
    "from langchain.retrievers.document_compressors import FlashrankRerank\n",
    "from flashrank import Ranker "
   ]
  },
  {
   "cell_type": "code",
   "execution_count": null,
   "metadata": {},
   "outputs": [],
   "source": [
    "ranker = Ranker(model_name=\"ms-marco-MiniLM-L-12-v2\")\n",
    "compressor = FlashrankRerank()\n",
    "compression_retriever = ContextualCompressionRetriever(\n",
    "    base_compressor=compressor, base_retriever=retriever\n",
    ")"
   ]
  },
  {
   "cell_type": "code",
   "execution_count": null,
   "metadata": {},
   "outputs": [],
   "source": [
    "reranked_docs = []\n",
    "for context in [c.context for c in answer.candidates]:\n",
    "    reranked_docs.append(compression_retriever.invoke(context)) "
   ]
  }
 ],
 "metadata": {
  "kernelspec": {
   "display_name": ".venv",
   "language": "python",
   "name": "python3"
  },
  "language_info": {
   "codemirror_mode": {
    "name": "ipython",
    "version": 3
   },
   "file_extension": ".py",
   "mimetype": "text/x-python",
   "name": "python",
   "nbconvert_exporter": "python",
   "pygments_lexer": "ipython3",
   "version": "3.11.6"
  }
 },
 "nbformat": 4,
 "nbformat_minor": 2
}
