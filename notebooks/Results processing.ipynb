{
 "cells": [
  {
   "cell_type": "markdown",
   "id": "684e294a",
   "metadata": {},
   "source": [
    "## Results Processing"
   ]
  },
  {
   "cell_type": "code",
   "execution_count": 21,
   "id": "d276e260",
   "metadata": {},
   "outputs": [],
   "source": [
    "import os \n",
    "from dotenv import dotenv_values\n",
    "import pandas as pd\n",
    "from langfuse import Langfuse\n",
    "import numpy as np\n",
    "import ast  \n",
    "langfuse = Langfuse()"
   ]
  },
  {
   "cell_type": "code",
   "execution_count": 19,
   "id": "2fc5effe",
   "metadata": {},
   "outputs": [],
   "source": [
    "for i,v in dotenv_values().items():\n",
    "    globals()[i]=v \n",
    "\n",
    "RESULTS_FOLDER = os.path.join(PROJECT_DIR, \"results\")"
   ]
  },
  {
   "cell_type": "code",
   "execution_count": 20,
   "id": "9c4b8129",
   "metadata": {},
   "outputs": [],
   "source": [
    "def langfuse_run_ids(dataset_name, dataset_run_name):\n",
    "    dataset_run = langfuse.get_dataset_run(\n",
    "    dataset_name=dataset_name, dataset_run_name=dataset_run_name\n",
    "    )\n",
    "    trace_ids = [run_item.trace_id for run_item in dataset_run.dataset_run_items]\n",
    "    return trace_ids"
   ]
  },
  {
   "cell_type": "code",
   "execution_count": 11,
   "id": "891b9a4c",
   "metadata": {},
   "outputs": [],
   "source": [
    "def open_results(dataset):\n",
    "    return pd.read_csv(os.path.join(RESULTS_FOLDER, dataset))"
   ]
  },
  {
   "cell_type": "code",
   "execution_count": 12,
   "id": "1efa7261",
   "metadata": {},
   "outputs": [],
   "source": [
    "def parse_cell(cell):\n",
    "    if isinstance(cell, str) and cell.startswith('[') and cell.endswith(']'):\n",
    "        try:\n",
    "            value = ast.literal_eval(cell)\n",
    "            return value[0] if isinstance(value, list) and len(value) == 1 else np.nan\n",
    "        except:\n",
    "            return np.nan\n",
    "    return cell"
   ]
  },
  {
   "cell_type": "code",
   "execution_count": 16,
   "id": "bbd1781d",
   "metadata": {},
   "outputs": [],
   "source": [
    "def get_results(dataset):\n",
    "    columns=['precision', 'recall', 'f1', 'semantic similarity', 'jaccard_similarity', 'r_precision', 'r_recall']\n",
    "    dataset[columns] = dataset[columns].fillna(0).applymap(parse_cell)\n",
    "    df = dataset[columns].copy()\n",
    "    metrics = df.mean(skipna=True).to_dict()\n",
    "    metrics['hallucinations'] = df[df['semantic similarity'] == -1].shape[0]\n",
    "    return metrics"
   ]
  },
  {
   "cell_type": "code",
   "execution_count": 25,
   "id": "4ab70731",
   "metadata": {},
   "outputs": [],
   "source": [
    "trace_ids = langfuse_run_ids(\"RAGHPO\", \"llama3.1:8b\")\n",
    "results = open_results(\"11052025.csv\")\n",
    "results = results[results.id.isin(trace_ids)]"
   ]
  },
  {
   "cell_type": "code",
   "execution_count": 26,
   "id": "0c9b8a4f",
   "metadata": {},
   "outputs": [
    {
     "data": {
      "text/plain": [
       "latency       380.078026\n",
       "inputCost            NaN\n",
       "outputCost           NaN\n",
       "totalCost            NaN\n",
       "dtype: float64"
      ]
     },
     "execution_count": 26,
     "metadata": {},
     "output_type": "execute_result"
    }
   ],
   "source": [
    "results[['latency', 'inputCost', 'outputCost', 'totalCost']].mean()"
   ]
  },
  {
   "cell_type": "code",
   "execution_count": null,
   "id": "082ac3a1",
   "metadata": {},
   "outputs": [
    {
     "data": {
      "text/plain": [
       "{'precision': 0.4440301443302799,\n",
       " 'recall': 0.27914775377624856,\n",
       " 'f1': 0.3268376068376068,\n",
       " 'semantic similarity': 0.18988064000509922,\n",
       " 'jaccard_similarity': 0.20513861067773,\n",
       " 'r_precision': 0.1686818266640675,\n",
       " 'r_recall': 0.4000893687188765,\n",
       " 'hallucinations': 13}"
      ]
     },
     "execution_count": 27,
     "metadata": {},
     "output_type": "execute_result"
    },
    {
     "ename": "",
     "evalue": "",
     "output_type": "error",
     "traceback": [
      "\u001b[1;31mThe Kernel crashed while executing code in the current cell or a previous cell. \n",
      "\u001b[1;31mPlease review the code in the cell(s) to identify a possible cause of the failure. \n",
      "\u001b[1;31mClick <a href='https://aka.ms/vscodeJupyterKernelCrash'>here</a> for more info. \n",
      "\u001b[1;31mView Jupyter <a href='command:jupyter.viewOutput'>log</a> for further details."
     ]
    }
   ],
   "source": [
    "get_results(results)"
   ]
  },
  {
   "cell_type": "code",
   "execution_count": 72,
   "id": "a929474f",
   "metadata": {},
   "outputs": [
    {
     "data": {
      "text/plain": [
       "<Axes: >"
      ]
     },
     "execution_count": 72,
     "metadata": {},
     "output_type": "execute_result"
    },
    {
     "data": {
      "image/png": "[encoded data removed]",
      "text/plain": [
       "<Figure size 640x480 with 1 Axes>"
      ]
     },
     "metadata": {},
     "output_type": "display_data"
    }
   ],
   "source": [
    "results.precision.hist()"
   ]
  },
  {
   "cell_type": "code",
   "execution_count": null,
   "id": "fab9e34d",
   "metadata": {},
   "outputs": [],
   "source": [
    "from scipy.stats import wilcoxon\n",
    "\n",
    "stat, p_value = wilcoxon(results.precision.hist(), v2)\n",
    "print(f\"Wilcoxon = {stat}, p = {p_value}\")\n"
   ]
  }
 ],
 "metadata": {
  "kernelspec": {
   "display_name": ".venv",
   "language": "python",
   "name": "python3"
  },
  "language_info": {
   "codemirror_mode": {
    "name": "ipython",
    "version": 3
   },
   "file_extension": ".py",
   "mimetype": "text/x-python",
   "name": "python",
   "nbconvert_exporter": "python",
   "pygments_lexer": "ipython3",
   "version": "3.11.6"
  }
 },
 "nbformat": 4,
 "nbformat_minor": 5
}
