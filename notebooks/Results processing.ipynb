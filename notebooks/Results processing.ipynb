{
 "cells": [
  {
   "cell_type": "markdown",
   "id": "684e294a",
   "metadata": {},
   "source": [
    "## Results Processing"
   ]
  },
  {
   "cell_type": "code",
   "execution_count": null,
   "id": "d276e260",
   "metadata": {},
   "outputs": [],
   "source": [
    "import os \n",
    "import ast  \n",
    "import json\n",
    "import numpy as np\n",
    "from dotenv import dotenv_values\n",
    "import pandas as pd\n",
    "from langfuse import Langfuse\n",
    "\n",
    "langfuse = Langfuse()"
   ]
  },
  {
   "cell_type": "code",
   "execution_count": 2,
   "id": "2fc5effe",
   "metadata": {},
   "outputs": [],
   "source": [
    "for i,v in dotenv_values().items():\n",
    "    globals()[i]=v \n",
    "\n",
    "RESULTS_FOLDER = os.path.join(PROJECT_DIR, \"results\")"
   ]
  },
  {
   "cell_type": "markdown",
   "id": "76aff4f5",
   "metadata": {},
   "source": [
    "## Necessary functions"
   ]
  },
  {
   "cell_type": "code",
   "execution_count": 3,
   "id": "9c4b8129",
   "metadata": {},
   "outputs": [],
   "source": [
    "def langfuse_run_ids(dataset_name, dataset_run_name):\n",
    "    dataset_run = langfuse.get_dataset_run(\n",
    "    dataset_name=dataset_name, dataset_run_name=dataset_run_name\n",
    "    )\n",
    "    trace_ids = [run_item.trace_id for run_item in dataset_run.dataset_run_items]\n",
    "    return trace_ids"
   ]
  },
  {
   "cell_type": "code",
   "execution_count": 4,
   "id": "891b9a4c",
   "metadata": {},
   "outputs": [],
   "source": [
    "def open_results(dataset):\n",
    "    return pd.read_csv(os.path.join(RESULTS_FOLDER, dataset))"
   ]
  },
  {
   "cell_type": "code",
   "execution_count": 5,
   "id": "1efa7261",
   "metadata": {},
   "outputs": [],
   "source": [
    "def parse_cell(cell):\n",
    "    if isinstance(cell, str) and cell.startswith('[') and cell.endswith(']'):\n",
    "        try:\n",
    "            value = ast.literal_eval(cell)\n",
    "            return value[0] if isinstance(value, list) and len(value) == 1 else np.nan\n",
    "        except:\n",
    "            return np.nan\n",
    "    return cell"
   ]
  },
  {
   "cell_type": "code",
   "execution_count": 13,
   "id": "bbd1781d",
   "metadata": {},
   "outputs": [],
   "source": [
    "def get_results(dataset):\n",
    "    columns=['precision', 'recall', 'f1', 'semantic similarity', 'jaccard_similarity', 'r_precision', 'r_recall', 'totalCost', 'latency']\n",
    "    dataset[columns] = dataset[columns].fillna(0).applymap(parse_cell)\n",
    "    df = dataset[columns].copy()\n",
    "    metrics = df.mean(skipna=True).to_dict()\n",
    "    # metrics['hallucinations'] = df[df['semantic similarity'] == -1].shape[0]\n",
    "    return metrics"
   ]
  },
  {
   "cell_type": "code",
   "execution_count": null,
   "id": "4227c8af",
   "metadata": {},
   "outputs": [],
   "source": [
    "def get_dataset_item_id(row):\n",
    "    try:\n",
    "        return json.loads(row)['dataset_item_id']\n",
    "    except:\n",
    "        return None"
   ]
  },
  {
   "cell_type": "code",
   "execution_count": null,
   "id": "20bbcd91",
   "metadata": {},
   "outputs": [],
   "source": [
    "def convert_2_json(s):\n",
    "    try: \n",
    "        return json.loads(s)\n",
    "    except:\n",
    "        return None"
   ]
  },
  {
   "cell_type": "code",
   "execution_count": null,
   "id": "5c71d54d",
   "metadata": {},
   "outputs": [],
   "source": [
    "def get_first_GEN(trace):\n",
    "    obs = [obs for obs in trace.observations if obs.type == 'GENERATION']\n",
    "    sorted_obs = sorted(obs, key=lambda obs: obs.start_time)\n",
    "    return sorted_obs[0]"
   ]
  },
  {
   "cell_type": "code",
   "execution_count": null,
   "id": "a37b0bbc",
   "metadata": {},
   "outputs": [],
   "source": [
    "def get_second_GEN(trace):\n",
    "    obs = [obs for obs in trace.observations if obs.type == 'GENERATION']\n",
    "    sorted_obs = sorted(obs, key=lambda obs: obs.start_time)\n",
    "    return [obs.usage_details for obs in sorted_obs[1:]]"
   ]
  },
  {
   "cell_type": "code",
   "execution_count": null,
   "id": "b4cf1344",
   "metadata": {},
   "outputs": [],
   "source": [
    "def get_output(obs):\n",
    "    try:\n",
    "        return obs['output_reasoning']\n",
    "    except:\n",
    "        return np.nan"
   ]
  },
  {
   "cell_type": "markdown",
   "id": "06564e56",
   "metadata": {},
   "source": [
    "## Read results"
   ]
  },
  {
   "cell_type": "code",
   "execution_count": null,
   "id": "4ab70731",
   "metadata": {},
   "outputs": [
    {
     "data": {
      "text/plain": [
       "(224, 36)"
      ]
     },
     "execution_count": 44,
     "metadata": {},
     "output_type": "execute_result"
    }
   ],
   "source": [
    "trace_ids = langfuse_run_ids(\"GSCESP\", \"NoHybrid-o4mini-extract\") #\n",
    "\n",
    "results = open_results(\"25052025.csv\")\n",
    "results = results[results.id.isin(trace_ids)]\n",
    "results.shape"
   ]
  },
  {
   "cell_type": "code",
   "execution_count": null,
   "id": "780b157f",
   "metadata": {},
   "outputs": [
    {
     "data": {
      "text/plain": [
       "{'precision': 0.6276099696712942,\n",
       " 'recall': 0.562891709499326,\n",
       " 'f1': 0.5871794871794872,\n",
       " 'semantic similarity': 0.5467914886693027,\n",
       " 'jaccard_similarity': 0.43817907596003935,\n",
       " 'r_precision': 0.17869935724748123,\n",
       " 'r_recall': 0.6535446489431067,\n",
       " 'hallucinations': 0}"
      ]
     },
     "metadata": {},
     "output_type": "display_data"
    }
   ],
   "source": [
    "get_results(results)"
   ]
  },
  {
   "cell_type": "code",
   "execution_count": null,
   "id": "a124f304",
   "metadata": {},
   "outputs": [],
   "source": [
    "results['item_id' ] = results['metadata'].apply(lambda x: get_dataset_item_id(x) )\n",
    "results = results[~results.item_id.isna()]\n",
    "results.output = results['output'].apply(convert_2_json)\n",
    "results.input = results['input'].apply(convert_2_json)"
   ]
  },
  {
   "cell_type": "code",
   "execution_count": null,
   "id": "d17240c7",
   "metadata": {},
   "outputs": [],
   "source": [
    "n_candidates = results['output'].apply(lambda x: len(x['final_answer']) if x is not None else None) #number of candidates retrieved\n",
    "len_cc = results['input'].apply(lambda x: len(x['clinical_note'].split(' ')) if x is not None else None ) #length of candidates"
   ]
  },
  {
   "cell_type": "code",
   "execution_count": null,
   "id": "c9a9f6a6",
   "metadata": {},
   "outputs": [],
   "source": [
    "traces = results['id'].apply(langfuse.fetch_trace) #get the whole trace\n",
    "traces = traces.apply(lambda x: x.data)\n",
    "first_obs = traces.apply(lambda x: get_first_GEN(x)) #first call\n",
    "second_obs = traces.apply(lambda x: get_second_GEN(x)) #second call"
   ]
  },
  {
   "cell_type": "code",
   "execution_count": 161,
   "id": "131cd34f",
   "metadata": {},
   "outputs": [],
   "source": [
    "token_count = [(cc, obs['input']) for cc, obs_list in zip(len_cc.values, second_obs) for obs in obs_list if not pd.isna(cc)]\n",
    "X = [a[0] for a in token_count]\n",
    "Y = [a[1] for a in token_count]"
   ]
  },
  {
   "cell_type": "code",
   "execution_count": null,
   "id": "1a63a323",
   "metadata": {},
   "outputs": [],
   "source": [
    "reasoning_tokens = first_obs.apply(lambda x: x.usage_details['output_reasoning'] if 'output_reasoning' in x.usage_details else None) #reasoning tokens\n",
    "output_tokens = first_obs.apply(lambda x: x.usage_details['output'] if 'output' in x.usage_details else None) \n",
    "cost = first_obs.apply(lambda x: x.calculated_total_cost)"
   ]
  }
 ],
 "metadata": {
  "kernelspec": {
   "display_name": ".venv",
   "language": "python",
   "name": "python3"
  },
  "language_info": {
   "codemirror_mode": {
    "name": "ipython",
    "version": 3
   },
   "file_extension": ".py",
   "mimetype": "text/x-python",
   "name": "python",
   "nbconvert_exporter": "python",
   "pygments_lexer": "ipython3",
   "version": "3.11.6"
  }
 },
 "nbformat": 4,
 "nbformat_minor": 5
}
