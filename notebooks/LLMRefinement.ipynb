{
 "cells": [
  {
   "cell_type": "markdown",
   "metadata": {},
   "source": [
    "# LLM refinement with langchain"
   ]
  },
  {
   "cell_type": "code",
   "execution_count": 1,
   "metadata": {},
   "outputs": [
    {
     "name": "stderr",
     "output_type": "stream",
     "text": [
      "/Users/malenadiazrio/Documents/UOC/TFM/TFM_2025_1/.venv/lib/python3.11/site-packages/tqdm/auto.py:21: TqdmWarning: IProgress not found. Please update jupyter and ipywidgets. See https://ipywidgets.readthedocs.io/en/stable/user_install.html\n",
      "  from .autonotebook import tqdm as notebook_tqdm\n"
     ]
    }
   ],
   "source": [
    "import os\n",
    "import re\n",
    "import json\n",
    "import importlib\n",
    "import chromadb\n",
    "import pickle as pkl\n",
    "import pandas as pd\n",
    "from dotenv import dotenv_values\n",
    "from langchain_chroma import Chroma\n",
    "from typing import List, Optional\n",
    "from pydantic import BaseModel, Field\n",
    "from langchain.chat_models import ChatOpenAI\n",
    "from langchain_voyageai import VoyageAIEmbeddings\n",
    "from langchain_core.prompts import PromptTemplate\n",
    "from langchain.chat_models import init_chat_model\n",
    "from langchain.retrievers import BM25Retriever, EnsembleRetriever\n",
    "from langchain_core.prompts import ChatPromptTemplate\n",
    "from langchain_ollama import ChatOllama\n",
    "import sys\n",
    "\n",
    "sys.path.append('../src/')"
   ]
  },
  {
   "cell_type": "code",
   "execution_count": 2,
   "metadata": {},
   "outputs": [],
   "source": [
    "for i,v in dotenv_values().items():\n",
    "    globals()[i]=v "
   ]
  },
  {
   "cell_type": "code",
   "execution_count": 3,
   "metadata": {},
   "outputs": [],
   "source": [
    "RESOURCES_DIR=\"../../resources\"\n",
    "llm = init_chat_model(\"o4-mini\", model_provider=\"openai\")\n",
    "# llm = ChatOllama(model=\"qwen3:8b\")\n",
    "embeddings_model = VoyageAIEmbeddings(model=\"voyage-3\")"
   ]
  },
  {
   "cell_type": "markdown",
   "metadata": {},
   "source": [
    "Texto a probar"
   ]
  },
  {
   "cell_type": "code",
   "execution_count": null,
   "metadata": {},
   "outputs": [
    {
     "data": {
      "text/plain": [
       "\"Un hombre de 32 años acudió a una unidad regional de cirugía general por anemia sintomática grave. En un lapso de 4 meses, su hemoglobina descendió 62 puntos desde 137 gL (N: 135-180 gL). Su historial médico incluía epilepsia con valproato, arritmia cardiaca con flecainida, síndrome del túnel carpiano y compresión de la raíz nerviosa C5. No fuma, consume poco alcohol, tiene dos perros en casa y dos hijos. Sus antecedentes familiares incluían a su abuelo, que tuvo cáncer de intestino diagnosticado a los 78 años, y una abuela con cáncer de mama. La primera modalidad de diagnóstico por imagen fue un TAC que mostraba una gran masa fungiforme en el cuerpo del estómago que se extendía hasta el píloro y la primera parte del duodeno. Se sometió a una endoscopia digestiva alta (EDA) para investigar la patología. La histopatología arrojó con frecuencia un resultado de tejido hiperplásico benigno. Los primeros resultados histopatológicos informaron de mucosa gástrica con hiperplasia foveolar menor, edema estromal con aumento menor de células inflamatorias crónicas. No había evidencia de organismos helicobacter, gastritis activa o atipia. Los hallazgos iniciales del endoscopio mostraron pólipos en forma de alfombra que recubrían el antro y el cuerpo gástrico. En una segunda UGE, se realizaron biopsias de túnel, que mostraron que los pólipos en forma de alfombra habían progresado hacia la primera parte del duodeno, en comparación con la UGE anterior. La biopsia resultó ser gastritis crónica asociada a Helicobacter heilmannii con cambios hiperplásicos del pólipo de la glándula fúndica. Se solicitaron ANA séricos, ANCA, anticuerpos anticélulas parietales, serología de infección por citomegalovirus, panel de hepatitis, electroforesis de proteínas séricas, serología de Helicobacter y marcador tumoral CA 72-4. Los resultados fueron negativos, excepto por un resultado positivo en la prueba de detección de Helicobacter heilmannii. Los resultados fueron negativos, salvo una serología positiva para Helicobacter IgG. Se trató el H. heilmannii con dos ciclos del régimen de erradicación de Helicobacter. La repetición de la UGE, 2 meses después, no mostró evidencia del organismo Helicobacter. Los resultados histopatológicos mostraron un pólipo gástrico hiperplásico con un fondo de inflamación crónica leve. La repetición de la UGE 3 meses después de la UGE inicial mostró una clasificación 0-Isp de Paris en el duodeno y los pólipos se habían extendido más hacia el esófago. Se realizó una resección endoscópica de la mucosa del pólipo esofágico y la histopatología reveló que se trataba de un pólipo juvenil. Las imágenes de banda estrecha de un pólipo en el cuerpo gástrico mostraron un patrón microvascular irregular y una microsuperficie irregular. Una colonoscopia reveló dos pólipos de 2-3 mm en el colon ascendente y el ciego, y un pólipo semipedunculado de 5 mm en el colon sigmoide. Las lesiones colónicas se asemejaban al patrón de Kudo's Pit. La histopatología de los pólipos del ciego y del colon descendente mostró pólipos inflamatorios juveniles. La cápsula endoscópica reveló pólipos dispersos de 0-1 p en el intestino delgado y áreas de telangiectasia.\""
      ]
     },
     "execution_count": 5,
     "metadata": {},
     "output_type": "execute_result"
    }
   ],
   "source": [
    "test_df = pd.read_csv(os.path.join(PROJECT_DIR, \"./datasets/TFM_test.csv\"))\n",
    "test_df.annotations = test_df.annotations.apply(eval)\n",
    "clinical_note = test_df.texts.loc[1]\n",
    "hpo_codes = test_df.annotations.iloc[1]\n",
    "clinical_note"
   ]
  },
  {
   "cell_type": "markdown",
   "metadata": {},
   "source": [
    "Definir el formato del input"
   ]
  },
  {
   "cell_type": "code",
   "execution_count": 4,
   "metadata": {},
   "outputs": [],
   "source": [
    "chroma_client = chromadb.HttpClient(host='localhost', port=8001)"
   ]
  },
  {
   "cell_type": "code",
   "execution_count": 5,
   "metadata": {},
   "outputs": [],
   "source": [
    "vectordb = Chroma(client=chroma_client, embedding_function=embeddings_model, \n",
    "                  collection_name=\"hpo_ontology_esp_FULL\")\n",
    "retriever = vectordb.as_retriever(search_kwargs={\"k\": 20})"
   ]
  },
  {
   "cell_type": "code",
   "execution_count": null,
   "metadata": {},
   "outputs": [],
   "source": [
    "with open(os.path.join(PROJECT_DIR, \"resources\", \"keyword_retriever.pkl\"), \"rb\") as fp:\n",
    "    keyword_retriever = pkl.load(fp)"
   ]
  },
  {
   "cell_type": "code",
   "execution_count": 20,
   "metadata": {},
   "outputs": [
    {
     "data": {
      "text/plain": [
       "[Document(id='HP:0001263', metadata={'lineage': 'HP:0012758->HP:0012759->HP:0012638->HP:0000707->HP:0000118', 'hpo_id': 'HP:0001263'}, page_content='Retardo global del desarrollo. Retraso cognitivo. Retraso en el desarrollo cognitivo. Retraso en el desarrollo. Retraso en los hitos del desarrollo. Retraso en el desarrollo intelectual. Hitos retrasados. Retraso en el desarrollo psicomotor. Retraso en el desarrollo. Retraso del desarrollo en la primera infancia. Retraso global del desarrollo. Retraso en el desarrollo. GDD. Falta de desarrollo psicomotor. Retraso mental y motor. Retraso motor y del desarrollo. Retraso mental. Retraso psicomotor. Deficiencia en el desarrollo psicomotor. Fracaso del desarrollo psicomotor. Retraso del desarrollo psicomotor. Retraso en el desarrollo. Retraso en el desarrollo mental. Retraso en el desarrollo psicomotor. Retraso en la consecución de hitos motores o mentales en los ámbitos del desarrollo de un niño, incluidas las habilidades motoras, el habla y el lenguaje, las habilidades cognitivas y las habilidades sociales y emocionales. Este término sólo debe utilizarse para describir a niños menores de cinco años.'),\n",
       " Document(id='HP:0002671', metadata={'lineage': 'HP:0008069->HP:0000951->HP:0002664->HP:0001574->HP:0000118->HP:0011793', 'hpo_id': 'HP:0002671'}, page_content='Carcinoma basocelular. Carcinomas basocelulares. Epitelioma basocelular. Nevus basocelular. Basalioma. La presencia de un carcinoma basocelular de la piel.'),\n",
       " Document(id='HP:0003745', metadata={'hpo_id': 'HP:0003745', 'lineage': 'HP:0000005'}, page_content='Esporádico. Casos aislados. Sin antecedentes familiares. Los casos de la enfermedad en cuestión se producen sin antecedentes familiares, es decir, como casos aislados sin que se transmitan de un progenitor y sin que otros hermanos estén afectados.'),\n",
       " Document(id='HP:0003812', metadata={'hpo_id': 'HP:0003812', 'lineage': 'HP:0012823'}, page_content='Variabilidad fenotípica. Heterogeneidad clínica. Fenotipo clínico muy variable. Fenotipo muy variable. Fenotipo y gravedad muy variables. Fenotipo muy variable, incluso dentro de una misma familia. Fenotipo variable. Gravedad fenotípica variable. Una variabilidad de rasgos fenotípicos.')]"
      ]
     },
     "execution_count": 20,
     "metadata": {},
     "output_type": "execute_result"
    }
   ],
   "source": [
    "vectordb.get_by_ids([\n",
    "    \"HP:0003812\",\n",
    "    \"HP:0003745\",\n",
    "    \"HP:0002671\",\n",
    "    \"HP:0001263\"\n",
    "  ])"
   ]
  },
  {
   "cell_type": "code",
   "execution_count": null,
   "metadata": {},
   "outputs": [],
   "source": [
    "with open(os.path.join(PROJECT_DIR, \"./resources/keyword_retriever.pkl\"), \"rb\") as fp:\n",
    "    keyword_retriever = pkl.load(fp)"
   ]
  },
  {
   "cell_type": "code",
   "execution_count": null,
   "metadata": {},
   "outputs": [],
   "source": [
    "ensemble_retriever = EnsembleRetriever(retrievers=[vectordb.as_retriever(),\n",
    "                                                   keyword_retriever],\n",
    "                                       weights=[0.6, 0.4], id_key=\"hpo_id\", k=4)"
   ]
  },
  {
   "cell_type": "code",
   "execution_count": null,
   "metadata": {},
   "outputs": [],
   "source": [
    "# prompt = \"\"\"Revisa cuidadosamente cada frase de la nota clínica para identificar términos relacionados con patrones de herencia genética, anomalías anatómicas, síntomas clínicos, hallazgos diagnósticos, resultados de pruebas y afecciones o síndromes específicos.\n",
    "# Ignora por completo los hallazgos negativos, los hallazgos normales (es decir, «normal» o «no»), los procedimientos y los antecedentes familiares. Incluye el contexto apropiado basándote únicamente en el pasaje.\n",
    "# Devuelve los términos extraídos en un objeto JSON con una única clave 'fenotipos', que contiene la lista de términos extraídos escritos correctamente. Asegúrate de que el resultado sea conciso, sin notas, comentarios ni metaexplicaciones adicionales. No dejes fuera adjetivos críticos para ese fenotipo.\n",
    "# <<NOTA CLÍNICA>>>\n",
    "# {clinical_note}\"\"\"\n",
    "# prompt = PromptTemplate.from_template(prompt)"
   ]
  },
  {
   "cell_type": "markdown",
   "metadata": {},
   "source": [
    "Definir el output"
   ]
  },
  {
   "cell_type": "code",
   "execution_count": 15,
   "metadata": {},
   "outputs": [],
   "source": [
    "system =  \"\"\"Eres un experto de codificación de fenotipos de la ontología Human Phenotype Ontology. Para ello primero debes determinar qué fenotipos están presentes en la nota clínica. Sigue los siguientes pasos: \n",
    "1. A partir del siguiente texto clínico, identifica términos del texto que sugieran fenotipos clínicos relevantes, incluyendo diagnósticos, síntomas, signos físicos, hallazgos de laboratorio y modos de herencia.  \n",
    "2. Si algún valor incluye de forma implícita un fenotipo, infiérelo y menciónalo como tal en el campo \"phenotype\".\n",
    "3. Si el valor no permite inferir con seguridad un fenotipo, simplemente describe el resultado de la analítica en lenguaje natural.\n",
    "4. Para cada término (extract), a parte del fenotipo, incluye la frase a la que pertenezca en la nota clínica original (context).\n",
    "5. Sé específico, cada término debe contener un solo fenotipo asociado. Si tiene dos fenotipos, duplícalo y menciona ambos fenotipos. \n",
    "\"\"\"\n",
    "prompt = ChatPromptTemplate.from_messages(\n",
    "    [\n",
    "        (\"system\", system),\n",
    "        (\"human\", \"{clinical_note}\"),\n",
    "    ]\n",
    ")"
   ]
  },
  {
   "cell_type": "code",
   "execution_count": 7,
   "metadata": {},
   "outputs": [],
   "source": [
    "class PhenotypeCandidate(BaseModel):\n",
    "    \"\"\"Fenotipos, patrones de herencia genética, anomalías anatómicas, síntomas clínicos, hallazgos diagnósticos, resultados de pruebas y afecciones o síndromes específicos en la nota clínica\"\"\"\n",
    "    extract: str = Field(description=\"Un único fenotipo, diagnóstico, sintoma clínico, anomalia anatómica o prueba de laboratorio\")\n",
    "    phenotype: str = Field(description=\"Nombre del posible fenotipo asociado en español\")\n",
    "    context: str = Field( description=\"Deja esto vacío\")\n",
    "\n",
    "\n",
    "class Data(BaseModel):\n",
    "    \"\"\"Información extraída sobre los fenotipos encontrados y los términos y contexto en el que se encuentran\"\"\"\n",
    "    candidates: List[PhenotypeCandidate]"
   ]
  },
  {
   "cell_type": "code",
   "execution_count": 16,
   "metadata": {},
   "outputs": [],
   "source": [
    "structured_llm = llm.with_structured_output(Data)"
   ]
  },
  {
   "cell_type": "code",
   "execution_count": 17,
   "metadata": {},
   "outputs": [],
   "source": [
    "extractphenotypes = prompt | structured_llm\n",
    "answer = extractphenotypes.invoke(\n",
    "    {\n",
    "        \"clinical_note\": \"Los pacientes que presentan schwannomas vestibulares unilaterales a una edad temprana o con características adicionales de neurofibromatosis de tipo 2 (NF2) corren el riesgo de desarrollar enfermedad bilateral y transmitir un riesgo de tumores neurogénicos a su descendencia. Hemos identificado 15 pacientes de una serie de 537 con schwannomas vestibulares unilaterales que también presentaban uno o más de los siguientes factores: otros tumores (10/15), características de NF2 (3/15) o antecedentes familiares de tumores neurogénicos (5/15). No se detectaron mutaciones de la línea germinal de la NF2 y en 7/9 casos en los que se disponía de material tumoral para el análisis se ha excluido una mutación de la línea germinal en el gen de la NF2. Aunque sigue existiendo la posibilidad de mosaicismo gonosómico, ahora es posible realizar pruebas de exclusión para la descendencia. Sugerimos una estrategia general, basada en el análisis del ADN tumoral, para distinguir los casos esporádicos y familiares de tumores causados por dos mecanismos de hit. La aplicación de esta estrategia sugiere que la mayoría de los casos de schwannoma vestibular unilateral que no cumplen los criterios de la NF2 son casuales.\",\n",
    "    }\n",
    ")"
   ]
  },
  {
   "cell_type": "code",
   "execution_count": 18,
   "metadata": {},
   "outputs": [
    {
     "data": {
      "text/plain": [
       "[PhenotypeCandidate(extract='schwannomas vestibulares unilaterales', phenotype='Schwannoma vestibular unilateral', context=''),\n",
       " PhenotypeCandidate(extract='a una edad temprana', phenotype='Inicio temprano de la enfermedad', context=''),\n",
       " PhenotypeCandidate(extract='características adicionales de neurofibromatosis de tipo 2 (NF2)', phenotype='Neurofibromatosis tipo 2', context=''),\n",
       " PhenotypeCandidate(extract='enfermedad bilateral', phenotype='Schwannoma vestibular bilateral', context=''),\n",
       " PhenotypeCandidate(extract='tumores neurogénicos a su descendencia', phenotype='Tumores neurogénicos hereditarios', context=''),\n",
       " PhenotypeCandidate(extract='otros tumores', phenotype='Tumores', context=''),\n",
       " PhenotypeCandidate(extract='antecedentes familiares de tumores neurogénicos', phenotype='Antecedentes familiares de tumores neurogénicos', context=''),\n",
       " PhenotypeCandidate(extract='No se detectaron mutaciones de la línea germinal de la NF2', phenotype='Ausencia de mutación germinal de NF2', context=''),\n",
       " PhenotypeCandidate(extract='se ha excluido una mutación de la línea germinal en el gen de la NF2', phenotype='Ausencia de mutación germinal de NF2', context=''),\n",
       " PhenotypeCandidate(extract='posibilidad de mosaicismo gonosómico', phenotype='Mosaicismo gonosómico', context=''),\n",
       " PhenotypeCandidate(extract='casos esporádicos', phenotype='Tumor esporádico', context=''),\n",
       " PhenotypeCandidate(extract='casos familiares', phenotype='Tumor familiar', context='')]"
      ]
     },
     "execution_count": 18,
     "metadata": {},
     "output_type": "execute_result"
    }
   ],
   "source": [
    "answer.candidates"
   ]
  },
  {
   "cell_type": "code",
   "execution_count": null,
   "metadata": {},
   "outputs": [],
   "source": [
    "with open(\"../../resources/names_dict.pkl\", \"rb\") as fp:\n",
    "    names_dict = pkl.load(fp)"
   ]
  },
  {
   "cell_type": "code",
   "execution_count": null,
   "metadata": {},
   "outputs": [],
   "source": [
    "from langchain_core.prompts import ChatPromptTemplate, HumanMessagePromptTemplate, SystemMessagePromptTemplate\n",
    "\n",
    "sys_template = \"\"\"Identifica el término de la Ontología de Fenotipos Humanos (HPO) más apropiado para cada extracto de las notas clínicas del paciente a partir de una lista de candidatos (Código HPO - Descripción).\n",
    "Da prioridad a los términos que sean concisos y directamente pertinentes para el síntoma o afección principal descritos. \n",
    "Céntrate en el tema central de cada frase y evita seleccionar opciones con detalles descriptivos o situacionales adicionales a menos que sean esenciales para captar con precisión el fenotipo. \n",
    "Asegúrate de que el término HPO elegido coincide estrechamente con la afección del paciente tal como se describe, sin añadir términos nuevos o extraños. \n",
    "Si hay varios candidatos, selecciona y devuelve el término HPO más pertinente que mejor represente la afección o síntoma primario. Proporciona sólo los códigos HPO elegidos bajo la llave 'hpo_code' y con el formato 'HPXXXXXXX' donde la X es un número. La nota clínica original es la siguiente:\n",
    "{clinical_note}\n",
    "\"\"\"\n",
    "\n",
    "human_template =  \"\"\"Término: {term} ({phenotype})\n",
    "Contexto: {context}\n",
    "Candidatos: {candidates}\"\"\"\n",
    "\n",
    "chat_template = ChatPromptTemplate.from_messages([\n",
    "    ('system', sys_template),\n",
    "    ('human', human_template)\n",
    "])\n",
    "\n",
    "# mesages = chat_template.format_messages(term=\"Bob\", context=\"What is your name?\", candidates=\"hey\")"
   ]
  },
  {
   "cell_type": "code",
   "execution_count": null,
   "metadata": {},
   "outputs": [],
   "source": [
    "class HpoCode(BaseModel):\n",
    "    \"\"\"Código HPO asignado con el formato HP:#######\"\"\"\n",
    "    hpo_code: str"
   ]
  },
  {
   "cell_type": "code",
   "execution_count": null,
   "metadata": {},
   "outputs": [],
   "source": [
    "llm_output = llm.with_structured_output(HpoCode)"
   ]
  },
  {
   "cell_type": "code",
   "execution_count": null,
   "metadata": {},
   "outputs": [],
   "source": [
    "hpo_assignment = chat_template | llm_output"
   ]
  },
  {
   "cell_type": "code",
   "execution_count": null,
   "metadata": {},
   "outputs": [],
   "source": [
    "from utils.fuzzyretriever import FuzzyRetriever\n",
    "fuzzyretriever = FuzzyRetriever()"
   ]
  },
  {
   "cell_type": "code",
   "execution_count": null,
   "metadata": {},
   "outputs": [
    {
     "data": {
      "text/plain": [
       "[]"
      ]
     },
     "execution_count": 13,
     "metadata": {},
     "output_type": "execute_result"
    }
   ],
   "source": [
    "fuzzyretriever.invoke(\"motora\")"
   ]
  },
  {
   "cell_type": "code",
   "execution_count": null,
   "metadata": {},
   "outputs": [],
   "source": [
    "def pretty_print_candidates(docs):\n",
    "    final_str = \"\"\n",
    "    for doc in docs: \n",
    "        final_str += f\"{doc.id} - {doc.page_content}\\n\"\n",
    "    return final_str"
   ]
  },
  {
   "cell_type": "code",
   "execution_count": null,
   "metadata": {},
   "outputs": [],
   "source": [
    "from langchain_core.runnables import chain\n",
    "from langsmith import traceable\n",
    "\n",
    "@chain\n",
    "def custom_chain(question):\n",
    "    response = extractphenotypes.invoke(question)\n",
    "    docs = []\n",
    "    intermediate_results = []\n",
    "    for query in response.candidates:\n",
    "        new_docs = retriever.invoke(query.extract)\n",
    "        fuzzy_docs = [x[0] for x in fuzzyretriever.invoke(query.phenotype)]\n",
    "        new_docs =  vectordb.get_by_ids(set(fuzzy_docs)) + new_docs if len(set(fuzzy_docs)) > 0 else new_docs\n",
    "        docs.append({\"clinical_note\":question,\n",
    "                     \"term\":query.extract,\n",
    "                     \"phenotype\":query.phenotype,\n",
    "                     \"context\":query.context,\n",
    "                     \"candidates\":pretty_print_candidates(new_docs)})\n",
    "        intermediate_results.append([doc.id for doc in new_docs])    \n",
    "    answer = hpo_assignment.batch(docs)\n",
    "    return {\"final answer\": answer, \"docs\": intermediate_results}"
   ]
  },
  {
   "cell_type": "code",
   "execution_count": null,
   "metadata": {},
   "outputs": [],
   "source": [
    "import importlib\n",
    "import utils.customchain as cc\n",
    "custom_chain = cc.custom_chain"
   ]
  },
  {
   "cell_type": "code",
   "execution_count": null,
   "metadata": {},
   "outputs": [],
   "source": [
    "from langfuse.callback import CallbackHandler\n",
    "langfuse_handler = CallbackHandler(\n",
    "    public_key=\"pk-lf-4c4b9492-d7ca-4f6d-b7af-325ea09726c0\",\n",
    "    secret_key=\"sk-lf-1b2e42c8-bf1e-4150-bf36-fce439ad2270\",\n",
    "    host=\"http://localhost:3000\"\n",
    ")"
   ]
  },
  {
   "cell_type": "code",
   "execution_count": null,
   "metadata": {},
   "outputs": [],
   "source": [
    "answer = custom_chain.invoke({\"clinical_note\":clinical_note})"
   ]
  },
  {
   "cell_type": "code",
   "execution_count": null,
   "metadata": {},
   "outputs": [],
   "source": [
    "answer = custom_chain.with_config(\n",
    "    {\n",
    "        \"run_name\": \"qwen\",\n",
    "        \"metadata\": {\"version\": \"v1\", \"owner\": \"mdiazrio\"},\n",
    "        \"callbacks\": [langfuse_handler]\n",
    "    }\n",
    ").invoke({\"clinical_note\":clinical_note})"
   ]
  },
  {
   "cell_type": "code",
   "execution_count": null,
   "metadata": {},
   "outputs": [
    {
     "data": {
      "text/plain": [
       "{'final answer': [HpoCode(hpo_code='HP0001903'),\n",
       "  HpoCode(hpo_code='HP0001903'),\n",
       "  HpoCode(hpo_code='HP0007750'),\n",
       "  HpoCode(hpo_code='HP0034884'),\n",
       "  HpoCode(hpo_code='HP0005263'),\n",
       "  HpoCode(hpo_code='HP0004394'),\n",
       "  HpoCode(hpo_code='HP0004783'),\n",
       "  HpoCode(hpo_code='HP0005231'),\n",
       "  HpoCode(hpo_code='HP:0005202'),\n",
       "  HpoCode(hpo_code='HP0033769'),\n",
       "  HpoCode(hpo_code='HP0005202'),\n",
       "  HpoCode(hpo_code='HP0005202'),\n",
       "  HpoCode(hpo_code='HP0005202'),\n",
       "  HpoCode(hpo_code='HP0004795'),\n",
       "  HpoCode(hpo_code='HP0004783'),\n",
       "  HpoCode(hpo_code='HP0012859'),\n",
       "  HpoCode(hpo_code='HP0004784'),\n",
       "  HpoCode(hpo_code='HP0004296'),\n",
       "  HpoCode(hpo_code='HP0032222'),\n",
       "  HpoCode(hpo_code='HP0004784'),\n",
       "  HpoCode(hpo_code='HP0005238'),\n",
       "  HpoCode(hpo_code='HP0001009'),\n",
       "  HpoCode(hpo_code='HP0004784')],\n",
       " 'docs': [['HP:0001903',\n",
       "   'HP:0030784',\n",
       "   'HP:0020060',\n",
       "   'HP:0011895',\n",
       "   'HP:0001903',\n",
       "   'HP:0001895',\n",
       "   'HP:0011031',\n",
       "   'HP:0033264',\n",
       "   'HP:0034738',\n",
       "   'HP:0004863',\n",
       "   'HP:0020059',\n",
       "   'HP:0001908',\n",
       "   'HP:0020058',\n",
       "   'HP:0004861',\n",
       "   'HP:0001891',\n",
       "   'HP:6000132',\n",
       "   'HP:0012410',\n",
       "   'HP:0012139',\n",
       "   'HP:0001898',\n",
       "   'HP:0030271',\n",
       "   'HP:0001889',\n",
       "   'HP:0004857'],\n",
       "  ['HP:0001903',\n",
       "   'HP:0030784',\n",
       "   'HP:0020062',\n",
       "   'HP:0001903',\n",
       "   'HP:0020060',\n",
       "   'HP:0025547',\n",
       "   'HP:0020061',\n",
       "   'HP:0031851',\n",
       "   'HP:0032231',\n",
       "   'HP:0001931',\n",
       "   'HP:0040303',\n",
       "   'HP:0011902',\n",
       "   'HP:0011905',\n",
       "   'HP:0020181',\n",
       "   'HP:0025546',\n",
       "   'HP:0001891',\n",
       "   'HP:0011967',\n",
       "   'HP:0025022',\n",
       "   'HP:0011031',\n",
       "   'HP:0034716',\n",
       "   'HP:0001900',\n",
       "   'HP:0003514'],\n",
       "  ['HP:0002729',\n",
       "   'HP:0007750',\n",
       "   'HP:0010620',\n",
       "   'HP:0012643',\n",
       "   'HP:0001104',\n",
       "   'HP:0007750',\n",
       "   'HP:0008001',\n",
       "   'HP:0030493',\n",
       "   'HP:0025010',\n",
       "   'HP:0008060',\n",
       "   'HP:0031152',\n",
       "   'HP:0012152',\n",
       "   'HP:0030617',\n",
       "   'HP:0007988',\n",
       "   'HP:0030504',\n",
       "   'HP:0011503',\n",
       "   'HP:0025007',\n",
       "   'HP:0000493',\n",
       "   'HP:0007649',\n",
       "   'HP:0034362',\n",
       "   'HP:0034311',\n",
       "   'HP:0500088',\n",
       "   'HP:0007797'],\n",
       "  ['HP:0025137',\n",
       "   'HP:0025136',\n",
       "   'HP:0034989',\n",
       "   'HP:0040298',\n",
       "   'HP:0003609',\n",
       "   'HP:0005225',\n",
       "   'HP:0034884',\n",
       "   'HP:0032637',\n",
       "   'HP:0025140',\n",
       "   'HP:0025135',\n",
       "   'HP:0025139',\n",
       "   'HP:0025636',\n",
       "   'HP:0033965',\n",
       "   'HP:0025138',\n",
       "   'HP:0030126',\n",
       "   'HP:0008675',\n",
       "   'HP:0033923',\n",
       "   'HP:0008214',\n",
       "   'HP:0020156',\n",
       "   'HP:0032548'],\n",
       "  ['HP:0005231',\n",
       "   'HP:0005263',\n",
       "   'HP:0004295',\n",
       "   'HP:0005202',\n",
       "   'HP:0002044',\n",
       "   'HP:0500166',\n",
       "   'HP:0005219',\n",
       "   'HP:0500167',\n",
       "   'HP:0002582',\n",
       "   'HP:0030145',\n",
       "   'HP:0410147',\n",
       "   'HP:0012719',\n",
       "   'HP:0025032',\n",
       "   'HP:6000250',\n",
       "   'HP:0005246',\n",
       "   'HP:0033116',\n",
       "   'HP:0034070',\n",
       "   'HP:0006719',\n",
       "   'HP:0004394',\n",
       "   'HP:6000898'],\n",
       "  ['HP:0033769',\n",
       "   'HP:0004795',\n",
       "   'HP:6000249',\n",
       "   'HP:0004295',\n",
       "   'HP:0033769',\n",
       "   'HP:0005238',\n",
       "   'HP:6000337',\n",
       "   'HP:0004390',\n",
       "   'HP:0025090',\n",
       "   'HP:0011140',\n",
       "   'HP:0025198',\n",
       "   'HP:0004394',\n",
       "   'HP:0200008',\n",
       "   'HP:0030255',\n",
       "   'HP:0200063',\n",
       "   'HP:0034930',\n",
       "   'HP:0005207',\n",
       "   'HP:0012627',\n",
       "   'HP:0032222',\n",
       "   'HP:0005266',\n",
       "   'HP:0012718'],\n",
       "  ['HP:0004783',\n",
       "   'HP:0004783',\n",
       "   'HP:0004795',\n",
       "   'HP:0012737',\n",
       "   'HP:0200063',\n",
       "   'HP:0032222',\n",
       "   'HP:0033116',\n",
       "   'HP:0200008',\n",
       "   'HP:0033769',\n",
       "   'HP:0025198',\n",
       "   'HP:0005238',\n",
       "   'HP:0005266',\n",
       "   'HP:0100833',\n",
       "   'HP:0012183',\n",
       "   'HP:0002246',\n",
       "   'HP:0030255',\n",
       "   'HP:0025129',\n",
       "   'HP:0100273',\n",
       "   'HP:0004390',\n",
       "   'HP:0007378',\n",
       "   'HP:0030256'],\n",
       "  ['HP:0002257',\n",
       "   'HP:0005231',\n",
       "   'HP:0200123',\n",
       "   'HP:0033769',\n",
       "   'HP:6000250',\n",
       "   'HP:0002044',\n",
       "   'HP:0004295',\n",
       "   'HP:0005246',\n",
       "   'HP:0025198',\n",
       "   'HP:0004795',\n",
       "   'HP:0004394',\n",
       "   'HP:0002582',\n",
       "   'HP:0030255',\n",
       "   'HP:0031025',\n",
       "   'HP:0034352',\n",
       "   'HP:0005207',\n",
       "   'HP:0031498',\n",
       "   'HP:0033116',\n",
       "   'HP:6000898',\n",
       "   'HP:0033770',\n",
       "   'HP:0005231',\n",
       "   'HP:0034841',\n",
       "   'HP:0031223'],\n",
       "  ['HP:0005202',\n",
       "   'HP:0033769',\n",
       "   'HP:6000250',\n",
       "   'HP:0002044',\n",
       "   'HP:0004295',\n",
       "   'HP:0005246',\n",
       "   'HP:0025198',\n",
       "   'HP:0004795',\n",
       "   'HP:0004394',\n",
       "   'HP:0002582',\n",
       "   'HP:0030255',\n",
       "   'HP:0031025',\n",
       "   'HP:0034352',\n",
       "   'HP:0005207',\n",
       "   'HP:0031498',\n",
       "   'HP:0033116',\n",
       "   'HP:6000898',\n",
       "   'HP:0033770',\n",
       "   'HP:0005231',\n",
       "   'HP:0034841',\n",
       "   'HP:0031223'],\n",
       "  ['HP:0033769',\n",
       "   'HP:0025198',\n",
       "   'HP:0002729',\n",
       "   'HP:0012843',\n",
       "   'HP:0034479',\n",
       "   'HP:0034352',\n",
       "   'HP:0031223',\n",
       "   'HP:0031548',\n",
       "   'HP:0033224',\n",
       "   'HP:0008225',\n",
       "   'HP:0033086',\n",
       "   'HP:0011801',\n",
       "   'HP:0012737',\n",
       "   'HP:0004795',\n",
       "   'HP:0410340',\n",
       "   'HP:0020246',\n",
       "   'HP:0033223',\n",
       "   'HP:0012505',\n",
       "   'HP:0003382',\n",
       "   'HP:0032041'],\n",
       "  ['HP:0005202',\n",
       "   'HP:0005202',\n",
       "   'HP:0410242',\n",
       "   'HP:0003237',\n",
       "   'HP:0005246',\n",
       "   'HP:6000250',\n",
       "   'HP:0005207',\n",
       "   'HP:0011955',\n",
       "   'HP:0020107',\n",
       "   'HP:0005231',\n",
       "   'HP:0500166',\n",
       "   'HP:0034110',\n",
       "   'HP:0034841',\n",
       "   'HP:0033629',\n",
       "   'HP:0500167',\n",
       "   'HP:0020180',\n",
       "   'HP:0034109',\n",
       "   'HP:0032299',\n",
       "   'HP:0034868',\n",
       "   'HP:0032298',\n",
       "   'HP:0020239'],\n",
       "  ['HP:0005202',\n",
       "   'HP:0020107',\n",
       "   'HP:0002842',\n",
       "   'HP:6000904',\n",
       "   'HP:0200084',\n",
       "   'HP:0005229',\n",
       "   'HP:0025304',\n",
       "   'HP:0005376',\n",
       "   'HP:0005246',\n",
       "   'HP:0004798',\n",
       "   'HP:0011955',\n",
       "   'HP:0001404',\n",
       "   'HP:6000350',\n",
       "   'HP:0009739',\n",
       "   'HP:0002742',\n",
       "   'HP:0032676',\n",
       "   'HP:0008290',\n",
       "   'HP:0005231',\n",
       "   'HP:0034841',\n",
       "   'HP:0012183'],\n",
       "  ['HP:0002592',\n",
       "   'HP:0005202',\n",
       "   'HP:0034274',\n",
       "   'HP:0005231',\n",
       "   'HP:6000250',\n",
       "   'HP:0005246',\n",
       "   'HP:0002020',\n",
       "   'HP:0011459',\n",
       "   'HP:0007813',\n",
       "   'HP:0032958',\n",
       "   'HP:0034800',\n",
       "   'HP:0034841',\n",
       "   'HP:0033116',\n",
       "   'HP:6000350',\n",
       "   'HP:0032472',\n",
       "   'HP:0005207',\n",
       "   'HP:6000389',\n",
       "   'HP:0040423',\n",
       "   'HP:0002044',\n",
       "   'HP:0004394'],\n",
       "  ['HP:0001572',\n",
       "   'HP:0005207',\n",
       "   'HP:0008249',\n",
       "   'HP:0010516',\n",
       "   'HP:0004795',\n",
       "   'HP:0033769',\n",
       "   'HP:0030255',\n",
       "   'HP:0004394',\n",
       "   'HP:0012737',\n",
       "   'HP:0005246',\n",
       "   'HP:6000250',\n",
       "   'HP:0025198',\n",
       "   'HP:0004295',\n",
       "   'HP:0030256',\n",
       "   'HP:0005202',\n",
       "   'HP:0031498',\n",
       "   'HP:0005207',\n",
       "   'HP:0031025',\n",
       "   'HP:0005266',\n",
       "   'HP:0012183',\n",
       "   'HP:0033116',\n",
       "   'HP:0034352',\n",
       "   'HP:0005231',\n",
       "   'HP:6000249'],\n",
       "  ['HP:0004783',\n",
       "   'HP:0033769',\n",
       "   'HP:0002031',\n",
       "   'HP:0033116',\n",
       "   'HP:0032222',\n",
       "   'HP:0025270',\n",
       "   'HP:0004295',\n",
       "   'HP:0012718',\n",
       "   'HP:0011459',\n",
       "   'HP:0004795',\n",
       "   'HP:0031984',\n",
       "   'HP:0100751',\n",
       "   'HP:0030255',\n",
       "   'HP:0031857',\n",
       "   'HP:0030256',\n",
       "   'HP:6000250',\n",
       "   'HP:0010450',\n",
       "   'HP:0410152',\n",
       "   'HP:0007378',\n",
       "   'HP:0005349'],\n",
       "  ['HP:0100751',\n",
       "   'HP:0031463',\n",
       "   'HP:0034520',\n",
       "   'HP:0002043',\n",
       "   'HP:6000065',\n",
       "   'HP:0410270',\n",
       "   'HP:0010450',\n",
       "   'HP:0012737',\n",
       "   'HP:0011459',\n",
       "   'HP:0002040',\n",
       "   'HP:0410152',\n",
       "   'HP:0012859',\n",
       "   'HP:0410151',\n",
       "   'HP:6000247',\n",
       "   'HP:0033769',\n",
       "   'HP:0004791',\n",
       "   'HP:0100628',\n",
       "   'HP:0100681',\n",
       "   'HP:0004795',\n",
       "   'HP:6000589'],\n",
       "  ['HP:0004784',\n",
       "   'HP:0012198',\n",
       "   'HP:0007595',\n",
       "   'HP:0011500',\n",
       "   'HP:0004255',\n",
       "   'HP:0012411',\n",
       "   'HP:0025533',\n",
       "   'HP:0004258',\n",
       "   'HP:0008204',\n",
       "   'HP:0032041',\n",
       "   'HP:0020157',\n",
       "   'HP:0003621',\n",
       "   'HP:0004400',\n",
       "   'HP:0008236',\n",
       "   'HP:0045039',\n",
       "   'HP:0003053',\n",
       "   'HP:0034380',\n",
       "   'HP:0005841',\n",
       "   'HP:0005681',\n",
       "   'HP:0006441'],\n",
       "  ['HP:0004296',\n",
       "   'HP:0031341',\n",
       "   'HP:0031025',\n",
       "   'HP:0033769',\n",
       "   'HP:0012737',\n",
       "   'HP:0004295',\n",
       "   'HP:0004795',\n",
       "   'HP:0002629',\n",
       "   'HP:0005266',\n",
       "   'HP:0025015',\n",
       "   'HP:6000250',\n",
       "   'HP:0025198',\n",
       "   'HP:0034352',\n",
       "   'HP:0030255',\n",
       "   'HP:0025090',\n",
       "   'HP:0012718',\n",
       "   'HP:0030170',\n",
       "   'HP:0004394',\n",
       "   'HP:0005202',\n",
       "   'HP:0025129'],\n",
       "  ['HP:0012183',\n",
       "   'HP:0025198',\n",
       "   'HP:0005227',\n",
       "   'HP:0032222',\n",
       "   'HP:0100896',\n",
       "   'HP:0100273',\n",
       "   'HP:0012737',\n",
       "   'HP:0005266',\n",
       "   'HP:0030256',\n",
       "   'HP:0200063',\n",
       "   'HP:0200008',\n",
       "   'HP:0030255',\n",
       "   'HP:0005210',\n",
       "   'HP:0012550',\n",
       "   'HP:0012851',\n",
       "   'HP:0032216',\n",
       "   'HP:0002253',\n",
       "   'HP:0012198',\n",
       "   'HP:0033769',\n",
       "   'HP:0004388'],\n",
       "  ['HP:0004784',\n",
       "   'HP:0012198',\n",
       "   'HP:0030256',\n",
       "   'HP:0200008',\n",
       "   'HP:0030255',\n",
       "   'HP:0025198',\n",
       "   'HP:0012737',\n",
       "   'HP:0005266',\n",
       "   'HP:0034926',\n",
       "   'HP:0005238',\n",
       "   'HP:0004795',\n",
       "   'HP:0003621',\n",
       "   'HP:0011956',\n",
       "   'HP:0004783',\n",
       "   'HP:0033769',\n",
       "   'HP:0012183',\n",
       "   'HP:0031370',\n",
       "   'HP:0025129',\n",
       "   'HP:0034550',\n",
       "   'HP:0005681'],\n",
       "  ['HP:0005238',\n",
       "   'HP:0005266',\n",
       "   'HP:0032222',\n",
       "   'HP:0012737',\n",
       "   'HP:0002604',\n",
       "   'HP:0030256',\n",
       "   'HP:0005266',\n",
       "   'HP:0200008',\n",
       "   'HP:0034926',\n",
       "   'HP:0025129',\n",
       "   'HP:0100579',\n",
       "   'HP:0030255',\n",
       "   'HP:0001009',\n",
       "   'HP:0200063',\n",
       "   'HP:0032222',\n",
       "   'HP:0034550',\n",
       "   'HP:0100585',\n",
       "   'HP:0011472',\n",
       "   'HP:0100833',\n",
       "   'HP:0007489',\n",
       "   'HP:0002707',\n",
       "   'HP:0012183',\n",
       "   'HP:0034697'],\n",
       "  ['HP:0000214',\n",
       "   'HP:0001009',\n",
       "   'HP:0002604',\n",
       "   'HP:0031842',\n",
       "   'HP:0034697',\n",
       "   'HP:0007621',\n",
       "   'HP:0100585',\n",
       "   'HP:0001009',\n",
       "   'HP:0007421',\n",
       "   'HP:0000524',\n",
       "   'HP:0001232',\n",
       "   'HP:0007489',\n",
       "   'HP:0000227',\n",
       "   'HP:0030503',\n",
       "   'HP:0007586',\n",
       "   'HP:0100579',\n",
       "   'HP:0000214',\n",
       "   'HP:0007763',\n",
       "   'HP:0007380',\n",
       "   'HP:0033370',\n",
       "   'HP:0012522',\n",
       "   'HP:0002604',\n",
       "   'HP:0002707',\n",
       "   'HP:0025555'],\n",
       "  ['HP:0004784',\n",
       "   'HP:0012198',\n",
       "   'HP:0007595',\n",
       "   'HP:0011500',\n",
       "   'HP:0004255',\n",
       "   'HP:0012411',\n",
       "   'HP:0025533',\n",
       "   'HP:0004258',\n",
       "   'HP:0008204',\n",
       "   'HP:0032041',\n",
       "   'HP:0020157',\n",
       "   'HP:0003621',\n",
       "   'HP:0004400',\n",
       "   'HP:0008236',\n",
       "   'HP:0045039',\n",
       "   'HP:0003053',\n",
       "   'HP:0034380',\n",
       "   'HP:0005841',\n",
       "   'HP:0005681',\n",
       "   'HP:0006441']]}"
      ]
     },
     "execution_count": 44,
     "metadata": {},
     "output_type": "execute_result"
    }
   ],
   "source": [
    "answer"
   ]
  },
  {
   "cell_type": "markdown",
   "metadata": {},
   "source": [
    "Raw GPT"
   ]
  },
  {
   "cell_type": "code",
   "execution_count": null,
   "metadata": {},
   "outputs": [],
   "source": [
    "system = \"\"\"Eres una herramienta que sirve para extraer fenotipos de la ontología Human Phenotype Ontolgy a partir de notas clínicas para ello: \n",
    "1. A partir del siguiente texto clínico, identifica todos los fenotipos clínicos relevantes, incluyendo diagnósticos, síntomas, signos físicos y hallazgos de laboratorio. \n",
    "2. Ignora por completo los hallazgos negativos, los hallazgos normales (es decir, «normal» o «no»), los procedimientos y los antecedentes familiares. \n",
    "3. Si algún valor incluye de forma implícita un fenotipo, infiérelo y menciónalo como tal.\n",
    "4. Para cada término, asigna el código HPO apropiado. \n",
    "Devuelve un JSON con la llave \"final_answer\" y el listado de códigos HPO detectados.\n",
    "\"\"\"\n",
    "prompt = ChatPromptTemplate.from_messages(\n",
    "    [\n",
    "        (\"system\", system),\n",
    "        (\"human\", \"{clinical_note}\"),\n",
    "    ]\n",
    ")"
   ]
  },
  {
   "cell_type": "code",
   "execution_count": null,
   "metadata": {},
   "outputs": [],
   "source": [
    "import json\n",
    "from langchain_core.runnables import chain\n",
    "\n",
    "init_chain = prompt | llm\n",
    "\n",
    "@chain\n",
    "def rawgptchain(question):\n",
    "    response = init_chain.invoke(question)\n",
    "    return json.loads(response.content)"
   ]
  },
  {
   "cell_type": "code",
   "execution_count": null,
   "metadata": {},
   "outputs": [],
   "source": [
    "import sys\n",
    "sys.path.append('../utils')\n",
    "import importlib\n",
    "import rawgptchain as rgp"
   ]
  },
  {
   "cell_type": "code",
   "execution_count": null,
   "metadata": {},
   "outputs": [],
   "source": [
    "importlib.reload(rgp)\n",
    "rawgptchain = rgp.rawgptchain"
   ]
  },
  {
   "cell_type": "code",
   "execution_count": null,
   "metadata": {},
   "outputs": [],
   "source": [
    "response = rawgptchain.with_config({\"callbacks\": [langfuse_handler]}).invoke({\"clinical_note\":clinical_note})"
   ]
  },
  {
   "cell_type": "markdown",
   "metadata": {},
   "source": [
    "FlashRank"
   ]
  },
  {
   "cell_type": "code",
   "execution_count": null,
   "metadata": {},
   "outputs": [],
   "source": [
    "from langchain.retrievers import ContextualCompressionRetriever\n",
    "from langchain.retrievers.document_compressors import FlashrankRerank"
   ]
  },
  {
   "cell_type": "code",
   "execution_count": null,
   "metadata": {},
   "outputs": [],
   "source": [
    "from flashrank import Ranker \n",
    "\n",
    "ranker = Ranker(model_name=\"ms-marco-MiniLM-L-12-v2\")"
   ]
  },
  {
   "cell_type": "code",
   "execution_count": null,
   "metadata": {},
   "outputs": [],
   "source": [
    "compressor = FlashrankRerank()\n",
    "compression_retriever = ContextualCompressionRetriever(\n",
    "    base_compressor=compressor, base_retriever=retriever\n",
    ")"
   ]
  },
  {
   "cell_type": "code",
   "execution_count": null,
   "metadata": {},
   "outputs": [
    {
     "data": {
      "text/plain": [
       "[Document(metadata={'id': 8, 'relevance_score': 0.9918292, 'hpo_id': 'HP:0006780', 'lineage': 'HP:0100733->HP:0000818->HP:0011766->HP:0000828->HP:0100568->HP:0002664->HP:0011793->HP:0000118'}, page_content='Carcinoma de paratiroides. Tumor maligno de las glándulas paratiroides. El carcinoma paratiroideo suele segregar hormona paratiroidea, lo que provoca hiperparatiroidismo.'),\n",
       " Document(metadata={'id': 4, 'relevance_score': 0.78583723, 'hpo_id': 'HP:0100031', 'lineage': 'HP:0000820->HP:0000818->HP:0100568->HP:0002664->HP:0011793->HP:0000118->HP:0011772'}, page_content='Neoplasia del tiroides. Tumor (crecimiento anormal de tejido) de la glándula tiroides.'),\n",
       " Document(metadata={'id': 1, 'relevance_score': 0.60732955, 'hpo_id': 'HP:0011779', 'lineage': 'HP:0002890->HP:0100031->HP:0000820->HP:0000818->HP:0100568->HP:0002664->HP:0011793->HP:0000118->HP:0011772'}, page_content='Carcinoma anaplásico de tiroides.')]"
      ]
     },
     "execution_count": 17,
     "metadata": {},
     "output_type": "execute_result"
    }
   ],
   "source": [
    "compression_retriever.invoke(context)"
   ]
  },
  {
   "cell_type": "code",
   "execution_count": null,
   "metadata": {},
   "outputs": [],
   "source": [
    "reranked_docs = []\n",
    "for context in [c.context for c in answer.candidates]:\n",
    "    reranked_docs.append(compression_retriever.invoke(context))"
   ]
  },
  {
   "cell_type": "code",
   "execution_count": null,
   "metadata": {},
   "outputs": [
    {
     "data": {
      "text/plain": [
       "[[Document(metadata={'id': 5, 'relevance_score': 0.99929035, 'hpo_id': 'HP:0045081', 'lineage': 'HP:0004323->HP:0001507->HP:0000118'}, page_content='Anomalía del índice de masa corporal. Anomalía en la relación peso/altura al cuadrado, calculada dividiendo el peso del individuo en kilogramos por el cuadrado de la altura del individuo en metros y utilizada como indicador de obesidad e insuficiencia ponderal en comparación con las medias.'),\n",
       "  Document(metadata={'id': 6, 'relevance_score': 0.99896955, 'hpo_id': 'HP:0031418', 'lineage': 'HP:0045081->HP:0004323->HP:0001507->HP:0000118'}, page_content='Aumento del índice de masa corporal. Relación peso/altura al cuadrado anormalmente elevada, calculada dividiendo el peso del individuo en kilogramos por el cuadrado de la altura del individuo en metros y utilizada como indicador de sobrepeso en comparación con las medias.'),\n",
       "  Document(metadata={'id': 0, 'relevance_score': 0.99863136, 'hpo_id': 'HP:6000179', 'lineage': 'HP:0430103->HP:0032443'}, page_content='Antecedente de cirugía de bypass gástrico. Antecedentes de haber recibido cirugía de bypass gástrico. Se trata de un procedimiento que reduce el volumen funcional del estómago y se utiliza para tratar la obesidad mórbida.')],\n",
       " [Document(metadata={'id': 0, 'relevance_score': 0.9993668, 'hpo_id': 'HP:0033769', 'lineage': 'HP:0006753->HP:0012718->HP:0002577->HP:0000118->HP:0034930->HP:0025033->HP:0007378->HP:0011024->HP:0002664->HP:0011793->HP:0025031'}, page_content='Poliposis de las glándulas fúndicas. Múltiples pólipos en la mucosa secretora de ácido del cuerpo gástrico y el fundus. Los pólipos de la glándula fúndica (PGF) suelen tener un tamaño de 1 a 5 mm, aunque se han encontrado pólipos de mayor tamaño. Suelen ser sésiles, brillantes, translúcidos, de color pálido a rosado (parecido al de la mucosa circundante) y a menudo presentan pequeños vasos sanguíneos superficiales. Se ha observado que, a diferencia de otros tipos de pólipos gástricos, estos pólipos se astillan o se desprenden por completo de la base cuando se extraen con pinzas frías.'),\n",
       "  Document(metadata={'id': 3, 'relevance_score': 0.99793226, 'hpo_id': 'HP:0005227', 'lineage': 'HP:0030255->HP:0200008->HP:0012718->HP:0025031->HP:0034930->HP:0025033->HP:0007378->HP:0100834->HP:0011024->HP:0002664->HP:0100273->HP:0002242->HP:0011793->HP:0000118->HP:0005266->HP:0002250'}, page_content='Poliposis colónica adenomatosa. Presencia de múltiples pólipos adenomatosos en el colon.'),\n",
       "  Document(metadata={'id': 5, 'relevance_score': 0.99733937, 'hpo_id': 'HP:0005218', 'lineage': 'HP:0004378->HP:0100589->HP:0012718->HP:0025031->HP:0000119->HP:0010447->HP:0025033->HP:0100819->HP:0011024->HP:0002242->HP:0034915->HP:0000118->HP:0004871'}, page_content='Fístula anoperineal. Presencia de una fístula (túnel anormal) entre el canal anal y el perineo.')],\n",
       " [Document(metadata={'id': 5, 'relevance_score': 0.9992838, 'hpo_id': 'HP:0033116', 'lineage': 'HP:0002246->HP:0002244->HP:0002242->HP:0012718->HP:0011024->HP:0025031->HP:0000118->HP:0025033'}, page_content='Metaplasia gástrica duodenal. Focos de células secretoras de moco de tipo gástrico intercalados entre los enterocitos duodenales. Estos focos de células epiteliales gástricas contienen mucina neutra positiva al ácido periódico de Schiff (PAS) y carecen de borde en cepillo.'),\n",
       "  Document(metadata={'id': 0, 'relevance_score': 0.9988343, 'hpo_id': 'HP:0033769', 'lineage': 'HP:0006753->HP:0012718->HP:0002577->HP:0000118->HP:0034930->HP:0025033->HP:0007378->HP:0011024->HP:0002664->HP:0011793->HP:0025031'}, page_content='Poliposis de las glándulas fúndicas. Múltiples pólipos en la mucosa secretora de ácido del cuerpo gástrico y el fundus. Los pólipos de la glándula fúndica (PGF) suelen tener un tamaño de 1 a 5 mm, aunque se han encontrado pólipos de mayor tamaño. Suelen ser sésiles, brillantes, translúcidos, de color pálido a rosado (parecido al de la mucosa circundante) y a menudo presentan pequeños vasos sanguíneos superficiales. Se ha observado que, a diferencia de otros tipos de pólipos gástricos, estos pólipos se astillan o se desprenden por completo de la base cuando se extraen con pinzas frías.'),\n",
       "  Document(metadata={'id': 2, 'relevance_score': 0.9982876, 'hpo_id': 'HP:0004390', 'lineage': 'HP:0012718->HP:0011792->HP:0010566->HP:0025031->HP:0034930->HP:0025033->HP:0007378->HP:0011024->HP:0002664->HP:0002242->HP:0011793->HP:0000118->HP:0005266'}, page_content='Pólipos hamartomatosos. Protuberancias similares a pólipos que histológicamente son hamartomas. Pueden aparecer en todo el tracto gastrointestinal. Los pólipos hamartomatosos están compuestos por los elementos celulares normales del tracto gastrointestinal, pero tienen una arquitectura marcadamente distorsionada.')],\n",
       " [Document(metadata={'id': 0, 'relevance_score': 0.9996025, 'hpo_id': 'HP:0100580', 'lineage': 'HP:0100751->HP:0012718->HP:0002031->HP:0012288->HP:0000118->HP:0034930->HP:0025033->HP:0007378->HP:0011024->HP:0002664->HP:0011793->HP:0025031'}, page_content='Esófago de Barrett. Cambio anormal (metaplasia) en las células de la porción inferior del esófago. El epitelio escamoso normal que recubre el esófago es sustituido por epitelio columnar metaplásico. El epitelio columnar es un tipo de célula que suele encontrarse en las partes más distales del sistema gastrointestinal.'),\n",
       "  Document(metadata={'id': 9, 'relevance_score': 0.9977775, 'hpo_id': 'HP:0100681', 'lineage': 'HP:0012718->HP:0002031->HP:0011140->HP:0000118->HP:0025033->HP:0011024->HP:0025031'}, page_content='Duplicación esofágica. Trastorno del desarrollo en el que existe una duplicación de una porción del músculo y la submucosa del esófago sin duplicación epitelial.'),\n",
       "  Document(metadata={'id': 4, 'relevance_score': 0.9975599, 'hpo_id': 'HP:0025270', 'lineage': 'HP:0012719->HP:0011024->HP:0025031->HP:0000118->HP:0025032'}, page_content='Anomalía de la función del esófago. Cualquier anomalía fisiológica del esófago.')],\n",
       " [Document(metadata={'id': 9, 'relevance_score': 0.9994264, 'hpo_id': 'HP:0032216', 'lineage': 'HP:0025090->HP:0002250->HP:0002242->HP:0012718->HP:0011024->HP:0025031->HP:0000118->HP:0025033'}, page_content='Infiltración linfocítica de la mucosa colorrectal. Aumento anormal del recuento de linfocitos intraepiteliales. Este hallazgo puede apreciarse como un gran número de linfocitos intraepiteliales superficiales, como se observa (por ejemplo) con la tinción de hematoxilina y eosina de una muestra de biopsia de colon tomada durante una colonoscopia.'),\n",
       "  Document(metadata={'id': 6, 'relevance_score': 0.9993897, 'hpo_id': 'HP:0032222', 'lineage': 'HP:0200008->HP:0005266->HP:0012718->HP:0000118->HP:0034930->HP:0025033->HP:0007378->HP:0011024->HP:0002664->HP:0002242->HP:0011793->HP:0025031'}, page_content='Pólipos intestinales serrados. Presencia de múltiples pólipos dentados en el intestino. A diferencia de los adenomas convencionales, que son uniformemente displásicos, la gran mayoría de las lesiones serradas no contienen displasia. La clase serrada incluye los pólipos hiperplásicos, que no se consideran precancerosos; los pólipos serrados sésiles (también llamados adenomas serrados sésiles); y los adenomas serrados tradicionales. Los pólipos serrados sésiles son más grandes por término medio y se localizan con más frecuencia en el colon proximal. En comparación con los pólipos hiperplásicos, los pólipos dentados sésiles tienen una superficie más irregular, un patrón en la superficie que se ha denominado nuboso y bordes indistintos. Los pólipos dentados sésiles también presentan grandes fosetas abiertas en la superficie (fosetas de tipo O) cuando se observan con aumento.'),\n",
       "  Document(metadata={'id': 1, 'relevance_score': 0.9993623, 'hpo_id': 'HP:0200063', 'lineage': 'HP:0030255->HP:0034930->HP:0025033->HP:0007378->HP:0100834->HP:0011024->HP:0012732->HP:0002242->HP:0100743->HP:0011793->HP:0200008->HP:0005266->HP:0012718->HP:0002034->HP:0000118->HP:0002664->HP:0025031->HP:0002250'}, page_content='Pólipos colorrectales. Múltiples crecimientos anormales que surgen del revestimiento del intestino grueso (colon o recto) y sobresalen en la luz intestinal.')],\n",
       " [Document(metadata={'id': 1, 'relevance_score': 0.9993928, 'hpo_id': 'HP:0034945', 'lineage': 'HP:0000035->HP:0000032->HP:0000811->HP:0000119->HP:0010461->HP:0012243->HP:0000118->HP:0000078'}, page_content='Refuerzo peribronquial. Las sombras tubulares se caracterizan por una ausencia total de células en los túbulos testiculares, lo que significa que tanto las células germinales como las células de Sertoli somáticas están ausentes. Las células han sido sustituidas por hialinización.'),\n",
       "  Document(metadata={'id': 5, 'relevance_score': 0.9990973, 'hpo_id': 'HP:0008682', 'lineage': 'HP:0000091->HP:0000077->HP:0012575->HP:0000119->HP:0010935->HP:0032618->HP:0000118->HP:0000079->HP:0012210'}, page_content='Necrosis tubular aguda. Necrosis coagulativa de las células epiteliales tubulares, definida como células con aumento de la eosinofilia citoplasmática y núcleo que presenta un patrón de cromatina condensada con contorno nuclear difuso o tiene tinción basófila nuclear apenas visible. La extensión de la necrosis tubular cortical se puntúa semicuantitativamente como nula, leve (menos del 25% de túbulos con necrosis), moderada (25-50%) y grave (más del 50%).'),\n",
       "  Document(metadata={'id': 9, 'relevance_score': 0.99877524, 'hpo_id': 'HP:0032603', 'lineage': 'HP:0032599->HP:0000091->HP:0012575->HP:0012210->HP:0000077->HP:0010935->HP:0000079->HP:0000119->HP:0000118'}, page_content='Simplificación de células epiteliales tubulares renales. Sección transversal tubular con citoplasma de células tubulares aplanado (altura inequívocamente inferior a la anchura), con pérdida completa del borde en cepillo que afecta a más del 50% de las células tubulares en sección transversal, lo que da lugar a un aumento aparente del tamaño del lumen, sin presencia de cilindros.')],\n",
       " [Document(metadata={'id': 1, 'relevance_score': 0.99933314, 'hpo_id': 'HP:0004795', 'lineage': 'HP:0010566->HP:0034930->HP:0025033->HP:0007378->HP:0011024->HP:0002242->HP:0011793->HP:0005266->HP:0004390->HP:0012718->HP:0011792->HP:0002577->HP:0006753->HP:0002664->HP:0000118->HP:0025031'}, page_content='Pólipos estomacales hamartomatosos. Protuberancias similares a pólipos que histológicamente son hamartomas localizados en el estómago.'),\n",
       "  Document(metadata={'id': 8, 'relevance_score': 0.9992362, 'hpo_id': 'HP:0100896', 'lineage': 'HP:0030255->HP:0034930->HP:0025033->HP:0007378->HP:0100834->HP:0011024->HP:0012732->HP:0002242->HP:0100743->HP:0011793->HP:0200008->HP:0005266->HP:0012718->HP:0002034->HP:0000118->HP:0002664->HP:0025031->HP:0002250'}, page_content='Poliposis rectal. Presencia de múltiples pólipos hiperplásicos/adenomatosos rectales.'),\n",
       "  Document(metadata={'id': 5, 'relevance_score': 0.99920166, 'hpo_id': 'HP:0032222', 'lineage': 'HP:0200008->HP:0005266->HP:0012718->HP:0000118->HP:0034930->HP:0025033->HP:0007378->HP:0011024->HP:0002664->HP:0002242->HP:0011793->HP:0025031'}, page_content='Pólipos intestinales serrados. Presencia de múltiples pólipos dentados en el intestino. A diferencia de los adenomas convencionales, que son uniformemente displásicos, la gran mayoría de las lesiones serradas no contienen displasia. La clase serrada incluye los pólipos hiperplásicos, que no se consideran precancerosos; los pólipos serrados sésiles (también llamados adenomas serrados sésiles); y los adenomas serrados tradicionales. Los pólipos serrados sésiles son más grandes por término medio y se localizan con más frecuencia en el colon proximal. En comparación con los pólipos hiperplásicos, los pólipos dentados sésiles tienen una superficie más irregular, un patrón en la superficie que se ha denominado nuboso y bordes indistintos. Los pólipos dentados sésiles también presentan grandes fosetas abiertas en la superficie (fosetas de tipo O) cuando se observan con aumento.')],\n",
       " [Document(metadata={'id': 6, 'relevance_score': 0.99901974, 'hpo_id': 'HP:0100016', 'lineage': 'HP:0002012->HP:0025031->HP:0000118'}, page_content='Anomalía del mesenterio. Pliegues de tejido membranoso (peritoneo, mesotelio) adheridos a la pared del abdomen y que envuelven las vísceras. Algunos ejemplos son el mesenterio del intestino delgado; el mesocolon transverso, que une la porción transversal del colon a la pared posterior del abdomen; y el mesosigmoide, que envuelve la porción sigmoidea del colon. Células del mismo origen embriológico rodean también otros órganos del cuerpo, como los pulmones (pleura) o el corazón (pericardio).'),\n",
       "  Document(metadata={'id': 2, 'relevance_score': 0.9986582, 'hpo_id': 'HP:0033822', 'lineage': 'HP:0031983->HP:0012252->HP:0002795->HP:0002086->HP:0000118'}, page_content='Masa en imagen torácica. Una masa es cualquier lesión pulmonar, pleural o mediastínica observada en las radiografías de tórax como una opacidad de más de 3 cm de diámetro (sin tener en cuenta las características de contorno, borde o densidad). Masa suele implicar una opacidad sólida o parcialmente sólida. La TC permite una evaluación más exacta del tamaño, la localización, la atenuación y otras características.'),\n",
       "  Document(metadata={'id': 5, 'relevance_score': 0.99783415, 'hpo_id': 'HP:6000628', 'lineage': 'HP:0410042->HP:0001392->HP:0002012->HP:0025031->HP:0000118'}, page_content='Aspecto festoneado de la superficie del hígado. Una lesión asociada al pseudomixoma peritonei cuyo aspecto típico en TC es el festoneado de la superficie del hígado y el bazo causado por acumulaciones localizadas de mucina, que la distingue de la ascitis fluida. El material mucinoso tiene una densidad similar a la del agua. También hay islas de mayor atenuación debidas a elementos sólidos dispersos y calcificación dentro del material mucinoso.')],\n",
       " [Document(metadata={'id': 5, 'relevance_score': 0.998585, 'hpo_id': 'HP:0430133', 'lineage': 'HP:4000110->HP:0032443'}, page_content='Antecedentes de consumo de tabaco. Antecedentes de consumo de productos del tabaco, como cigarrillos.'),\n",
       "  Document(metadata={'id': 0, 'relevance_score': 0.9950787, 'hpo_id': 'HP:0032317', 'lineage': 'HP:0032316->HP:0032443'}, page_content='Antecedentes familiares de cáncer. Un pariente cercano tenía cáncer.'),\n",
       "  Document(metadata={'id': 3, 'relevance_score': 0.7186346, 'hpo_id': 'HP:0003003', 'lineage': 'HP:0100273->HP:0100834->HP:0012718->HP:0000118->HP:0034930->HP:0025033->HP:0007378->HP:0011024->HP:0002664->HP:0002242->HP:0011793->HP:0025031->HP:0002250'}, page_content='Cáncer de colon.')],\n",
       " [Document(metadata={'id': 7, 'relevance_score': 0.9224812, 'hpo_id': 'HP:0006716', 'lineage': 'HP:0006749->HP:0034930->HP:0025033->HP:0007378->HP:0100834->HP:0011024->HP:0002242->HP:0011793->HP:0002672->HP:0012718->HP:0002664->HP:0000118->HP:0025031->HP:0002250'}, page_content='Carcinoma colorrectal sin poliposis hereditaria.'),\n",
       "  Document(metadata={'id': 6, 'relevance_score': 0.8191344, 'hpo_id': 'HP:0030079', 'lineage': 'HP:0032241->HP:0000812->HP:0011793->HP:0012243->HP:0000130->HP:0000078->HP:0007379->HP:0012888->HP:0000008->HP:0000119->HP:0002664->HP:0010460->HP:0000118'}, page_content='Cáncer de cuello uterino. Un tumor del cuello uterino.'),\n",
       "  Document(metadata={'id': 0, 'relevance_score': 0.57819754, 'hpo_id': 'HP:0032317', 'lineage': 'HP:0032316->HP:0032443'}, page_content='Antecedentes familiares de cáncer. Un pariente cercano tenía cáncer.')],\n",
       " [Document(metadata={'id': 8, 'relevance_score': 0.9918292, 'hpo_id': 'HP:0006780', 'lineage': 'HP:0100733->HP:0000818->HP:0011766->HP:0000828->HP:0100568->HP:0002664->HP:0011793->HP:0000118'}, page_content='Carcinoma de paratiroides. Tumor maligno de las glándulas paratiroides. El carcinoma paratiroideo suele segregar hormona paratiroidea, lo que provoca hiperparatiroidismo.'),\n",
       "  Document(metadata={'id': 4, 'relevance_score': 0.78583723, 'hpo_id': 'HP:0100031', 'lineage': 'HP:0000820->HP:0000818->HP:0100568->HP:0002664->HP:0011793->HP:0000118->HP:0011772'}, page_content='Neoplasia del tiroides. Tumor (crecimiento anormal de tejido) de la glándula tiroides.'),\n",
       "  Document(metadata={'id': 1, 'relevance_score': 0.60732955, 'hpo_id': 'HP:0011779', 'lineage': 'HP:0002890->HP:0100031->HP:0000820->HP:0000818->HP:0100568->HP:0002664->HP:0011793->HP:0000118->HP:0011772'}, page_content='Carcinoma anaplásico de tiroides.')]]"
      ]
     },
     "execution_count": 19,
     "metadata": {},
     "output_type": "execute_result"
    }
   ],
   "source": [
    "reranked_docs"
   ]
  }
 ],
 "metadata": {
  "kernelspec": {
   "display_name": ".venv",
   "language": "python",
   "name": "python3"
  },
  "language_info": {
   "codemirror_mode": {
    "name": "ipython",
    "version": 3
   },
   "file_extension": ".py",
   "mimetype": "text/x-python",
   "name": "python",
   "nbconvert_exporter": "python",
   "pygments_lexer": "ipython3",
   "version": "3.11.6"
  }
 },
 "nbformat": 4,
 "nbformat_minor": 2
}
