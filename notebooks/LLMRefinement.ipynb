{
 "cells": [
  {
   "cell_type": "markdown",
   "metadata": {},
   "source": [
    "# LLM refinement with langchain"
   ]
  },
  {
   "cell_type": "code",
   "execution_count": 8,
   "metadata": {},
   "outputs": [],
   "source": [
    "import os\n",
    "import re\n",
    "import json\n",
    "import importlib\n",
    "import chromadb\n",
    "import pickle as pkl\n",
    "import pandas as pd\n",
    "from dotenv import dotenv_values\n",
    "from langchain_chroma import Chroma\n",
    "from typing import List, Optional\n",
    "from pydantic import BaseModel, Field\n",
    "from langchain.chat_models import ChatOpenAI\n",
    "from langchain_voyageai import VoyageAIEmbeddings\n",
    "from langchain_core.prompts import PromptTemplate\n",
    "from langchain.chat_models import init_chat_model\n",
    "from langchain.retrievers import BM25Retriever, EnsembleRetriever\n",
    "from langchain_core.prompts import ChatPromptTemplate\n",
    "from langchain_ollama import ChatOllama\n",
    "import sys\n",
    "\n",
    "sys.path.append('../src/')"
   ]
  },
  {
   "cell_type": "code",
   "execution_count": 2,
   "metadata": {},
   "outputs": [],
   "source": [
    "for i,v in dotenv_values().items():\n",
    "    globals()[i]=v "
   ]
  },
  {
   "cell_type": "code",
   "execution_count": 4,
   "metadata": {},
   "outputs": [],
   "source": [
    "RESOURCES_DIR=\"../../resources\"\n",
    "llm = init_chat_model(\"o4-mini\", model_provider=\"openai\")\n",
    "# llm = ChatOllama(model=\"llama3.1:8b\")\n",
    "embeddings_model = VoyageAIEmbeddings(model=\"voyage-3\")"
   ]
  },
  {
   "cell_type": "markdown",
   "metadata": {},
   "source": [
    "Texto a probar"
   ]
  },
  {
   "cell_type": "code",
   "execution_count": 5,
   "metadata": {},
   "outputs": [
    {
     "data": {
      "text/plain": [
       "\"Un hombre de 32 años acudió a una unidad regional de cirugía general por anemia sintomática grave. En un lapso de 4 meses, su hemoglobina descendió 62 puntos desde 137 gL (N: 135-180 gL). Su historial médico incluía epilepsia con valproato, arritmia cardiaca con flecainida, síndrome del túnel carpiano y compresión de la raíz nerviosa C5. No fuma, consume poco alcohol, tiene dos perros en casa y dos hijos. Sus antecedentes familiares incluían a su abuelo, que tuvo cáncer de intestino diagnosticado a los 78 años, y una abuela con cáncer de mama. La primera modalidad de diagnóstico por imagen fue un TAC que mostraba una gran masa fungiforme en el cuerpo del estómago que se extendía hasta el píloro y la primera parte del duodeno. Se sometió a una endoscopia digestiva alta (EDA) para investigar la patología. La histopatología arrojó con frecuencia un resultado de tejido hiperplásico benigno. Los primeros resultados histopatológicos informaron de mucosa gástrica con hiperplasia foveolar menor, edema estromal con aumento menor de células inflamatorias crónicas. No había evidencia de organismos helicobacter, gastritis activa o atipia. Los hallazgos iniciales del endoscopio mostraron pólipos en forma de alfombra que recubrían el antro y el cuerpo gástrico. En una segunda UGE, se realizaron biopsias de túnel, que mostraron que los pólipos en forma de alfombra habían progresado hacia la primera parte del duodeno, en comparación con la UGE anterior. La biopsia resultó ser gastritis crónica asociada a Helicobacter heilmannii con cambios hiperplásicos del pólipo de la glándula fúndica. Se solicitaron ANA séricos, ANCA, anticuerpos anticélulas parietales, serología de infección por citomegalovirus, panel de hepatitis, electroforesis de proteínas séricas, serología de Helicobacter y marcador tumoral CA 72-4. Los resultados fueron negativos, excepto por un resultado positivo en la prueba de detección de Helicobacter heilmannii. Los resultados fueron negativos, salvo una serología positiva para Helicobacter IgG. Se trató el H. heilmannii con dos ciclos del régimen de erradicación de Helicobacter. La repetición de la UGE, 2 meses después, no mostró evidencia del organismo Helicobacter. Los resultados histopatológicos mostraron un pólipo gástrico hiperplásico con un fondo de inflamación crónica leve. La repetición de la UGE 3 meses después de la UGE inicial mostró una clasificación 0-Isp de Paris en el duodeno y los pólipos se habían extendido más hacia el esófago. Se realizó una resección endoscópica de la mucosa del pólipo esofágico y la histopatología reveló que se trataba de un pólipo juvenil. Las imágenes de banda estrecha de un pólipo en el cuerpo gástrico mostraron un patrón microvascular irregular y una microsuperficie irregular. Una colonoscopia reveló dos pólipos de 2-3 mm en el colon ascendente y el ciego, y un pólipo semipedunculado de 5 mm en el colon sigmoide. Las lesiones colónicas se asemejaban al patrón de Kudo's Pit. La histopatología de los pólipos del ciego y del colon descendente mostró pólipos inflamatorios juveniles. La cápsula endoscópica reveló pólipos dispersos de 0-1 p en el intestino delgado y áreas de telangiectasia.\""
      ]
     },
     "execution_count": 5,
     "metadata": {},
     "output_type": "execute_result"
    }
   ],
   "source": [
    "test_df = pd.read_csv(os.path.join(PROJECT_DIR, \"./datasets/TFM_test.csv\"))\n",
    "test_df.annotations = test_df.annotations.apply(eval)\n",
    "clinical_note = test_df.texts.loc[1]\n",
    "hpo_codes = test_df.annotations.iloc[1]\n",
    "clinical_note"
   ]
  },
  {
   "cell_type": "markdown",
   "metadata": {},
   "source": [
    "Definir el formato del input"
   ]
  },
  {
   "cell_type": "code",
   "execution_count": 9,
   "metadata": {},
   "outputs": [],
   "source": [
    "chroma_client = chromadb.HttpClient(host='localhost', port=8001)"
   ]
  },
  {
   "cell_type": "code",
   "execution_count": 22,
   "metadata": {},
   "outputs": [],
   "source": [
    "vectordb_sep = Chroma(client=chroma_client, embedding_function=embeddings_model, \n",
    "                  collection_name=\"hpo_ontology_esp_SEP\")\n",
    "ontology = Chroma(client=chroma_client, embedding_function=embeddings_model, \n",
    "                  collection_name=\"hpo_ontology_esp_FULL\")\n",
    "retriever = vectordb_sep.as_retriever(search_kwargs={\"k\": 20})"
   ]
  },
  {
   "cell_type": "code",
   "execution_count": 27,
   "metadata": {},
   "outputs": [],
   "source": [
    "def process_unique_metadata(doc_array, MAX_DOCS=5):\n",
    "    unique_ids = []\n",
    "    i=0\n",
    "    while len(unique_ids) < MAX_DOCS and i<len(doc_array):\n",
    "        if doc_array[i].metadata[\"hpo_id\"] not in unique_ids:\n",
    "            unique_ids.append(doc_array[i].metadata[\"hpo_id\"] )\n",
    "        i += 1\n",
    "    return ontology.get_by_ids(unique_ids)"
   ]
  },
  {
   "cell_type": "code",
   "execution_count": 28,
   "metadata": {},
   "outputs": [],
   "source": [
    "doc_array = process_unique_metadata(retriever.invoke(\"convulsiones\"))"
   ]
  },
  {
   "cell_type": "code",
   "execution_count": 29,
   "metadata": {},
   "outputs": [
    {
     "data": {
      "text/plain": [
       "[Document(id='HP:0001250', metadata={'lineage': 'HP:0012638->HP:0000707->HP:0000118', 'hpo_id': 'HP:0001250'}, page_content='Convulsiones. Epilepsia. Crisis epiléptica. Convulsiones. Una crisis epiléptica es una anomalía intermitente de la fisiología del sistema nervioso caracterizada por la aparición transitoria de signos y/o síntomas debidos a una actividad neuronal anormal excesiva o sincrónica en el cerebro.'),\n",
       " Document(id='HP:0007359', metadata={'lineage': 'HP:0001250->HP:0012638->HP:0000707->HP:0000118', 'hpo_id': 'HP:0007359'}, page_content='Convulsiones focales. Crisis de inicio focal. Convulsión focal. Convulsiones focales. Crisis de inicio focal. Convulsión parcial. Crisis parciales. Crisis que afecta a una mitad del cerebro. Una crisis de inicio focal es un tipo de crisis que se origina en redes limitadas a un hemisferio. Pueden estar discretamente localizadas o más ampliamente distribuidas, y pueden originarse en estructuras subcorticales.'),\n",
       " Document(id='HP:0011097', metadata={'hpo_id': 'HP:0011097', 'lineage': 'HP:0020219->HP:0001250->HP:0012638->HP:0000707->HP:0000118'}, page_content='Espasmos epilépticos. Espasmos epilépticos. Salaam convulsión. Salaam convulsiones. Convulsión de Salaam. Convulsiones Salaam. Síndrome de West. Una flexión, extensión o mezcla de extensión y flexión repentina de músculos predominantemente proximales y troncales que suele ser más sostenida que un movimiento mioclónico pero no tan sostenida como una convulsión tónica. Pueden presentarse formas limitadas: Muecas, asentimientos con la cabeza o movimientos sutiles de los ojos. Los espasmos epilépticos suelen producirse en grupos. Los espasmos infantiles son la forma más conocida, pero pueden producirse a cualquier edad.'),\n",
       " Document(id='HP:0011175', metadata={'lineage': 'HP:0011153->HP:0000707->HP:0012638->HP:0007359->HP:0001250->HP:0000118->HP:0020219', 'hpo_id': 'HP:0011175'}, page_content='Convulsiones versivas. Convulsión versiva. Convulsiones versivas. Tipo de crisis motora focal caracterizada por una rotación ocular, cefálica y/o troncular conjugada, forzada y sostenida o una desviación lateral de la línea media como manifestación semiológica inicial.'),\n",
       " Document(id='HP:0033349', metadata={'lineage': 'HP:0031796->HP:0011008->HP:0031797->HP:0012823', 'hpo_id': 'HP:0033349'}, page_content='Convulsiones en racimo. Crisis agudas repetitivas. Convulsiones crecientes. Crisis cíclicas. Convulsiones recurrentes. Ráfagas de convulsiones. Convulsiones en serie. Un aumento de cuatro veces o más de la frecuencia habitual de convulsiones en un período de 3 días, en el que el paciente demuestra una recuperación completa entre los episodios de convulsiones dentro del grupo. El grupo de crisis debe ser reconocible por el médico de cabecera, el cuidador o el paciente.')]"
      ]
     },
     "execution_count": 29,
     "metadata": {},
     "output_type": "execute_result"
    }
   ],
   "source": [
    "doc_array"
   ]
  },
  {
   "cell_type": "code",
   "execution_count": 19,
   "metadata": {},
   "outputs": [],
   "source": [
    "with open(os.path.join(PROJECT_DIR, \"./resources/keyword_retriever.pkl\"), \"rb\") as fp:\n",
    "    keyword_retriever = pkl.load(fp)"
   ]
  },
  {
   "cell_type": "code",
   "execution_count": 20,
   "metadata": {},
   "outputs": [],
   "source": [
    "ensemble_retriever = EnsembleRetriever(retrievers=[vectordb.as_retriever(),\n",
    "                                                   keyword_retriever],\n",
    "                                       weights=[0.6, 0.4], id_key=\"hpo_id\", k=4)"
   ]
  },
  {
   "cell_type": "code",
   "execution_count": 11,
   "metadata": {},
   "outputs": [],
   "source": [
    "# prompt = \"\"\"Revisa cuidadosamente cada frase de la nota clínica para identificar términos relacionados con patrones de herencia genética, anomalías anatómicas, síntomas clínicos, hallazgos diagnósticos, resultados de pruebas y afecciones o síndromes específicos.\n",
    "# Ignora por completo los hallazgos negativos, los hallazgos normales (es decir, «normal» o «no»), los procedimientos y los antecedentes familiares. Incluye el contexto apropiado basándote únicamente en el pasaje.\n",
    "# Devuelve los términos extraídos en un objeto JSON con una única clave 'fenotipos', que contiene la lista de términos extraídos escritos correctamente. Asegúrate de que el resultado sea conciso, sin notas, comentarios ni metaexplicaciones adicionales. No dejes fuera adjetivos críticos para ese fenotipo.\n",
    "# <<NOTA CLÍNICA>>>\n",
    "# {clinical_note}\"\"\"\n",
    "# prompt = PromptTemplate.from_template(prompt)"
   ]
  },
  {
   "cell_type": "markdown",
   "metadata": {},
   "source": [
    "Definir el output"
   ]
  },
  {
   "cell_type": "code",
   "execution_count": 21,
   "metadata": {},
   "outputs": [],
   "source": [
    "system =  \"\"\"Eres un experto de codificación de fenotipos de la ontología Human Phenotype Ontology. Para ello primero debes determinar qué fenotipos están presentes en la nota clínica. Sigue los siguientes pasos: \n",
    "1. A partir del siguiente texto clínico, identifica términos del texto que sugieran fenotipos clínicos relevantes, incluyendo diagnósticos, síntomas, signos físicos y hallazgos de laboratorio. \n",
    "2. Ignora por completo los hallazgos negativos, los hallazgos normales (es decir, «normal» o «no»), los procedimientos y los antecedentes familiares. \n",
    "3. Si algún valor incluye de forma implícita un fenotipo, infiérelo y menciónalo como tal en el campo \"phenotype\".\n",
    "4. Si el valor no permite inferir con seguridad un fenotipo, simplemente describe el resultado de la analítica en lenguaje natural.\n",
    "5. Para cada término, a parte del fenotipo, incluye la frase a la que pertenezca en la nota clínica original.\n",
    "6. Sé específico, cada término debe contener un solo fenotipo asociado. Si tiene dos fenotipos, duplícalo y menciona ambos fenotipos. \n",
    "\"\"\"\n",
    "prompt = ChatPromptTemplate.from_messages(\n",
    "    [\n",
    "        (\"system\", system),\n",
    "        (\"human\", \"{clinical_note}\"),\n",
    "    ]\n",
    ")"
   ]
  },
  {
   "cell_type": "code",
   "execution_count": 22,
   "metadata": {},
   "outputs": [],
   "source": [
    "class PhenotypeCandidate(BaseModel):\n",
    "    \"\"\"Fenotipos, patrones de herencia genética, anomalías anatómicas, síntomas clínicos, hallazgos diagnósticos, resultados de pruebas y afecciones o síndromes específicos en la nota clínica\"\"\"\n",
    "    extract: str = Field(description=\"Un único fenotipo, diagnóstico, sintoma clínico, anomalia anatómica o prueba de laboratorio\")\n",
    "    phenotype: str = Field(description=\"Nombre del posible fenotipo asociado en español\")\n",
    "    context: str = Field( description=\"Parte de la frase en el que se menciona el extracto.\")\n",
    "\n",
    "\n",
    "class Data(BaseModel):\n",
    "    \"\"\"Información extraída sobre los fenotipos encontrados y los términos y contexto en el que se encuentran\"\"\"\n",
    "    candidates: List[PhenotypeCandidate]"
   ]
  },
  {
   "cell_type": "code",
   "execution_count": 23,
   "metadata": {},
   "outputs": [],
   "source": [
    "structured_llm = llm.with_structured_output(Data, method=\"json_schema\")"
   ]
  },
  {
   "cell_type": "code",
   "execution_count": 25,
   "metadata": {},
   "outputs": [],
   "source": [
    "extractphenotypes = prompt | structured_llm\n",
    "answer = extractphenotypes.invoke(\n",
    "    {\n",
    "        \"clinical_note\": clinical_note,\n",
    "    }\n",
    ")"
   ]
  },
  {
   "cell_type": "code",
   "execution_count": 17,
   "metadata": {},
   "outputs": [],
   "source": [
    "with open(\"../../resources/names_dict.pkl\", \"rb\") as fp:\n",
    "    names_dict = pkl.load(fp)"
   ]
  },
  {
   "cell_type": "code",
   "execution_count": 26,
   "metadata": {},
   "outputs": [],
   "source": [
    "from langchain_core.prompts import ChatPromptTemplate, HumanMessagePromptTemplate, SystemMessagePromptTemplate\n",
    "\n",
    "sys_template = \"\"\"Identifica el término de la Ontología de Fenotipos Humanos (HPO) más apropiado para cada extracto de las notas clínicas del paciente a partir de una lista de candidatos (Código HPO - Descripción).\n",
    "Da prioridad a los términos que sean concisos y directamente pertinentes para el síntoma o afección principal descritos. \n",
    "Céntrate en el tema central de cada frase y evita seleccionar opciones con detalles descriptivos o situacionales adicionales a menos que sean esenciales para captar con precisión el fenotipo. \n",
    "Asegúrate de que el término HPO elegido coincide estrechamente con la afección del paciente tal como se describe, sin añadir términos nuevos o extraños. \n",
    "Si hay varios candidatos, selecciona y devuelve el término HPO más pertinente que mejor represente la afección o síntoma primario. Proporciona sólo los códigos HPO elegidos. La nota clínica original es la siguiente:\n",
    "{clinical_note}\n",
    "\"\"\"\n",
    "\n",
    "human_template =  \"\"\"Término: {term} ({phenotype})\n",
    "Contexto: {context}\n",
    "Candidatos: {candidates}\"\"\"\n",
    "\n",
    "chat_template = ChatPromptTemplate.from_messages([\n",
    "    ('system', sys_template),\n",
    "    ('human', human_template)\n",
    "])\n",
    "\n",
    "# mesages = chat_template.format_messages(term=\"Bob\", context=\"What is your name?\", candidates=\"hey\")"
   ]
  },
  {
   "cell_type": "code",
   "execution_count": 27,
   "metadata": {},
   "outputs": [],
   "source": [
    "class HpoCode(BaseModel):\n",
    "    \"\"\"Código HPO asignado con el formato HP:#######\"\"\"\n",
    "    hpo_code: str"
   ]
  },
  {
   "cell_type": "code",
   "execution_count": 28,
   "metadata": {},
   "outputs": [],
   "source": [
    "llm_output = llm.with_structured_output(HpoCode)"
   ]
  },
  {
   "cell_type": "code",
   "execution_count": 21,
   "metadata": {},
   "outputs": [],
   "source": [
    "hpo_assignment = chat_template | llm_output"
   ]
  },
  {
   "cell_type": "code",
   "execution_count": 49,
   "metadata": {},
   "outputs": [
    {
     "data": {
      "text/plain": [
       "[Document(id='HP:0410021', metadata={'hpo_id': 'HP:0410021', 'lineage': 'HP:0500001->HP:0025142->HP:0000118'}, page_content='Olor a humedad. Olor a humedad. Olor corporal penetrante.'),\n",
       " Document(id='HP:0000975', metadata={'hpo_id': 'HP:0000975', 'lineage': 'HP:0007550->HP:0025276->HP:0001574->HP:0000118'}, page_content='Hiperhidrosis. Diaforesis. Sudoración excesiva. Aumento de la sudoración. Sudoración profusa. Sudando. Sudoración profusa. Aumento de la sudoración. Transpiración excesiva anormal (sudoración) a pesar de la falta de estímulos apropiados como el clima cálido y húmedo.'),\n",
       " Document(id='HP:0500001', metadata={'hpo_id': 'HP:0500001', 'lineage': 'HP:0025142->HP:0000118'}, page_content='Olor corporal. BO. Olor corporal. Bromhidrosis. Bromidrosis. Osmidrosis. Olor desagradable percibido que desprende el cuerpo.'),\n",
       " Document(id='HP:5200200', metadata={'lineage': 'HP:0000738->HP:5200423->HP:0011446->HP:0012638->HP:0000707->HP:0000118', 'hpo_id': 'HP:5200200'}, page_content='Alucinación olfativa. Alucinaciones olfativas. Alucinación olfativa. Percepción del olor sin estímulo olfativo.'),\n",
       " Document(id='HP:0040127', metadata={'hpo_id': 'HP:0040127', 'lineage': 'HP:0012337->HP:0001939->HP:0000118'}, page_content='Homeostasis anormal del sudor. Anomalía de la composición del sudor o de los niveles de sus componentes.')]"
      ]
     },
     "execution_count": 49,
     "metadata": {},
     "output_type": "execute_result"
    }
   ],
   "source": [
    "vectordb.similarity_search(\"Creencia delirante de olor corporal sudoroso\", k=5)"
   ]
  },
  {
   "cell_type": "code",
   "execution_count": 36,
   "metadata": {},
   "outputs": [
    {
     "data": {
      "text/plain": [
       "['HP:0020060', 'HP:0011895', 'HP:0001903']"
      ]
     },
     "execution_count": 36,
     "metadata": {},
     "output_type": "execute_result"
    }
   ],
   "source": [
    "new_docs = retriever.invoke(answer.candidates[0].extract)\n",
    "[doc.id for doc in new_docs]"
   ]
  },
  {
   "cell_type": "code",
   "execution_count": 40,
   "metadata": {},
   "outputs": [],
   "source": [
    "from utils.fuzzyretriever import FuzzyRetriever\n",
    "fuzzyretriever = FuzzyRetriever()"
   ]
  },
  {
   "cell_type": "code",
   "execution_count": 41,
   "metadata": {},
   "outputs": [],
   "source": [
    "def pretty_print_candidates(docs):\n",
    "    final_str = \"\"\n",
    "    for doc in docs: \n",
    "        final_str += f\"{doc.id} - {doc.page_content}\\n\"\n",
    "    return final_str"
   ]
  },
  {
   "cell_type": "code",
   "execution_count": 24,
   "metadata": {},
   "outputs": [],
   "source": [
    "from langchain_core.runnables import chain\n",
    "from langsmith import traceable\n",
    "\n",
    "@chain\n",
    "def custom_chain(question):\n",
    "    response = extractphenotypes.invoke(question)\n",
    "    docs = []\n",
    "    intermediate_results = []\n",
    "    for query in response.candidates:\n",
    "        new_docs = retriever.invoke(query.context)\n",
    "        fuzzy_docs = [x[0] for x in fuzzyretriever.invoke(query.phenotype)]\n",
    "        new_docs =  vectordb.get_by_ids(set(fuzzy_docs)) + new_docs if len(set(fuzzy_docs)) > 0 else new_docs\n",
    "        docs.append({\"clinical_note\":question,\n",
    "                     \"term\":query.extract,\n",
    "                     \"phenotype\":query.phenotype,\n",
    "                     \"context\":query.context,\n",
    "                     \"candidates\":pretty_print_candidates(new_docs)})\n",
    "        intermediate_results.append([doc.id for doc in new_docs])    \n",
    "    answer = hpo_assignment.batch(docs)\n",
    "    return {\"final answer\": answer, \"docs\": intermediate_results}"
   ]
  },
  {
   "cell_type": "code",
   "execution_count": 42,
   "metadata": {},
   "outputs": [],
   "source": [
    "import importlib\n",
    "import utils.customchain as cc\n",
    "custom_chain = cc.custom_chain"
   ]
  },
  {
   "cell_type": "code",
   "execution_count": 43,
   "metadata": {},
   "outputs": [],
   "source": [
    "from langfuse.callback import CallbackHandler\n",
    "langfuse_handler = CallbackHandler(\n",
    "    public_key=\"pk-lf-4c4b9492-d7ca-4f6d-b7af-325ea09726c0\",\n",
    "    secret_key=\"sk-lf-1b2e42c8-bf1e-4150-bf36-fce439ad2270\",\n",
    "    host=\"http://localhost:3000\"\n",
    ")"
   ]
  },
  {
   "cell_type": "code",
   "execution_count": 44,
   "metadata": {},
   "outputs": [],
   "source": [
    "answer = custom_chain.invoke({\"clinical_note\":clinical_note})"
   ]
  },
  {
   "cell_type": "code",
   "execution_count": 45,
   "metadata": {},
   "outputs": [],
   "source": [
    "answer = custom_chain.with_config(\n",
    "    {\n",
    "        \"run_name\": \"fuzzy matching\",\n",
    "        \"metadata\": {\"version\": \"v1\", \"owner\": \"mdiazrio\"},\n",
    "        \"callbacks\": [langfuse_handler]\n",
    "    }\n",
    ").invoke({\"clinical_note\":clinical_note})"
   ]
  },
  {
   "cell_type": "markdown",
   "metadata": {},
   "source": [
    "Raw GPT"
   ]
  },
  {
   "cell_type": "code",
   "execution_count": null,
   "metadata": {},
   "outputs": [],
   "source": [
    "system = \"\"\"Eres una herramienta que sirve para extraer fenotipos de la ontología Human Phenotype Ontolgy a partir de notas clínicas para ello: \n",
    "1. A partir del siguiente texto clínico, identifica todos los fenotipos clínicos relevantes, incluyendo diagnósticos, síntomas, signos físicos y hallazgos de laboratorio. \n",
    "2. Ignora por completo los hallazgos negativos, los hallazgos normales (es decir, «normal» o «no»), los procedimientos y los antecedentes familiares. \n",
    "3. Si algún valor incluye de forma implícita un fenotipo, infiérelo y menciónalo como tal.\n",
    "4. Para cada término, asigna el código HPO apropiado. \n",
    "Devuelve un JSON con la llave \"final_answer\" y el listado de códigos HPO detectados.\n",
    "\"\"\"\n",
    "prompt = ChatPromptTemplate.from_messages(\n",
    "    [\n",
    "        (\"system\", system),\n",
    "        (\"human\", \"{clinical_note}\"),\n",
    "    ]\n",
    ")"
   ]
  },
  {
   "cell_type": "code",
   "execution_count": 24,
   "metadata": {},
   "outputs": [],
   "source": [
    "import json\n",
    "from langchain_core.runnables import chain\n",
    "\n",
    "init_chain = prompt | llm\n",
    "\n",
    "@chain\n",
    "def rawgptchain(question):\n",
    "    response = init_chain.invoke(question)\n",
    "    return json.loads(response.content)"
   ]
  },
  {
   "cell_type": "code",
   "execution_count": 31,
   "metadata": {},
   "outputs": [],
   "source": [
    "import sys\n",
    "sys.path.append('../utils')\n",
    "import importlib\n",
    "import rawgptchain as rgp"
   ]
  },
  {
   "cell_type": "code",
   "execution_count": 55,
   "metadata": {},
   "outputs": [],
   "source": [
    "importlib.reload(rgp)\n",
    "rawgptchain = rgp.rawgptchain"
   ]
  },
  {
   "cell_type": "code",
   "execution_count": 56,
   "metadata": {},
   "outputs": [],
   "source": [
    "response = rawgptchain.with_config({\"callbacks\": [langfuse_handler]}).invoke({\"clinical_note\":clinical_note})"
   ]
  },
  {
   "cell_type": "markdown",
   "metadata": {},
   "source": [
    "FlashRank"
   ]
  },
  {
   "cell_type": "code",
   "execution_count": 10,
   "metadata": {},
   "outputs": [],
   "source": [
    "from langchain.retrievers import ContextualCompressionRetriever\n",
    "from langchain.retrievers.document_compressors import FlashrankRerank"
   ]
  },
  {
   "cell_type": "code",
   "execution_count": 11,
   "metadata": {},
   "outputs": [],
   "source": [
    "from flashrank import Ranker \n",
    "\n",
    "ranker = Ranker(model_name=\"ms-marco-MiniLM-L-12-v2\")"
   ]
  },
  {
   "cell_type": "code",
   "execution_count": 16,
   "metadata": {},
   "outputs": [],
   "source": [
    "compressor = FlashrankRerank()\n",
    "compression_retriever = ContextualCompressionRetriever(\n",
    "    base_compressor=compressor, base_retriever=retriever\n",
    ")"
   ]
  },
  {
   "cell_type": "code",
   "execution_count": 17,
   "metadata": {},
   "outputs": [
    {
     "data": {
      "text/plain": [
       "[Document(metadata={'id': 8, 'relevance_score': 0.9918292, 'hpo_id': 'HP:0006780', 'lineage': 'HP:0100733->HP:0000818->HP:0011766->HP:0000828->HP:0100568->HP:0002664->HP:0011793->HP:0000118'}, page_content='Carcinoma de paratiroides. Tumor maligno de las glándulas paratiroides. El carcinoma paratiroideo suele segregar hormona paratiroidea, lo que provoca hiperparatiroidismo.'),\n",
       " Document(metadata={'id': 4, 'relevance_score': 0.78583723, 'hpo_id': 'HP:0100031', 'lineage': 'HP:0000820->HP:0000818->HP:0100568->HP:0002664->HP:0011793->HP:0000118->HP:0011772'}, page_content='Neoplasia del tiroides. Tumor (crecimiento anormal de tejido) de la glándula tiroides.'),\n",
       " Document(metadata={'id': 1, 'relevance_score': 0.60732955, 'hpo_id': 'HP:0011779', 'lineage': 'HP:0002890->HP:0100031->HP:0000820->HP:0000818->HP:0100568->HP:0002664->HP:0011793->HP:0000118->HP:0011772'}, page_content='Carcinoma anaplásico de tiroides.')]"
      ]
     },
     "execution_count": 17,
     "metadata": {},
     "output_type": "execute_result"
    }
   ],
   "source": [
    "compression_retriever.invoke(context)"
   ]
  },
  {
   "cell_type": "code",
   "execution_count": 18,
   "metadata": {},
   "outputs": [],
   "source": [
    "reranked_docs = []\n",
    "for context in [c.context for c in answer.candidates]:\n",
    "    reranked_docs.append(compression_retriever.invoke(context))"
   ]
  },
  {
   "cell_type": "code",
   "execution_count": 19,
   "metadata": {},
   "outputs": [
    {
     "data": {
      "text/plain": [
       "[[Document(metadata={'id': 5, 'relevance_score': 0.99929035, 'hpo_id': 'HP:0045081', 'lineage': 'HP:0004323->HP:0001507->HP:0000118'}, page_content='Anomalía del índice de masa corporal. Anomalía en la relación peso/altura al cuadrado, calculada dividiendo el peso del individuo en kilogramos por el cuadrado de la altura del individuo en metros y utilizada como indicador de obesidad e insuficiencia ponderal en comparación con las medias.'),\n",
       "  Document(metadata={'id': 6, 'relevance_score': 0.99896955, 'hpo_id': 'HP:0031418', 'lineage': 'HP:0045081->HP:0004323->HP:0001507->HP:0000118'}, page_content='Aumento del índice de masa corporal. Relación peso/altura al cuadrado anormalmente elevada, calculada dividiendo el peso del individuo en kilogramos por el cuadrado de la altura del individuo en metros y utilizada como indicador de sobrepeso en comparación con las medias.'),\n",
       "  Document(metadata={'id': 0, 'relevance_score': 0.99863136, 'hpo_id': 'HP:6000179', 'lineage': 'HP:0430103->HP:0032443'}, page_content='Antecedente de cirugía de bypass gástrico. Antecedentes de haber recibido cirugía de bypass gástrico. Se trata de un procedimiento que reduce el volumen funcional del estómago y se utiliza para tratar la obesidad mórbida.')],\n",
       " [Document(metadata={'id': 0, 'relevance_score': 0.9993668, 'hpo_id': 'HP:0033769', 'lineage': 'HP:0006753->HP:0012718->HP:0002577->HP:0000118->HP:0034930->HP:0025033->HP:0007378->HP:0011024->HP:0002664->HP:0011793->HP:0025031'}, page_content='Poliposis de las glándulas fúndicas. Múltiples pólipos en la mucosa secretora de ácido del cuerpo gástrico y el fundus. Los pólipos de la glándula fúndica (PGF) suelen tener un tamaño de 1 a 5 mm, aunque se han encontrado pólipos de mayor tamaño. Suelen ser sésiles, brillantes, translúcidos, de color pálido a rosado (parecido al de la mucosa circundante) y a menudo presentan pequeños vasos sanguíneos superficiales. Se ha observado que, a diferencia de otros tipos de pólipos gástricos, estos pólipos se astillan o se desprenden por completo de la base cuando se extraen con pinzas frías.'),\n",
       "  Document(metadata={'id': 3, 'relevance_score': 0.99793226, 'hpo_id': 'HP:0005227', 'lineage': 'HP:0030255->HP:0200008->HP:0012718->HP:0025031->HP:0034930->HP:0025033->HP:0007378->HP:0100834->HP:0011024->HP:0002664->HP:0100273->HP:0002242->HP:0011793->HP:0000118->HP:0005266->HP:0002250'}, page_content='Poliposis colónica adenomatosa. Presencia de múltiples pólipos adenomatosos en el colon.'),\n",
       "  Document(metadata={'id': 5, 'relevance_score': 0.99733937, 'hpo_id': 'HP:0005218', 'lineage': 'HP:0004378->HP:0100589->HP:0012718->HP:0025031->HP:0000119->HP:0010447->HP:0025033->HP:0100819->HP:0011024->HP:0002242->HP:0034915->HP:0000118->HP:0004871'}, page_content='Fístula anoperineal. Presencia de una fístula (túnel anormal) entre el canal anal y el perineo.')],\n",
       " [Document(metadata={'id': 5, 'relevance_score': 0.9992838, 'hpo_id': 'HP:0033116', 'lineage': 'HP:0002246->HP:0002244->HP:0002242->HP:0012718->HP:0011024->HP:0025031->HP:0000118->HP:0025033'}, page_content='Metaplasia gástrica duodenal. Focos de células secretoras de moco de tipo gástrico intercalados entre los enterocitos duodenales. Estos focos de células epiteliales gástricas contienen mucina neutra positiva al ácido periódico de Schiff (PAS) y carecen de borde en cepillo.'),\n",
       "  Document(metadata={'id': 0, 'relevance_score': 0.9988343, 'hpo_id': 'HP:0033769', 'lineage': 'HP:0006753->HP:0012718->HP:0002577->HP:0000118->HP:0034930->HP:0025033->HP:0007378->HP:0011024->HP:0002664->HP:0011793->HP:0025031'}, page_content='Poliposis de las glándulas fúndicas. Múltiples pólipos en la mucosa secretora de ácido del cuerpo gástrico y el fundus. Los pólipos de la glándula fúndica (PGF) suelen tener un tamaño de 1 a 5 mm, aunque se han encontrado pólipos de mayor tamaño. Suelen ser sésiles, brillantes, translúcidos, de color pálido a rosado (parecido al de la mucosa circundante) y a menudo presentan pequeños vasos sanguíneos superficiales. Se ha observado que, a diferencia de otros tipos de pólipos gástricos, estos pólipos se astillan o se desprenden por completo de la base cuando se extraen con pinzas frías.'),\n",
       "  Document(metadata={'id': 2, 'relevance_score': 0.9982876, 'hpo_id': 'HP:0004390', 'lineage': 'HP:0012718->HP:0011792->HP:0010566->HP:0025031->HP:0034930->HP:0025033->HP:0007378->HP:0011024->HP:0002664->HP:0002242->HP:0011793->HP:0000118->HP:0005266'}, page_content='Pólipos hamartomatosos. Protuberancias similares a pólipos que histológicamente son hamartomas. Pueden aparecer en todo el tracto gastrointestinal. Los pólipos hamartomatosos están compuestos por los elementos celulares normales del tracto gastrointestinal, pero tienen una arquitectura marcadamente distorsionada.')],\n",
       " [Document(metadata={'id': 0, 'relevance_score': 0.9996025, 'hpo_id': 'HP:0100580', 'lineage': 'HP:0100751->HP:0012718->HP:0002031->HP:0012288->HP:0000118->HP:0034930->HP:0025033->HP:0007378->HP:0011024->HP:0002664->HP:0011793->HP:0025031'}, page_content='Esófago de Barrett. Cambio anormal (metaplasia) en las células de la porción inferior del esófago. El epitelio escamoso normal que recubre el esófago es sustituido por epitelio columnar metaplásico. El epitelio columnar es un tipo de célula que suele encontrarse en las partes más distales del sistema gastrointestinal.'),\n",
       "  Document(metadata={'id': 9, 'relevance_score': 0.9977775, 'hpo_id': 'HP:0100681', 'lineage': 'HP:0012718->HP:0002031->HP:0011140->HP:0000118->HP:0025033->HP:0011024->HP:0025031'}, page_content='Duplicación esofágica. Trastorno del desarrollo en el que existe una duplicación de una porción del músculo y la submucosa del esófago sin duplicación epitelial.'),\n",
       "  Document(metadata={'id': 4, 'relevance_score': 0.9975599, 'hpo_id': 'HP:0025270', 'lineage': 'HP:0012719->HP:0011024->HP:0025031->HP:0000118->HP:0025032'}, page_content='Anomalía de la función del esófago. Cualquier anomalía fisiológica del esófago.')],\n",
       " [Document(metadata={'id': 9, 'relevance_score': 0.9994264, 'hpo_id': 'HP:0032216', 'lineage': 'HP:0025090->HP:0002250->HP:0002242->HP:0012718->HP:0011024->HP:0025031->HP:0000118->HP:0025033'}, page_content='Infiltración linfocítica de la mucosa colorrectal. Aumento anormal del recuento de linfocitos intraepiteliales. Este hallazgo puede apreciarse como un gran número de linfocitos intraepiteliales superficiales, como se observa (por ejemplo) con la tinción de hematoxilina y eosina de una muestra de biopsia de colon tomada durante una colonoscopia.'),\n",
       "  Document(metadata={'id': 6, 'relevance_score': 0.9993897, 'hpo_id': 'HP:0032222', 'lineage': 'HP:0200008->HP:0005266->HP:0012718->HP:0000118->HP:0034930->HP:0025033->HP:0007378->HP:0011024->HP:0002664->HP:0002242->HP:0011793->HP:0025031'}, page_content='Pólipos intestinales serrados. Presencia de múltiples pólipos dentados en el intestino. A diferencia de los adenomas convencionales, que son uniformemente displásicos, la gran mayoría de las lesiones serradas no contienen displasia. La clase serrada incluye los pólipos hiperplásicos, que no se consideran precancerosos; los pólipos serrados sésiles (también llamados adenomas serrados sésiles); y los adenomas serrados tradicionales. Los pólipos serrados sésiles son más grandes por término medio y se localizan con más frecuencia en el colon proximal. En comparación con los pólipos hiperplásicos, los pólipos dentados sésiles tienen una superficie más irregular, un patrón en la superficie que se ha denominado nuboso y bordes indistintos. Los pólipos dentados sésiles también presentan grandes fosetas abiertas en la superficie (fosetas de tipo O) cuando se observan con aumento.'),\n",
       "  Document(metadata={'id': 1, 'relevance_score': 0.9993623, 'hpo_id': 'HP:0200063', 'lineage': 'HP:0030255->HP:0034930->HP:0025033->HP:0007378->HP:0100834->HP:0011024->HP:0012732->HP:0002242->HP:0100743->HP:0011793->HP:0200008->HP:0005266->HP:0012718->HP:0002034->HP:0000118->HP:0002664->HP:0025031->HP:0002250'}, page_content='Pólipos colorrectales. Múltiples crecimientos anormales que surgen del revestimiento del intestino grueso (colon o recto) y sobresalen en la luz intestinal.')],\n",
       " [Document(metadata={'id': 1, 'relevance_score': 0.9993928, 'hpo_id': 'HP:0034945', 'lineage': 'HP:0000035->HP:0000032->HP:0000811->HP:0000119->HP:0010461->HP:0012243->HP:0000118->HP:0000078'}, page_content='Refuerzo peribronquial. Las sombras tubulares se caracterizan por una ausencia total de células en los túbulos testiculares, lo que significa que tanto las células germinales como las células de Sertoli somáticas están ausentes. Las células han sido sustituidas por hialinización.'),\n",
       "  Document(metadata={'id': 5, 'relevance_score': 0.9990973, 'hpo_id': 'HP:0008682', 'lineage': 'HP:0000091->HP:0000077->HP:0012575->HP:0000119->HP:0010935->HP:0032618->HP:0000118->HP:0000079->HP:0012210'}, page_content='Necrosis tubular aguda. Necrosis coagulativa de las células epiteliales tubulares, definida como células con aumento de la eosinofilia citoplasmática y núcleo que presenta un patrón de cromatina condensada con contorno nuclear difuso o tiene tinción basófila nuclear apenas visible. La extensión de la necrosis tubular cortical se puntúa semicuantitativamente como nula, leve (menos del 25% de túbulos con necrosis), moderada (25-50%) y grave (más del 50%).'),\n",
       "  Document(metadata={'id': 9, 'relevance_score': 0.99877524, 'hpo_id': 'HP:0032603', 'lineage': 'HP:0032599->HP:0000091->HP:0012575->HP:0012210->HP:0000077->HP:0010935->HP:0000079->HP:0000119->HP:0000118'}, page_content='Simplificación de células epiteliales tubulares renales. Sección transversal tubular con citoplasma de células tubulares aplanado (altura inequívocamente inferior a la anchura), con pérdida completa del borde en cepillo que afecta a más del 50% de las células tubulares en sección transversal, lo que da lugar a un aumento aparente del tamaño del lumen, sin presencia de cilindros.')],\n",
       " [Document(metadata={'id': 1, 'relevance_score': 0.99933314, 'hpo_id': 'HP:0004795', 'lineage': 'HP:0010566->HP:0034930->HP:0025033->HP:0007378->HP:0011024->HP:0002242->HP:0011793->HP:0005266->HP:0004390->HP:0012718->HP:0011792->HP:0002577->HP:0006753->HP:0002664->HP:0000118->HP:0025031'}, page_content='Pólipos estomacales hamartomatosos. Protuberancias similares a pólipos que histológicamente son hamartomas localizados en el estómago.'),\n",
       "  Document(metadata={'id': 8, 'relevance_score': 0.9992362, 'hpo_id': 'HP:0100896', 'lineage': 'HP:0030255->HP:0034930->HP:0025033->HP:0007378->HP:0100834->HP:0011024->HP:0012732->HP:0002242->HP:0100743->HP:0011793->HP:0200008->HP:0005266->HP:0012718->HP:0002034->HP:0000118->HP:0002664->HP:0025031->HP:0002250'}, page_content='Poliposis rectal. Presencia de múltiples pólipos hiperplásicos/adenomatosos rectales.'),\n",
       "  Document(metadata={'id': 5, 'relevance_score': 0.99920166, 'hpo_id': 'HP:0032222', 'lineage': 'HP:0200008->HP:0005266->HP:0012718->HP:0000118->HP:0034930->HP:0025033->HP:0007378->HP:0011024->HP:0002664->HP:0002242->HP:0011793->HP:0025031'}, page_content='Pólipos intestinales serrados. Presencia de múltiples pólipos dentados en el intestino. A diferencia de los adenomas convencionales, que son uniformemente displásicos, la gran mayoría de las lesiones serradas no contienen displasia. La clase serrada incluye los pólipos hiperplásicos, que no se consideran precancerosos; los pólipos serrados sésiles (también llamados adenomas serrados sésiles); y los adenomas serrados tradicionales. Los pólipos serrados sésiles son más grandes por término medio y se localizan con más frecuencia en el colon proximal. En comparación con los pólipos hiperplásicos, los pólipos dentados sésiles tienen una superficie más irregular, un patrón en la superficie que se ha denominado nuboso y bordes indistintos. Los pólipos dentados sésiles también presentan grandes fosetas abiertas en la superficie (fosetas de tipo O) cuando se observan con aumento.')],\n",
       " [Document(metadata={'id': 6, 'relevance_score': 0.99901974, 'hpo_id': 'HP:0100016', 'lineage': 'HP:0002012->HP:0025031->HP:0000118'}, page_content='Anomalía del mesenterio. Pliegues de tejido membranoso (peritoneo, mesotelio) adheridos a la pared del abdomen y que envuelven las vísceras. Algunos ejemplos son el mesenterio del intestino delgado; el mesocolon transverso, que une la porción transversal del colon a la pared posterior del abdomen; y el mesosigmoide, que envuelve la porción sigmoidea del colon. Células del mismo origen embriológico rodean también otros órganos del cuerpo, como los pulmones (pleura) o el corazón (pericardio).'),\n",
       "  Document(metadata={'id': 2, 'relevance_score': 0.9986582, 'hpo_id': 'HP:0033822', 'lineage': 'HP:0031983->HP:0012252->HP:0002795->HP:0002086->HP:0000118'}, page_content='Masa en imagen torácica. Una masa es cualquier lesión pulmonar, pleural o mediastínica observada en las radiografías de tórax como una opacidad de más de 3 cm de diámetro (sin tener en cuenta las características de contorno, borde o densidad). Masa suele implicar una opacidad sólida o parcialmente sólida. La TC permite una evaluación más exacta del tamaño, la localización, la atenuación y otras características.'),\n",
       "  Document(metadata={'id': 5, 'relevance_score': 0.99783415, 'hpo_id': 'HP:6000628', 'lineage': 'HP:0410042->HP:0001392->HP:0002012->HP:0025031->HP:0000118'}, page_content='Aspecto festoneado de la superficie del hígado. Una lesión asociada al pseudomixoma peritonei cuyo aspecto típico en TC es el festoneado de la superficie del hígado y el bazo causado por acumulaciones localizadas de mucina, que la distingue de la ascitis fluida. El material mucinoso tiene una densidad similar a la del agua. También hay islas de mayor atenuación debidas a elementos sólidos dispersos y calcificación dentro del material mucinoso.')],\n",
       " [Document(metadata={'id': 5, 'relevance_score': 0.998585, 'hpo_id': 'HP:0430133', 'lineage': 'HP:4000110->HP:0032443'}, page_content='Antecedentes de consumo de tabaco. Antecedentes de consumo de productos del tabaco, como cigarrillos.'),\n",
       "  Document(metadata={'id': 0, 'relevance_score': 0.9950787, 'hpo_id': 'HP:0032317', 'lineage': 'HP:0032316->HP:0032443'}, page_content='Antecedentes familiares de cáncer. Un pariente cercano tenía cáncer.'),\n",
       "  Document(metadata={'id': 3, 'relevance_score': 0.7186346, 'hpo_id': 'HP:0003003', 'lineage': 'HP:0100273->HP:0100834->HP:0012718->HP:0000118->HP:0034930->HP:0025033->HP:0007378->HP:0011024->HP:0002664->HP:0002242->HP:0011793->HP:0025031->HP:0002250'}, page_content='Cáncer de colon.')],\n",
       " [Document(metadata={'id': 7, 'relevance_score': 0.9224812, 'hpo_id': 'HP:0006716', 'lineage': 'HP:0006749->HP:0034930->HP:0025033->HP:0007378->HP:0100834->HP:0011024->HP:0002242->HP:0011793->HP:0002672->HP:0012718->HP:0002664->HP:0000118->HP:0025031->HP:0002250'}, page_content='Carcinoma colorrectal sin poliposis hereditaria.'),\n",
       "  Document(metadata={'id': 6, 'relevance_score': 0.8191344, 'hpo_id': 'HP:0030079', 'lineage': 'HP:0032241->HP:0000812->HP:0011793->HP:0012243->HP:0000130->HP:0000078->HP:0007379->HP:0012888->HP:0000008->HP:0000119->HP:0002664->HP:0010460->HP:0000118'}, page_content='Cáncer de cuello uterino. Un tumor del cuello uterino.'),\n",
       "  Document(metadata={'id': 0, 'relevance_score': 0.57819754, 'hpo_id': 'HP:0032317', 'lineage': 'HP:0032316->HP:0032443'}, page_content='Antecedentes familiares de cáncer. Un pariente cercano tenía cáncer.')],\n",
       " [Document(metadata={'id': 8, 'relevance_score': 0.9918292, 'hpo_id': 'HP:0006780', 'lineage': 'HP:0100733->HP:0000818->HP:0011766->HP:0000828->HP:0100568->HP:0002664->HP:0011793->HP:0000118'}, page_content='Carcinoma de paratiroides. Tumor maligno de las glándulas paratiroides. El carcinoma paratiroideo suele segregar hormona paratiroidea, lo que provoca hiperparatiroidismo.'),\n",
       "  Document(metadata={'id': 4, 'relevance_score': 0.78583723, 'hpo_id': 'HP:0100031', 'lineage': 'HP:0000820->HP:0000818->HP:0100568->HP:0002664->HP:0011793->HP:0000118->HP:0011772'}, page_content='Neoplasia del tiroides. Tumor (crecimiento anormal de tejido) de la glándula tiroides.'),\n",
       "  Document(metadata={'id': 1, 'relevance_score': 0.60732955, 'hpo_id': 'HP:0011779', 'lineage': 'HP:0002890->HP:0100031->HP:0000820->HP:0000818->HP:0100568->HP:0002664->HP:0011793->HP:0000118->HP:0011772'}, page_content='Carcinoma anaplásico de tiroides.')]]"
      ]
     },
     "execution_count": 19,
     "metadata": {},
     "output_type": "execute_result"
    }
   ],
   "source": [
    "reranked_docs"
   ]
  }
 ],
 "metadata": {
  "kernelspec": {
   "display_name": ".venv",
   "language": "python",
   "name": "python3"
  },
  "language_info": {
   "codemirror_mode": {
    "name": "ipython",
    "version": 3
   },
   "file_extension": ".py",
   "mimetype": "text/x-python",
   "name": "python",
   "nbconvert_exporter": "python",
   "pygments_lexer": "ipython3",
   "version": "3.11.6"
  }
 },
 "nbformat": 4,
 "nbformat_minor": 2
}
